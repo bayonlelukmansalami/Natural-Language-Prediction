{
 "cells": [
  {
   "cell_type": "code",
   "execution_count": 2,
   "id": "7651e17c",
   "metadata": {},
   "outputs": [],
   "source": [
    "import pandas as pd\n",
    "import numpy as np\n",
    "import matplotlib.pyplot as plt\n",
    "from nltk.tokenize import word_tokenize, regexp_tokenize\n",
    "import re\n",
    "import spacy\n",
    "from sklearn.feature_extraction.text import CountVectorizer, TfidfVectorizer\n",
    "from sklearn.model_selection import train_test_split\n",
    "from sklearn.naive_bayes import MultinomialNB\n",
    "from sklearn.linear_model import SGDClassifier, LogisticRegression\n",
    "from sklearn.neural_network import MLPClassifier\n",
    "from catboost import CatBoostClassifier\n",
    "from sklearn import metrics\n",
    "from sklearn.preprocessing import LabelEncoder\n",
    "from sklearn.model_selection import GridSearchCV, RandomizedSearchCV\n",
    "import warnings\n",
    "warnings.filterwarnings('ignore')\n",
    "from textatistic import Textatistic\n",
    "#for pytorch\n",
    "import torch\n",
    "import torch.nn as nn\n",
    "device = torch.device(\"cuda\" if torch.cuda.is_available() else \"cpu\")\n",
    "\n",
    "#for BERT\n",
    "import transformers\n",
    "from transformers import AutoModel, BertTokenizerFast"
   ]
  },
  {
   "cell_type": "code",
   "execution_count": 3,
   "id": "c86dc5ab",
   "metadata": {},
   "outputs": [
    {
     "data": {
      "text/html": [
       "<div>\n",
       "<style scoped>\n",
       "    .dataframe tbody tr th:only-of-type {\n",
       "        vertical-align: middle;\n",
       "    }\n",
       "\n",
       "    .dataframe tbody tr th {\n",
       "        vertical-align: top;\n",
       "    }\n",
       "\n",
       "    .dataframe thead th {\n",
       "        text-align: right;\n",
       "    }\n",
       "</style>\n",
       "<table border=\"1\" class=\"dataframe\">\n",
       "  <thead>\n",
       "    <tr style=\"text-align: right;\">\n",
       "      <th></th>\n",
       "      <th>id</th>\n",
       "      <th>keyword</th>\n",
       "      <th>location</th>\n",
       "      <th>text</th>\n",
       "      <th>target</th>\n",
       "    </tr>\n",
       "  </thead>\n",
       "  <tbody>\n",
       "    <tr>\n",
       "      <th>0</th>\n",
       "      <td>1</td>\n",
       "      <td>NaN</td>\n",
       "      <td>NaN</td>\n",
       "      <td>Our Deeds are the Reason of this #earthquake M...</td>\n",
       "      <td>1</td>\n",
       "    </tr>\n",
       "    <tr>\n",
       "      <th>1</th>\n",
       "      <td>4</td>\n",
       "      <td>NaN</td>\n",
       "      <td>NaN</td>\n",
       "      <td>Forest fire near La Ronge Sask. Canada</td>\n",
       "      <td>1</td>\n",
       "    </tr>\n",
       "    <tr>\n",
       "      <th>2</th>\n",
       "      <td>5</td>\n",
       "      <td>NaN</td>\n",
       "      <td>NaN</td>\n",
       "      <td>All residents asked to 'shelter in place' are ...</td>\n",
       "      <td>1</td>\n",
       "    </tr>\n",
       "    <tr>\n",
       "      <th>3</th>\n",
       "      <td>6</td>\n",
       "      <td>NaN</td>\n",
       "      <td>NaN</td>\n",
       "      <td>13,000 people receive #wildfires evacuation or...</td>\n",
       "      <td>1</td>\n",
       "    </tr>\n",
       "    <tr>\n",
       "      <th>4</th>\n",
       "      <td>7</td>\n",
       "      <td>NaN</td>\n",
       "      <td>NaN</td>\n",
       "      <td>Just got sent this photo from Ruby #Alaska as ...</td>\n",
       "      <td>1</td>\n",
       "    </tr>\n",
       "  </tbody>\n",
       "</table>\n",
       "</div>"
      ],
      "text/plain": [
       "   id keyword location                                               text  target\n",
       "0   1     NaN      NaN  Our Deeds are the Reason of this #earthquake M...       1\n",
       "1   4     NaN      NaN             Forest fire near La Ronge Sask. Canada       1\n",
       "2   5     NaN      NaN  All residents asked to 'shelter in place' are ...       1\n",
       "3   6     NaN      NaN  13,000 people receive #wildfires evacuation or...       1\n",
       "4   7     NaN      NaN  Just got sent this photo from Ruby #Alaska as ...       1"
      ]
     },
     "execution_count": 3,
     "metadata": {},
     "output_type": "execute_result"
    }
   ],
   "source": [
    "train = pd.read_csv('train.csv')\n",
    "train.head()"
   ]
  },
  {
   "cell_type": "code",
   "execution_count": 4,
   "id": "85acc586",
   "metadata": {},
   "outputs": [
    {
     "data": {
      "text/plain": [
       "target\n",
       "0    4342\n",
       "1    3271\n",
       "Name: count, dtype: int64"
      ]
     },
     "execution_count": 4,
     "metadata": {},
     "output_type": "execute_result"
    }
   ],
   "source": [
    "train['target'].value_counts()"
   ]
  },
  {
   "cell_type": "code",
   "execution_count": 5,
   "id": "ef8a48b3",
   "metadata": {},
   "outputs": [
    {
     "data": {
      "text/html": [
       "<div>\n",
       "<style scoped>\n",
       "    .dataframe tbody tr th:only-of-type {\n",
       "        vertical-align: middle;\n",
       "    }\n",
       "\n",
       "    .dataframe tbody tr th {\n",
       "        vertical-align: top;\n",
       "    }\n",
       "\n",
       "    .dataframe thead th {\n",
       "        text-align: right;\n",
       "    }\n",
       "</style>\n",
       "<table border=\"1\" class=\"dataframe\">\n",
       "  <thead>\n",
       "    <tr style=\"text-align: right;\">\n",
       "      <th></th>\n",
       "      <th>id</th>\n",
       "      <th>keyword</th>\n",
       "      <th>location</th>\n",
       "      <th>text</th>\n",
       "    </tr>\n",
       "  </thead>\n",
       "  <tbody>\n",
       "    <tr>\n",
       "      <th>0</th>\n",
       "      <td>0</td>\n",
       "      <td>NaN</td>\n",
       "      <td>NaN</td>\n",
       "      <td>Just happened a terrible car crash</td>\n",
       "    </tr>\n",
       "    <tr>\n",
       "      <th>1</th>\n",
       "      <td>2</td>\n",
       "      <td>NaN</td>\n",
       "      <td>NaN</td>\n",
       "      <td>Heard about #earthquake is different cities, s...</td>\n",
       "    </tr>\n",
       "    <tr>\n",
       "      <th>2</th>\n",
       "      <td>3</td>\n",
       "      <td>NaN</td>\n",
       "      <td>NaN</td>\n",
       "      <td>there is a forest fire at spot pond, geese are...</td>\n",
       "    </tr>\n",
       "    <tr>\n",
       "      <th>3</th>\n",
       "      <td>9</td>\n",
       "      <td>NaN</td>\n",
       "      <td>NaN</td>\n",
       "      <td>Apocalypse lighting. #Spokane #wildfires</td>\n",
       "    </tr>\n",
       "    <tr>\n",
       "      <th>4</th>\n",
       "      <td>11</td>\n",
       "      <td>NaN</td>\n",
       "      <td>NaN</td>\n",
       "      <td>Typhoon Soudelor kills 28 in China and Taiwan</td>\n",
       "    </tr>\n",
       "  </tbody>\n",
       "</table>\n",
       "</div>"
      ],
      "text/plain": [
       "   id keyword location                                               text\n",
       "0   0     NaN      NaN                 Just happened a terrible car crash\n",
       "1   2     NaN      NaN  Heard about #earthquake is different cities, s...\n",
       "2   3     NaN      NaN  there is a forest fire at spot pond, geese are...\n",
       "3   9     NaN      NaN           Apocalypse lighting. #Spokane #wildfires\n",
       "4  11     NaN      NaN      Typhoon Soudelor kills 28 in China and Taiwan"
      ]
     },
     "execution_count": 5,
     "metadata": {},
     "output_type": "execute_result"
    }
   ],
   "source": [
    "test = pd.read_csv('test.csv')\n",
    "test.head()"
   ]
  },
  {
   "cell_type": "code",
   "execution_count": 6,
   "id": "fa6a04d1",
   "metadata": {},
   "outputs": [
    {
     "name": "stdout",
     "output_type": "stream",
     "text": [
      "<class 'pandas.core.frame.DataFrame'>\n",
      "RangeIndex: 7613 entries, 0 to 7612\n",
      "Data columns (total 5 columns):\n",
      " #   Column    Non-Null Count  Dtype \n",
      "---  ------    --------------  ----- \n",
      " 0   id        7613 non-null   int64 \n",
      " 1   keyword   7552 non-null   object\n",
      " 2   location  5080 non-null   object\n",
      " 3   text      7613 non-null   object\n",
      " 4   target    7613 non-null   int64 \n",
      "dtypes: int64(2), object(3)\n",
      "memory usage: 297.5+ KB\n"
     ]
    }
   ],
   "source": [
    "train.info()"
   ]
  },
  {
   "cell_type": "code",
   "execution_count": 7,
   "id": "50f9e63a",
   "metadata": {},
   "outputs": [
    {
     "data": {
      "text/plain": [
       "keyword\n",
       "fatalities               45\n",
       "deluge                   42\n",
       "armageddon               42\n",
       "sinking                  41\n",
       "damage                   41\n",
       "                         ..\n",
       "forest%20fire            19\n",
       "epicentre                12\n",
       "threat                   11\n",
       "inundation               10\n",
       "radiation%20emergency     9\n",
       "Name: count, Length: 221, dtype: int64"
      ]
     },
     "execution_count": 7,
     "metadata": {},
     "output_type": "execute_result"
    }
   ],
   "source": [
    "train['keyword'].value_counts()"
   ]
  },
  {
   "cell_type": "code",
   "execution_count": 8,
   "id": "2acf68ce",
   "metadata": {},
   "outputs": [
    {
     "data": {
      "text/plain": [
       "location\n",
       "USA                    104\n",
       "New York                71\n",
       "United States           50\n",
       "London                  45\n",
       "Canada                  29\n",
       "                      ... \n",
       "MontrÌ©al, QuÌ©bec       1\n",
       "Montreal                 1\n",
       "ÌÏT: 6.4682,3.18287      1\n",
       "Live4Heed??              1\n",
       "Lincoln                  1\n",
       "Name: count, Length: 3341, dtype: int64"
      ]
     },
     "execution_count": 8,
     "metadata": {},
     "output_type": "execute_result"
    }
   ],
   "source": [
    "train['location'].value_counts()"
   ]
  },
  {
   "cell_type": "markdown",
   "id": "5305f5ed",
   "metadata": {},
   "source": [
    "### Set up Spacy as nlp"
   ]
  },
  {
   "cell_type": "code",
   "execution_count": 9,
   "id": "b589c21e",
   "metadata": {},
   "outputs": [],
   "source": [
    "nlp = spacy.load(\"en_core_web_sm\")\n",
    "stopwords = spacy.lang.en.stop_words.STOP_WORDS"
   ]
  },
  {
   "cell_type": "markdown",
   "id": "675f8bea",
   "metadata": {},
   "source": [
    "### To clean the text column"
   ]
  },
  {
   "cell_type": "code",
   "execution_count": 10,
   "id": "bbaa1b15",
   "metadata": {},
   "outputs": [
    {
     "data": {
      "text/html": [
       "<div>\n",
       "<style scoped>\n",
       "    .dataframe tbody tr th:only-of-type {\n",
       "        vertical-align: middle;\n",
       "    }\n",
       "\n",
       "    .dataframe tbody tr th {\n",
       "        vertical-align: top;\n",
       "    }\n",
       "\n",
       "    .dataframe thead th {\n",
       "        text-align: right;\n",
       "    }\n",
       "</style>\n",
       "<table border=\"1\" class=\"dataframe\">\n",
       "  <thead>\n",
       "    <tr style=\"text-align: right;\">\n",
       "      <th></th>\n",
       "      <th>id</th>\n",
       "      <th>keyword</th>\n",
       "      <th>location</th>\n",
       "      <th>text</th>\n",
       "      <th>target</th>\n",
       "      <th>text_cleaned</th>\n",
       "    </tr>\n",
       "  </thead>\n",
       "  <tbody>\n",
       "    <tr>\n",
       "      <th>0</th>\n",
       "      <td>1</td>\n",
       "      <td>NaN</td>\n",
       "      <td>NaN</td>\n",
       "      <td>Our Deeds are the Reason of this #earthquake M...</td>\n",
       "      <td>1</td>\n",
       "      <td>deed reason earthquake may allah forgive</td>\n",
       "    </tr>\n",
       "    <tr>\n",
       "      <th>1</th>\n",
       "      <td>4</td>\n",
       "      <td>NaN</td>\n",
       "      <td>NaN</td>\n",
       "      <td>Forest fire near La Ronge Sask. Canada</td>\n",
       "      <td>1</td>\n",
       "      <td>forest fire near la ronge sask canada</td>\n",
       "    </tr>\n",
       "    <tr>\n",
       "      <th>2</th>\n",
       "      <td>5</td>\n",
       "      <td>NaN</td>\n",
       "      <td>NaN</td>\n",
       "      <td>All residents asked to 'shelter in place' are ...</td>\n",
       "      <td>1</td>\n",
       "      <td>resident ask shelter place notify officer evac...</td>\n",
       "    </tr>\n",
       "    <tr>\n",
       "      <th>3</th>\n",
       "      <td>6</td>\n",
       "      <td>NaN</td>\n",
       "      <td>NaN</td>\n",
       "      <td>13,000 people receive #wildfires evacuation or...</td>\n",
       "      <td>1</td>\n",
       "      <td>people receive wildfire evacuation order calif...</td>\n",
       "    </tr>\n",
       "    <tr>\n",
       "      <th>4</th>\n",
       "      <td>7</td>\n",
       "      <td>NaN</td>\n",
       "      <td>NaN</td>\n",
       "      <td>Just got sent this photo from Ruby #Alaska as ...</td>\n",
       "      <td>1</td>\n",
       "      <td>send photo ruby alaska smoke wildfire pour school</td>\n",
       "    </tr>\n",
       "  </tbody>\n",
       "</table>\n",
       "</div>"
      ],
      "text/plain": [
       "   id keyword  ... target                                       text_cleaned\n",
       "0   1     NaN  ...      1           deed reason earthquake may allah forgive\n",
       "1   4     NaN  ...      1              forest fire near la ronge sask canada\n",
       "2   5     NaN  ...      1  resident ask shelter place notify officer evac...\n",
       "3   6     NaN  ...      1  people receive wildfire evacuation order calif...\n",
       "4   7     NaN  ...      1  send photo ruby alaska smoke wildfire pour school\n",
       "\n",
       "[5 rows x 6 columns]"
      ]
     },
     "execution_count": 10,
     "metadata": {},
     "output_type": "execute_result"
    }
   ],
   "source": [
    "# Function to preprocess text\n",
    "def preprocess(text):\n",
    "    # Create Doc object\n",
    "    doc = nlp(text, disable=['ner', 'parser'])\n",
    "    # Generate lemmas\n",
    "    lemmas = [token.lemma_ for token in doc]\n",
    "    # Remove stopwords and non-alphabetic characters\n",
    "    a_lemmas = [lemma.lower() for lemma in lemmas \n",
    "            if lemma.isalpha() and lemma not in stopwords]\n",
    "    \n",
    "    return ' '.join(a_lemmas)\n",
    "  \n",
    "# Apply preprocess to ted['transcript']\n",
    "train['text_cleaned']  = train['text'].apply(preprocess)\n",
    "train.head()"
   ]
  },
  {
   "cell_type": "code",
   "execution_count": 11,
   "id": "d02666a2",
   "metadata": {},
   "outputs": [
    {
     "data": {
      "text/html": [
       "<div>\n",
       "<style scoped>\n",
       "    .dataframe tbody tr th:only-of-type {\n",
       "        vertical-align: middle;\n",
       "    }\n",
       "\n",
       "    .dataframe tbody tr th {\n",
       "        vertical-align: top;\n",
       "    }\n",
       "\n",
       "    .dataframe thead th {\n",
       "        text-align: right;\n",
       "    }\n",
       "</style>\n",
       "<table border=\"1\" class=\"dataframe\">\n",
       "  <thead>\n",
       "    <tr style=\"text-align: right;\">\n",
       "      <th></th>\n",
       "      <th>text_cleaned</th>\n",
       "      <th>target</th>\n",
       "    </tr>\n",
       "  </thead>\n",
       "  <tbody>\n",
       "    <tr>\n",
       "      <th>0</th>\n",
       "      <td>deed reason earthquake may allah forgive</td>\n",
       "      <td>1</td>\n",
       "    </tr>\n",
       "    <tr>\n",
       "      <th>1</th>\n",
       "      <td>forest fire near la ronge sask canada</td>\n",
       "      <td>1</td>\n",
       "    </tr>\n",
       "    <tr>\n",
       "      <th>2</th>\n",
       "      <td>resident ask shelter place notify officer evac...</td>\n",
       "      <td>1</td>\n",
       "    </tr>\n",
       "    <tr>\n",
       "      <th>3</th>\n",
       "      <td>people receive wildfire evacuation order calif...</td>\n",
       "      <td>1</td>\n",
       "    </tr>\n",
       "    <tr>\n",
       "      <th>4</th>\n",
       "      <td>send photo ruby alaska smoke wildfire pour school</td>\n",
       "      <td>1</td>\n",
       "    </tr>\n",
       "  </tbody>\n",
       "</table>\n",
       "</div>"
      ],
      "text/plain": [
       "                                        text_cleaned  target\n",
       "0           deed reason earthquake may allah forgive       1\n",
       "1              forest fire near la ronge sask canada       1\n",
       "2  resident ask shelter place notify officer evac...       1\n",
       "3  people receive wildfire evacuation order calif...       1\n",
       "4  send photo ruby alaska smoke wildfire pour school       1"
      ]
     },
     "execution_count": 11,
     "metadata": {},
     "output_type": "execute_result"
    }
   ],
   "source": [
    "train1 = train[['text_cleaned', 'target']]\n",
    "train1.head()"
   ]
  },
  {
   "cell_type": "code",
   "execution_count": 12,
   "id": "9136d68b",
   "metadata": {},
   "outputs": [
    {
     "data": {
      "text/html": [
       "<div>\n",
       "<style scoped>\n",
       "    .dataframe tbody tr th:only-of-type {\n",
       "        vertical-align: middle;\n",
       "    }\n",
       "\n",
       "    .dataframe tbody tr th {\n",
       "        vertical-align: top;\n",
       "    }\n",
       "\n",
       "    .dataframe thead th {\n",
       "        text-align: right;\n",
       "    }\n",
       "</style>\n",
       "<table border=\"1\" class=\"dataframe\">\n",
       "  <thead>\n",
       "    <tr style=\"text-align: right;\">\n",
       "      <th></th>\n",
       "      <th>id</th>\n",
       "      <th>keyword</th>\n",
       "      <th>location</th>\n",
       "      <th>text</th>\n",
       "      <th>text_cleaned</th>\n",
       "    </tr>\n",
       "  </thead>\n",
       "  <tbody>\n",
       "    <tr>\n",
       "      <th>0</th>\n",
       "      <td>0</td>\n",
       "      <td>NaN</td>\n",
       "      <td>NaN</td>\n",
       "      <td>Just happened a terrible car crash</td>\n",
       "      <td>happen terrible car crash</td>\n",
       "    </tr>\n",
       "    <tr>\n",
       "      <th>1</th>\n",
       "      <td>2</td>\n",
       "      <td>NaN</td>\n",
       "      <td>NaN</td>\n",
       "      <td>Heard about #earthquake is different cities, s...</td>\n",
       "      <td>hear earthquake different city stay safe</td>\n",
       "    </tr>\n",
       "    <tr>\n",
       "      <th>2</th>\n",
       "      <td>3</td>\n",
       "      <td>NaN</td>\n",
       "      <td>NaN</td>\n",
       "      <td>there is a forest fire at spot pond, geese are...</td>\n",
       "      <td>forest fire spot pond geese flee street i save</td>\n",
       "    </tr>\n",
       "    <tr>\n",
       "      <th>3</th>\n",
       "      <td>9</td>\n",
       "      <td>NaN</td>\n",
       "      <td>NaN</td>\n",
       "      <td>Apocalypse lighting. #Spokane #wildfires</td>\n",
       "      <td>apocalypse lighting spokane wildfire</td>\n",
       "    </tr>\n",
       "    <tr>\n",
       "      <th>4</th>\n",
       "      <td>11</td>\n",
       "      <td>NaN</td>\n",
       "      <td>NaN</td>\n",
       "      <td>Typhoon Soudelor kills 28 in China and Taiwan</td>\n",
       "      <td>typhoon soudelor kill china taiwan</td>\n",
       "    </tr>\n",
       "  </tbody>\n",
       "</table>\n",
       "</div>"
      ],
      "text/plain": [
       "   id keyword  ...                                               text                                    text_cleaned\n",
       "0   0     NaN  ...                 Just happened a terrible car crash                       happen terrible car crash\n",
       "1   2     NaN  ...  Heard about #earthquake is different cities, s...        hear earthquake different city stay safe\n",
       "2   3     NaN  ...  there is a forest fire at spot pond, geese are...  forest fire spot pond geese flee street i save\n",
       "3   9     NaN  ...           Apocalypse lighting. #Spokane #wildfires            apocalypse lighting spokane wildfire\n",
       "4  11     NaN  ...      Typhoon Soudelor kills 28 in China and Taiwan              typhoon soudelor kill china taiwan\n",
       "\n",
       "[5 rows x 5 columns]"
      ]
     },
     "execution_count": 12,
     "metadata": {},
     "output_type": "execute_result"
    }
   ],
   "source": [
    "test['text_cleaned']  = test['text'].apply(preprocess)\n",
    "test.head()"
   ]
  },
  {
   "cell_type": "code",
   "execution_count": 13,
   "id": "57f71be7",
   "metadata": {},
   "outputs": [
    {
     "data": {
      "text/html": [
       "<div>\n",
       "<style scoped>\n",
       "    .dataframe tbody tr th:only-of-type {\n",
       "        vertical-align: middle;\n",
       "    }\n",
       "\n",
       "    .dataframe tbody tr th {\n",
       "        vertical-align: top;\n",
       "    }\n",
       "\n",
       "    .dataframe thead th {\n",
       "        text-align: right;\n",
       "    }\n",
       "</style>\n",
       "<table border=\"1\" class=\"dataframe\">\n",
       "  <thead>\n",
       "    <tr style=\"text-align: right;\">\n",
       "      <th></th>\n",
       "      <th>text_cleaned</th>\n",
       "    </tr>\n",
       "  </thead>\n",
       "  <tbody>\n",
       "    <tr>\n",
       "      <th>0</th>\n",
       "      <td>happen terrible car crash</td>\n",
       "    </tr>\n",
       "    <tr>\n",
       "      <th>1</th>\n",
       "      <td>hear earthquake different city stay safe</td>\n",
       "    </tr>\n",
       "    <tr>\n",
       "      <th>2</th>\n",
       "      <td>forest fire spot pond geese flee street i save</td>\n",
       "    </tr>\n",
       "    <tr>\n",
       "      <th>3</th>\n",
       "      <td>apocalypse lighting spokane wildfire</td>\n",
       "    </tr>\n",
       "    <tr>\n",
       "      <th>4</th>\n",
       "      <td>typhoon soudelor kill china taiwan</td>\n",
       "    </tr>\n",
       "  </tbody>\n",
       "</table>\n",
       "</div>"
      ],
      "text/plain": [
       "                                     text_cleaned\n",
       "0                       happen terrible car crash\n",
       "1        hear earthquake different city stay safe\n",
       "2  forest fire spot pond geese flee street i save\n",
       "3            apocalypse lighting spokane wildfire\n",
       "4              typhoon soudelor kill china taiwan"
      ]
     },
     "execution_count": 13,
     "metadata": {},
     "output_type": "execute_result"
    }
   ],
   "source": [
    "test1 = test[['text_cleaned']]\n",
    "test1.head()"
   ]
  },
  {
   "cell_type": "markdown",
   "id": "7b98a251",
   "metadata": {},
   "source": [
    "#### train1 and test1"
   ]
  },
  {
   "cell_type": "code",
   "execution_count": 14,
   "id": "5767d4f9",
   "metadata": {},
   "outputs": [],
   "source": [
    "X = train1['text_cleaned']\n",
    "y = train1['target']"
   ]
  },
  {
   "cell_type": "code",
   "execution_count": 15,
   "id": "c24d089b",
   "metadata": {},
   "outputs": [
    {
     "name": "stdout",
     "output_type": "stream",
     "text": [
      "(5709,)\n",
      "(1904,)\n",
      "(5709,)\n",
      "(1904,)\n"
     ]
    }
   ],
   "source": [
    "X_train, X_test, y_train, y_test = train_test_split(X, y, test_size=0.25, stratify = y, random_state=0)\n",
    "print(X_train.shape)\n",
    "print(X_test.shape)\n",
    "print(y_train.shape)\n",
    "print(y_test.shape)"
   ]
  },
  {
   "cell_type": "code",
   "execution_count": 16,
   "id": "bcc0ed34",
   "metadata": {},
   "outputs": [
    {
     "data": {
      "text/plain": [
       "pandas.core.series.Series"
      ]
     },
     "execution_count": 16,
     "metadata": {},
     "output_type": "execute_result"
    }
   ],
   "source": [
    "test2 = test1.squeeze()\n",
    "type(test2)"
   ]
  },
  {
   "cell_type": "code",
   "execution_count": 17,
   "id": "3ce93c19",
   "metadata": {},
   "outputs": [],
   "source": [
    "vec1 = CountVectorizer(strip_accents='ascii', stop_words='english', lowercase=True)\n",
    "bow_train = vec1.fit_transform(X_train)\n",
    "bow_test = vec1.transform(X_test)\n",
    "test3 = vec1.transform(test2)"
   ]
  },
  {
   "cell_type": "markdown",
   "id": "80552549",
   "metadata": {},
   "source": [
    "### Using CatBoostClassifier"
   ]
  },
  {
   "cell_type": "code",
   "execution_count": 23,
   "id": "7648ea0c",
   "metadata": {},
   "outputs": [],
   "source": [
    "CatBoostClassifier?"
   ]
  },
  {
   "cell_type": "code",
   "execution_count": 43,
   "id": "8e3a8e50",
   "metadata": {},
   "outputs": [
    {
     "name": "stdout",
     "output_type": "stream",
     "text": [
      "0:\tlearn: 0.6533064\ttotal: 70.2ms\tremaining: 1m 10s\n",
      "1:\tlearn: 0.6221751\ttotal: 145ms\tremaining: 1m 12s\n",
      "2:\tlearn: 0.6017785\ttotal: 219ms\tremaining: 1m 12s\n",
      "3:\tlearn: 0.5846095\ttotal: 298ms\tremaining: 1m 14s\n",
      "4:\tlearn: 0.5719770\ttotal: 378ms\tremaining: 1m 15s\n",
      "5:\tlearn: 0.5625962\ttotal: 452ms\tremaining: 1m 14s\n",
      "6:\tlearn: 0.5496374\ttotal: 534ms\tremaining: 1m 15s\n",
      "7:\tlearn: 0.5422169\ttotal: 613ms\tremaining: 1m 16s\n",
      "8:\tlearn: 0.5330668\ttotal: 686ms\tremaining: 1m 15s\n",
      "9:\tlearn: 0.5190100\ttotal: 766ms\tremaining: 1m 15s\n",
      "10:\tlearn: 0.5048430\ttotal: 849ms\tremaining: 1m 16s\n",
      "11:\tlearn: 0.4923367\ttotal: 921ms\tremaining: 1m 15s\n",
      "12:\tlearn: 0.4827647\ttotal: 999ms\tremaining: 1m 15s\n",
      "13:\tlearn: 0.4744268\ttotal: 1.08s\tremaining: 1m 16s\n",
      "14:\tlearn: 0.4652554\ttotal: 1.15s\tremaining: 1m 15s\n",
      "15:\tlearn: 0.4585209\ttotal: 1.23s\tremaining: 1m 15s\n",
      "16:\tlearn: 0.4519104\ttotal: 1.31s\tremaining: 1m 15s\n",
      "17:\tlearn: 0.4458827\ttotal: 1.38s\tremaining: 1m 15s\n",
      "18:\tlearn: 0.4364912\ttotal: 1.46s\tremaining: 1m 15s\n",
      "19:\tlearn: 0.4305348\ttotal: 1.54s\tremaining: 1m 15s\n",
      "20:\tlearn: 0.4244130\ttotal: 1.61s\tremaining: 1m 14s\n",
      "21:\tlearn: 0.4201267\ttotal: 1.69s\tremaining: 1m 15s\n",
      "22:\tlearn: 0.4160889\ttotal: 1.78s\tremaining: 1m 15s\n",
      "23:\tlearn: 0.4112707\ttotal: 1.86s\tremaining: 1m 15s\n",
      "24:\tlearn: 0.4078364\ttotal: 1.95s\tremaining: 1m 16s\n",
      "25:\tlearn: 0.4010259\ttotal: 2.03s\tremaining: 1m 15s\n",
      "26:\tlearn: 0.3975422\ttotal: 2.1s\tremaining: 1m 15s\n",
      "27:\tlearn: 0.3941971\ttotal: 2.21s\tremaining: 1m 16s\n",
      "28:\tlearn: 0.3887307\ttotal: 2.29s\tremaining: 1m 16s\n",
      "29:\tlearn: 0.3848207\ttotal: 2.36s\tremaining: 1m 16s\n",
      "30:\tlearn: 0.3818092\ttotal: 2.44s\tremaining: 1m 16s\n",
      "31:\tlearn: 0.3761895\ttotal: 2.52s\tremaining: 1m 16s\n",
      "32:\tlearn: 0.3721559\ttotal: 2.59s\tremaining: 1m 15s\n",
      "33:\tlearn: 0.3680581\ttotal: 2.67s\tremaining: 1m 15s\n",
      "34:\tlearn: 0.3652020\ttotal: 2.75s\tremaining: 1m 15s\n",
      "35:\tlearn: 0.3625566\ttotal: 2.83s\tremaining: 1m 15s\n",
      "36:\tlearn: 0.3578584\ttotal: 2.9s\tremaining: 1m 15s\n",
      "37:\tlearn: 0.3537888\ttotal: 2.98s\tremaining: 1m 15s\n",
      "38:\tlearn: 0.3491681\ttotal: 3.05s\tremaining: 1m 15s\n",
      "39:\tlearn: 0.3467775\ttotal: 3.12s\tremaining: 1m 14s\n",
      "40:\tlearn: 0.3443166\ttotal: 3.21s\tremaining: 1m 15s\n",
      "41:\tlearn: 0.3418583\ttotal: 3.28s\tremaining: 1m 14s\n",
      "42:\tlearn: 0.3396338\ttotal: 3.37s\tremaining: 1m 14s\n",
      "43:\tlearn: 0.3363151\ttotal: 3.44s\tremaining: 1m 14s\n",
      "44:\tlearn: 0.3342236\ttotal: 3.52s\tremaining: 1m 14s\n",
      "45:\tlearn: 0.3321745\ttotal: 3.61s\tremaining: 1m 14s\n",
      "46:\tlearn: 0.3285118\ttotal: 3.69s\tremaining: 1m 14s\n",
      "47:\tlearn: 0.3261059\ttotal: 3.76s\tremaining: 1m 14s\n",
      "48:\tlearn: 0.3240832\ttotal: 3.84s\tremaining: 1m 14s\n",
      "49:\tlearn: 0.3222046\ttotal: 3.92s\tremaining: 1m 14s\n",
      "50:\tlearn: 0.3193223\ttotal: 3.99s\tremaining: 1m 14s\n",
      "51:\tlearn: 0.3174949\ttotal: 4.07s\tremaining: 1m 14s\n",
      "52:\tlearn: 0.3155542\ttotal: 4.15s\tremaining: 1m 14s\n",
      "53:\tlearn: 0.3137599\ttotal: 4.22s\tremaining: 1m 13s\n",
      "54:\tlearn: 0.3119731\ttotal: 4.29s\tremaining: 1m 13s\n",
      "55:\tlearn: 0.3094672\ttotal: 4.38s\tremaining: 1m 13s\n",
      "56:\tlearn: 0.3078017\ttotal: 4.45s\tremaining: 1m 13s\n",
      "57:\tlearn: 0.3059801\ttotal: 4.53s\tremaining: 1m 13s\n",
      "58:\tlearn: 0.3043788\ttotal: 4.61s\tremaining: 1m 13s\n",
      "59:\tlearn: 0.3026489\ttotal: 4.68s\tremaining: 1m 13s\n",
      "60:\tlearn: 0.3008144\ttotal: 4.76s\tremaining: 1m 13s\n",
      "61:\tlearn: 0.2991258\ttotal: 4.84s\tremaining: 1m 13s\n",
      "62:\tlearn: 0.2971503\ttotal: 4.91s\tremaining: 1m 13s\n",
      "63:\tlearn: 0.2953355\ttotal: 4.99s\tremaining: 1m 12s\n",
      "64:\tlearn: 0.2914908\ttotal: 5.07s\tremaining: 1m 12s\n",
      "65:\tlearn: 0.2898049\ttotal: 5.14s\tremaining: 1m 12s\n",
      "66:\tlearn: 0.2863965\ttotal: 5.21s\tremaining: 1m 12s\n",
      "67:\tlearn: 0.2849676\ttotal: 5.29s\tremaining: 1m 12s\n",
      "68:\tlearn: 0.2834560\ttotal: 5.36s\tremaining: 1m 12s\n",
      "69:\tlearn: 0.2810642\ttotal: 5.44s\tremaining: 1m 12s\n",
      "70:\tlearn: 0.2796092\ttotal: 5.52s\tremaining: 1m 12s\n",
      "71:\tlearn: 0.2783050\ttotal: 5.59s\tremaining: 1m 12s\n",
      "72:\tlearn: 0.2764921\ttotal: 5.66s\tremaining: 1m 11s\n",
      "73:\tlearn: 0.2748334\ttotal: 5.74s\tremaining: 1m 11s\n",
      "74:\tlearn: 0.2715046\ttotal: 5.81s\tremaining: 1m 11s\n",
      "75:\tlearn: 0.2700325\ttotal: 5.89s\tremaining: 1m 11s\n",
      "76:\tlearn: 0.2662873\ttotal: 5.97s\tremaining: 1m 11s\n",
      "77:\tlearn: 0.2648966\ttotal: 6.04s\tremaining: 1m 11s\n",
      "78:\tlearn: 0.2637534\ttotal: 6.12s\tremaining: 1m 11s\n",
      "79:\tlearn: 0.2620942\ttotal: 6.2s\tremaining: 1m 11s\n",
      "80:\tlearn: 0.2590793\ttotal: 6.27s\tremaining: 1m 11s\n",
      "81:\tlearn: 0.2579841\ttotal: 6.35s\tremaining: 1m 11s\n",
      "82:\tlearn: 0.2563014\ttotal: 6.43s\tremaining: 1m 11s\n",
      "83:\tlearn: 0.2551867\ttotal: 6.51s\tremaining: 1m 10s\n",
      "84:\tlearn: 0.2539651\ttotal: 6.58s\tremaining: 1m 10s\n",
      "85:\tlearn: 0.2508898\ttotal: 6.66s\tremaining: 1m 10s\n",
      "86:\tlearn: 0.2497546\ttotal: 6.73s\tremaining: 1m 10s\n",
      "87:\tlearn: 0.2484526\ttotal: 6.81s\tremaining: 1m 10s\n",
      "88:\tlearn: 0.2465773\ttotal: 6.89s\tremaining: 1m 10s\n",
      "89:\tlearn: 0.2454865\ttotal: 6.96s\tremaining: 1m 10s\n",
      "90:\tlearn: 0.2444404\ttotal: 7.04s\tremaining: 1m 10s\n",
      "91:\tlearn: 0.2425541\ttotal: 7.12s\tremaining: 1m 10s\n",
      "92:\tlearn: 0.2415454\ttotal: 7.19s\tremaining: 1m 10s\n",
      "93:\tlearn: 0.2405463\ttotal: 7.27s\tremaining: 1m 10s\n",
      "94:\tlearn: 0.2395335\ttotal: 7.35s\tremaining: 1m 10s\n",
      "95:\tlearn: 0.2386327\ttotal: 7.42s\tremaining: 1m 9s\n",
      "96:\tlearn: 0.2374815\ttotal: 7.5s\tremaining: 1m 9s\n",
      "97:\tlearn: 0.2365012\ttotal: 7.58s\tremaining: 1m 9s\n",
      "98:\tlearn: 0.2345030\ttotal: 7.65s\tremaining: 1m 9s\n",
      "99:\tlearn: 0.2317218\ttotal: 7.74s\tremaining: 1m 9s\n",
      "100:\tlearn: 0.2308228\ttotal: 7.82s\tremaining: 1m 9s\n",
      "101:\tlearn: 0.2292982\ttotal: 7.89s\tremaining: 1m 9s\n",
      "102:\tlearn: 0.2277482\ttotal: 7.97s\tremaining: 1m 9s\n",
      "103:\tlearn: 0.2268812\ttotal: 8.05s\tremaining: 1m 9s\n",
      "104:\tlearn: 0.2260339\ttotal: 8.12s\tremaining: 1m 9s\n",
      "105:\tlearn: 0.2250414\ttotal: 8.19s\tremaining: 1m 9s\n",
      "106:\tlearn: 0.2242177\ttotal: 8.28s\tremaining: 1m 9s\n",
      "107:\tlearn: 0.2229440\ttotal: 8.35s\tremaining: 1m 8s\n",
      "108:\tlearn: 0.2221147\ttotal: 8.43s\tremaining: 1m 8s\n",
      "109:\tlearn: 0.2213351\ttotal: 8.53s\tremaining: 1m 8s\n",
      "110:\tlearn: 0.2205516\ttotal: 8.6s\tremaining: 1m 8s\n",
      "111:\tlearn: 0.2183917\ttotal: 8.68s\tremaining: 1m 8s\n",
      "112:\tlearn: 0.2176446\ttotal: 8.77s\tremaining: 1m 8s\n",
      "113:\tlearn: 0.2165076\ttotal: 8.87s\tremaining: 1m 8s\n",
      "114:\tlearn: 0.2157431\ttotal: 8.98s\tremaining: 1m 9s\n",
      "115:\tlearn: 0.2149964\ttotal: 9.07s\tremaining: 1m 9s\n",
      "116:\tlearn: 0.2125463\ttotal: 9.17s\tremaining: 1m 9s\n",
      "117:\tlearn: 0.2118912\ttotal: 9.28s\tremaining: 1m 9s\n",
      "118:\tlearn: 0.2105063\ttotal: 9.37s\tremaining: 1m 9s\n",
      "119:\tlearn: 0.2094843\ttotal: 9.47s\tremaining: 1m 9s\n",
      "120:\tlearn: 0.2088353\ttotal: 9.56s\tremaining: 1m 9s\n",
      "121:\tlearn: 0.2067877\ttotal: 9.63s\tremaining: 1m 9s\n",
      "122:\tlearn: 0.2060749\ttotal: 9.73s\tremaining: 1m 9s\n",
      "123:\tlearn: 0.2040957\ttotal: 9.82s\tremaining: 1m 9s\n",
      "124:\tlearn: 0.2028417\ttotal: 9.9s\tremaining: 1m 9s\n",
      "125:\tlearn: 0.2019883\ttotal: 9.98s\tremaining: 1m 9s\n",
      "126:\tlearn: 0.2009067\ttotal: 10.1s\tremaining: 1m 9s\n",
      "127:\tlearn: 0.1991596\ttotal: 10.1s\tremaining: 1m 8s\n",
      "128:\tlearn: 0.1984790\ttotal: 10.2s\tremaining: 1m 8s\n",
      "129:\tlearn: 0.1971979\ttotal: 10.3s\tremaining: 1m 8s\n",
      "130:\tlearn: 0.1965535\ttotal: 10.3s\tremaining: 1m 8s\n",
      "131:\tlearn: 0.1949501\ttotal: 10.4s\tremaining: 1m 8s\n",
      "132:\tlearn: 0.1943404\ttotal: 10.5s\tremaining: 1m 8s\n",
      "133:\tlearn: 0.1931341\ttotal: 10.6s\tremaining: 1m 8s\n",
      "134:\tlearn: 0.1925559\ttotal: 10.6s\tremaining: 1m 8s\n",
      "135:\tlearn: 0.1908911\ttotal: 10.7s\tremaining: 1m 8s\n",
      "136:\tlearn: 0.1903079\ttotal: 10.8s\tremaining: 1m 8s\n",
      "137:\tlearn: 0.1891599\ttotal: 10.9s\tremaining: 1m 7s\n",
      "138:\tlearn: 0.1880096\ttotal: 10.9s\tremaining: 1m 7s\n",
      "139:\tlearn: 0.1871641\ttotal: 11s\tremaining: 1m 7s\n",
      "140:\tlearn: 0.1865911\ttotal: 11.1s\tremaining: 1m 7s\n",
      "141:\tlearn: 0.1848200\ttotal: 11.2s\tremaining: 1m 7s\n",
      "142:\tlearn: 0.1842168\ttotal: 11.3s\tremaining: 1m 7s\n",
      "143:\tlearn: 0.1836609\ttotal: 11.3s\tremaining: 1m 7s\n",
      "144:\tlearn: 0.1830815\ttotal: 11.4s\tremaining: 1m 7s\n",
      "145:\tlearn: 0.1813880\ttotal: 11.5s\tremaining: 1m 7s\n",
      "146:\tlearn: 0.1808528\ttotal: 11.6s\tremaining: 1m 7s\n",
      "147:\tlearn: 0.1802908\ttotal: 11.6s\tremaining: 1m 7s\n",
      "148:\tlearn: 0.1797126\ttotal: 11.7s\tremaining: 1m 6s\n",
      "149:\tlearn: 0.1791515\ttotal: 11.8s\tremaining: 1m 6s\n",
      "150:\tlearn: 0.1786082\ttotal: 11.9s\tremaining: 1m 6s\n",
      "151:\tlearn: 0.1778911\ttotal: 11.9s\tremaining: 1m 6s\n",
      "152:\tlearn: 0.1774130\ttotal: 12s\tremaining: 1m 6s\n",
      "153:\tlearn: 0.1767444\ttotal: 12.1s\tremaining: 1m 6s\n",
      "154:\tlearn: 0.1762404\ttotal: 12.2s\tremaining: 1m 6s\n",
      "155:\tlearn: 0.1753464\ttotal: 12.2s\tremaining: 1m 6s\n",
      "156:\tlearn: 0.1748355\ttotal: 12.3s\tremaining: 1m 6s\n",
      "157:\tlearn: 0.1731722\ttotal: 12.4s\tremaining: 1m 5s\n",
      "158:\tlearn: 0.1726735\ttotal: 12.5s\tremaining: 1m 5s\n",
      "159:\tlearn: 0.1711718\ttotal: 12.5s\tremaining: 1m 5s\n",
      "160:\tlearn: 0.1705999\ttotal: 12.6s\tremaining: 1m 5s\n"
     ]
    },
    {
     "name": "stdout",
     "output_type": "stream",
     "text": [
      "161:\tlearn: 0.1692646\ttotal: 12.7s\tremaining: 1m 5s\n",
      "162:\tlearn: 0.1680122\ttotal: 12.8s\tremaining: 1m 5s\n",
      "163:\tlearn: 0.1668040\ttotal: 12.8s\tremaining: 1m 5s\n",
      "164:\tlearn: 0.1663534\ttotal: 12.9s\tremaining: 1m 5s\n",
      "165:\tlearn: 0.1659092\ttotal: 13s\tremaining: 1m 5s\n",
      "166:\tlearn: 0.1652410\ttotal: 13s\tremaining: 1m 5s\n",
      "167:\tlearn: 0.1642399\ttotal: 13.1s\tremaining: 1m 4s\n",
      "168:\tlearn: 0.1638168\ttotal: 13.2s\tremaining: 1m 4s\n",
      "169:\tlearn: 0.1633226\ttotal: 13.3s\tremaining: 1m 4s\n",
      "170:\tlearn: 0.1627999\ttotal: 13.3s\tremaining: 1m 4s\n",
      "171:\tlearn: 0.1617905\ttotal: 13.4s\tremaining: 1m 4s\n",
      "172:\tlearn: 0.1613847\ttotal: 13.5s\tremaining: 1m 4s\n",
      "173:\tlearn: 0.1609951\ttotal: 13.6s\tremaining: 1m 4s\n",
      "174:\tlearn: 0.1605919\ttotal: 13.6s\tremaining: 1m 4s\n",
      "175:\tlearn: 0.1599058\ttotal: 13.7s\tremaining: 1m 4s\n",
      "176:\tlearn: 0.1586715\ttotal: 13.8s\tremaining: 1m 4s\n",
      "177:\tlearn: 0.1578726\ttotal: 13.8s\tremaining: 1m 3s\n",
      "178:\tlearn: 0.1571467\ttotal: 13.9s\tremaining: 1m 3s\n",
      "179:\tlearn: 0.1564680\ttotal: 14s\tremaining: 1m 3s\n",
      "180:\tlearn: 0.1559174\ttotal: 14.1s\tremaining: 1m 3s\n",
      "181:\tlearn: 0.1549838\ttotal: 14.1s\tremaining: 1m 3s\n",
      "182:\tlearn: 0.1546104\ttotal: 14.2s\tremaining: 1m 3s\n",
      "183:\tlearn: 0.1542253\ttotal: 14.3s\tremaining: 1m 3s\n",
      "184:\tlearn: 0.1536947\ttotal: 14.4s\tremaining: 1m 3s\n",
      "185:\tlearn: 0.1527097\ttotal: 14.4s\tremaining: 1m 3s\n",
      "186:\tlearn: 0.1523523\ttotal: 14.5s\tremaining: 1m 3s\n",
      "187:\tlearn: 0.1520041\ttotal: 14.6s\tremaining: 1m 2s\n",
      "188:\tlearn: 0.1516916\ttotal: 14.6s\tremaining: 1m 2s\n",
      "189:\tlearn: 0.1511397\ttotal: 14.7s\tremaining: 1m 2s\n",
      "190:\tlearn: 0.1502220\ttotal: 14.8s\tremaining: 1m 2s\n",
      "191:\tlearn: 0.1498798\ttotal: 14.9s\tremaining: 1m 2s\n",
      "192:\tlearn: 0.1495543\ttotal: 14.9s\tremaining: 1m 2s\n",
      "193:\tlearn: 0.1482833\ttotal: 15s\tremaining: 1m 2s\n",
      "194:\tlearn: 0.1476781\ttotal: 15.1s\tremaining: 1m 2s\n",
      "195:\tlearn: 0.1473555\ttotal: 15.2s\tremaining: 1m 2s\n",
      "196:\tlearn: 0.1470414\ttotal: 15.2s\tremaining: 1m 2s\n",
      "197:\tlearn: 0.1465258\ttotal: 15.3s\tremaining: 1m 2s\n",
      "198:\tlearn: 0.1460574\ttotal: 15.4s\tremaining: 1m 1s\n",
      "199:\tlearn: 0.1457476\ttotal: 15.5s\tremaining: 1m 1s\n",
      "200:\tlearn: 0.1453540\ttotal: 15.5s\tremaining: 1m 1s\n",
      "201:\tlearn: 0.1449740\ttotal: 15.6s\tremaining: 1m 1s\n",
      "202:\tlearn: 0.1435223\ttotal: 15.7s\tremaining: 1m 1s\n",
      "203:\tlearn: 0.1431867\ttotal: 15.8s\tremaining: 1m 1s\n",
      "204:\tlearn: 0.1428930\ttotal: 15.9s\tremaining: 1m 1s\n",
      "205:\tlearn: 0.1420755\ttotal: 15.9s\tremaining: 1m 1s\n",
      "206:\tlearn: 0.1412101\ttotal: 16s\tremaining: 1m 1s\n",
      "207:\tlearn: 0.1409022\ttotal: 16.1s\tremaining: 1m 1s\n",
      "208:\tlearn: 0.1402118\ttotal: 16.2s\tremaining: 1m 1s\n",
      "209:\tlearn: 0.1390461\ttotal: 16.3s\tremaining: 1m 1s\n",
      "210:\tlearn: 0.1386018\ttotal: 16.3s\tremaining: 1m 1s\n",
      "211:\tlearn: 0.1383002\ttotal: 16.4s\tremaining: 1m 1s\n",
      "212:\tlearn: 0.1378399\ttotal: 16.5s\tremaining: 1m 1s\n",
      "213:\tlearn: 0.1375757\ttotal: 16.6s\tremaining: 1m\n",
      "214:\tlearn: 0.1369741\ttotal: 16.7s\tremaining: 1m\n",
      "215:\tlearn: 0.1366892\ttotal: 16.8s\tremaining: 1m\n",
      "216:\tlearn: 0.1354429\ttotal: 16.8s\tremaining: 1m\n",
      "217:\tlearn: 0.1351079\ttotal: 16.9s\tremaining: 1m\n",
      "218:\tlearn: 0.1345630\ttotal: 17s\tremaining: 1m\n",
      "219:\tlearn: 0.1338005\ttotal: 17.1s\tremaining: 1m\n",
      "220:\tlearn: 0.1335074\ttotal: 17.2s\tremaining: 1m\n",
      "221:\tlearn: 0.1332361\ttotal: 17.3s\tremaining: 1m\n",
      "222:\tlearn: 0.1328984\ttotal: 17.3s\tremaining: 1m\n",
      "223:\tlearn: 0.1325094\ttotal: 17.4s\tremaining: 1m\n",
      "224:\tlearn: 0.1322471\ttotal: 17.5s\tremaining: 1m\n",
      "225:\tlearn: 0.1319911\ttotal: 17.6s\tremaining: 1m\n",
      "226:\tlearn: 0.1317210\ttotal: 17.7s\tremaining: 1m\n",
      "227:\tlearn: 0.1314807\ttotal: 17.8s\tremaining: 1m\n",
      "228:\tlearn: 0.1311299\ttotal: 17.9s\tremaining: 1m\n",
      "229:\tlearn: 0.1304610\ttotal: 17.9s\tremaining: 1m\n",
      "230:\tlearn: 0.1301037\ttotal: 18s\tremaining: 1m\n",
      "231:\tlearn: 0.1297174\ttotal: 18.1s\tremaining: 60s\n",
      "232:\tlearn: 0.1288113\ttotal: 18.2s\tremaining: 59.9s\n",
      "233:\tlearn: 0.1284497\ttotal: 18.3s\tremaining: 59.9s\n",
      "234:\tlearn: 0.1282202\ttotal: 18.4s\tremaining: 59.8s\n",
      "235:\tlearn: 0.1276690\ttotal: 18.4s\tremaining: 59.7s\n",
      "236:\tlearn: 0.1274257\ttotal: 18.5s\tremaining: 59.7s\n",
      "237:\tlearn: 0.1271958\ttotal: 18.6s\tremaining: 59.6s\n",
      "238:\tlearn: 0.1269360\ttotal: 18.7s\tremaining: 59.5s\n",
      "239:\tlearn: 0.1267082\ttotal: 18.8s\tremaining: 59.5s\n",
      "240:\tlearn: 0.1264863\ttotal: 18.9s\tremaining: 59.4s\n",
      "241:\tlearn: 0.1261387\ttotal: 19s\tremaining: 59.4s\n",
      "242:\tlearn: 0.1256145\ttotal: 19s\tremaining: 59.3s\n",
      "243:\tlearn: 0.1248683\ttotal: 19.1s\tremaining: 59.3s\n",
      "244:\tlearn: 0.1246266\ttotal: 19.2s\tremaining: 59.2s\n",
      "245:\tlearn: 0.1239132\ttotal: 19.3s\tremaining: 59.2s\n",
      "246:\tlearn: 0.1236485\ttotal: 19.4s\tremaining: 59.1s\n",
      "247:\tlearn: 0.1232421\ttotal: 19.5s\tremaining: 59s\n",
      "248:\tlearn: 0.1230197\ttotal: 19.6s\tremaining: 59s\n",
      "249:\tlearn: 0.1226778\ttotal: 19.6s\tremaining: 58.9s\n",
      "250:\tlearn: 0.1223805\ttotal: 19.7s\tremaining: 58.8s\n",
      "251:\tlearn: 0.1216276\ttotal: 19.8s\tremaining: 58.9s\n",
      "252:\tlearn: 0.1213513\ttotal: 19.9s\tremaining: 58.9s\n",
      "253:\tlearn: 0.1211345\ttotal: 20s\tremaining: 58.8s\n",
      "254:\tlearn: 0.1209091\ttotal: 20.1s\tremaining: 58.8s\n",
      "255:\tlearn: 0.1201824\ttotal: 20.2s\tremaining: 58.7s\n",
      "256:\tlearn: 0.1199018\ttotal: 20.3s\tremaining: 58.6s\n",
      "257:\tlearn: 0.1196789\ttotal: 20.4s\tremaining: 58.6s\n",
      "258:\tlearn: 0.1194616\ttotal: 20.5s\tremaining: 58.5s\n",
      "259:\tlearn: 0.1191833\ttotal: 20.5s\tremaining: 58.4s\n",
      "260:\tlearn: 0.1189778\ttotal: 20.6s\tremaining: 58.4s\n",
      "261:\tlearn: 0.1187810\ttotal: 20.7s\tremaining: 58.3s\n",
      "262:\tlearn: 0.1185054\ttotal: 20.8s\tremaining: 58.3s\n",
      "263:\tlearn: 0.1183092\ttotal: 20.9s\tremaining: 58.3s\n",
      "264:\tlearn: 0.1174620\ttotal: 21s\tremaining: 58.2s\n",
      "265:\tlearn: 0.1172064\ttotal: 21.1s\tremaining: 58.1s\n",
      "266:\tlearn: 0.1165746\ttotal: 21.1s\tremaining: 58.1s\n",
      "267:\tlearn: 0.1163533\ttotal: 21.2s\tremaining: 58s\n",
      "268:\tlearn: 0.1159565\ttotal: 21.3s\tremaining: 57.9s\n",
      "269:\tlearn: 0.1153439\ttotal: 21.4s\tremaining: 57.9s\n",
      "270:\tlearn: 0.1151488\ttotal: 21.5s\tremaining: 57.8s\n",
      "271:\tlearn: 0.1147352\ttotal: 21.6s\tremaining: 57.7s\n",
      "272:\tlearn: 0.1145032\ttotal: 21.7s\tremaining: 57.7s\n",
      "273:\tlearn: 0.1142734\ttotal: 21.8s\tremaining: 57.6s\n",
      "274:\tlearn: 0.1136665\ttotal: 21.8s\tremaining: 57.6s\n",
      "275:\tlearn: 0.1133981\ttotal: 21.9s\tremaining: 57.5s\n",
      "276:\tlearn: 0.1132124\ttotal: 22s\tremaining: 57.5s\n",
      "277:\tlearn: 0.1125658\ttotal: 22.1s\tremaining: 57.4s\n",
      "278:\tlearn: 0.1123737\ttotal: 22.2s\tremaining: 57.3s\n",
      "279:\tlearn: 0.1121939\ttotal: 22.3s\tremaining: 57.3s\n",
      "280:\tlearn: 0.1115555\ttotal: 22.4s\tremaining: 57.2s\n",
      "281:\tlearn: 0.1113539\ttotal: 22.4s\tremaining: 57.2s\n",
      "282:\tlearn: 0.1108017\ttotal: 22.5s\tremaining: 57.1s\n",
      "283:\tlearn: 0.1106235\ttotal: 22.6s\tremaining: 57.1s\n",
      "284:\tlearn: 0.1103380\ttotal: 22.7s\tremaining: 57s\n",
      "285:\tlearn: 0.1101642\ttotal: 22.8s\tremaining: 56.9s\n",
      "286:\tlearn: 0.1095687\ttotal: 22.9s\tremaining: 56.9s\n",
      "287:\tlearn: 0.1087221\ttotal: 23s\tremaining: 56.8s\n",
      "288:\tlearn: 0.1085022\ttotal: 23.1s\tremaining: 56.8s\n",
      "289:\tlearn: 0.1083289\ttotal: 23.2s\tremaining: 56.7s\n",
      "290:\tlearn: 0.1079357\ttotal: 23.2s\tremaining: 56.6s\n",
      "291:\tlearn: 0.1077577\ttotal: 23.3s\tremaining: 56.5s\n",
      "292:\tlearn: 0.1071845\ttotal: 23.4s\tremaining: 56.5s\n",
      "293:\tlearn: 0.1070001\ttotal: 23.5s\tremaining: 56.4s\n",
      "294:\tlearn: 0.1062802\ttotal: 23.6s\tremaining: 56.3s\n",
      "295:\tlearn: 0.1060792\ttotal: 23.7s\tremaining: 56.3s\n",
      "296:\tlearn: 0.1056998\ttotal: 23.7s\tremaining: 56.2s\n",
      "297:\tlearn: 0.1055373\ttotal: 23.8s\tremaining: 56.1s\n",
      "298:\tlearn: 0.1053330\ttotal: 23.9s\tremaining: 56.1s\n",
      "299:\tlearn: 0.1048804\ttotal: 24s\tremaining: 56s\n",
      "300:\tlearn: 0.1045250\ttotal: 24.1s\tremaining: 55.9s\n",
      "301:\tlearn: 0.1043487\ttotal: 24.2s\tremaining: 55.9s\n",
      "302:\tlearn: 0.1038766\ttotal: 24.3s\tremaining: 55.8s\n",
      "303:\tlearn: 0.1034027\ttotal: 24.3s\tremaining: 55.7s\n",
      "304:\tlearn: 0.1032145\ttotal: 24.4s\tremaining: 55.7s\n",
      "305:\tlearn: 0.1030647\ttotal: 24.5s\tremaining: 55.6s\n",
      "306:\tlearn: 0.1029161\ttotal: 24.6s\tremaining: 55.5s\n",
      "307:\tlearn: 0.1027740\ttotal: 24.7s\tremaining: 55.4s\n",
      "308:\tlearn: 0.1025439\ttotal: 24.8s\tremaining: 55.4s\n",
      "309:\tlearn: 0.1023734\ttotal: 24.9s\tremaining: 55.3s\n",
      "310:\tlearn: 0.1021051\ttotal: 24.9s\tremaining: 55.2s\n",
      "311:\tlearn: 0.1018586\ttotal: 25s\tremaining: 55.2s\n",
      "312:\tlearn: 0.1014398\ttotal: 25.1s\tremaining: 55.1s\n",
      "313:\tlearn: 0.1012653\ttotal: 25.2s\tremaining: 55.1s\n",
      "314:\tlearn: 0.1008841\ttotal: 25.3s\tremaining: 55s\n",
      "315:\tlearn: 0.1002682\ttotal: 25.4s\tremaining: 54.9s\n",
      "316:\tlearn: 0.1001063\ttotal: 25.5s\tremaining: 54.8s\n",
      "317:\tlearn: 0.0999627\ttotal: 25.6s\tremaining: 54.8s\n",
      "318:\tlearn: 0.0998221\ttotal: 25.6s\tremaining: 54.7s\n",
      "319:\tlearn: 0.0993673\ttotal: 25.7s\tremaining: 54.6s\n",
      "320:\tlearn: 0.0990989\ttotal: 25.8s\tremaining: 54.6s\n",
      "321:\tlearn: 0.0986778\ttotal: 25.9s\tremaining: 54.5s\n",
      "322:\tlearn: 0.0985298\ttotal: 26s\tremaining: 54.4s\n"
     ]
    },
    {
     "name": "stdout",
     "output_type": "stream",
     "text": [
      "323:\tlearn: 0.0981717\ttotal: 26.1s\tremaining: 54.4s\n",
      "324:\tlearn: 0.0980291\ttotal: 26.1s\tremaining: 54.3s\n",
      "325:\tlearn: 0.0978521\ttotal: 26.2s\tremaining: 54.2s\n",
      "326:\tlearn: 0.0976994\ttotal: 26.3s\tremaining: 54.2s\n",
      "327:\tlearn: 0.0970801\ttotal: 26.4s\tremaining: 54.1s\n",
      "328:\tlearn: 0.0969425\ttotal: 26.5s\tremaining: 54s\n",
      "329:\tlearn: 0.0967510\ttotal: 26.6s\tremaining: 53.9s\n",
      "330:\tlearn: 0.0962683\ttotal: 26.6s\tremaining: 53.8s\n",
      "331:\tlearn: 0.0961250\ttotal: 26.7s\tremaining: 53.8s\n",
      "332:\tlearn: 0.0959951\ttotal: 26.8s\tremaining: 53.7s\n",
      "333:\tlearn: 0.0957826\ttotal: 26.9s\tremaining: 53.6s\n",
      "334:\tlearn: 0.0953524\ttotal: 27s\tremaining: 53.5s\n",
      "335:\tlearn: 0.0952041\ttotal: 27.1s\tremaining: 53.5s\n",
      "336:\tlearn: 0.0950754\ttotal: 27.1s\tremaining: 53.4s\n",
      "337:\tlearn: 0.0949441\ttotal: 27.2s\tremaining: 53.3s\n",
      "338:\tlearn: 0.0945203\ttotal: 27.3s\tremaining: 53.2s\n",
      "339:\tlearn: 0.0943389\ttotal: 27.4s\tremaining: 53.2s\n",
      "340:\tlearn: 0.0940889\ttotal: 27.5s\tremaining: 53.1s\n",
      "341:\tlearn: 0.0939565\ttotal: 27.6s\tremaining: 53s\n",
      "342:\tlearn: 0.0938334\ttotal: 27.6s\tremaining: 52.9s\n",
      "343:\tlearn: 0.0937125\ttotal: 27.7s\tremaining: 52.9s\n",
      "344:\tlearn: 0.0935946\ttotal: 27.8s\tremaining: 52.8s\n",
      "345:\tlearn: 0.0934812\ttotal: 27.9s\tremaining: 52.8s\n",
      "346:\tlearn: 0.0933065\ttotal: 28s\tremaining: 52.8s\n",
      "347:\tlearn: 0.0931914\ttotal: 28.1s\tremaining: 52.7s\n",
      "348:\tlearn: 0.0929739\ttotal: 28.3s\tremaining: 52.7s\n",
      "349:\tlearn: 0.0928533\ttotal: 28.4s\tremaining: 52.7s\n",
      "350:\tlearn: 0.0927403\ttotal: 28.5s\tremaining: 52.7s\n",
      "351:\tlearn: 0.0924019\ttotal: 28.6s\tremaining: 52.6s\n",
      "352:\tlearn: 0.0922546\ttotal: 28.7s\tremaining: 52.6s\n",
      "353:\tlearn: 0.0921442\ttotal: 28.8s\tremaining: 52.5s\n",
      "354:\tlearn: 0.0920325\ttotal: 28.9s\tremaining: 52.5s\n",
      "355:\tlearn: 0.0917782\ttotal: 29s\tremaining: 52.4s\n",
      "356:\tlearn: 0.0916751\ttotal: 29s\tremaining: 52.3s\n",
      "357:\tlearn: 0.0912098\ttotal: 29.1s\tremaining: 52.2s\n",
      "358:\tlearn: 0.0910954\ttotal: 29.2s\tremaining: 52.1s\n",
      "359:\tlearn: 0.0909202\ttotal: 29.3s\tremaining: 52.1s\n",
      "360:\tlearn: 0.0908142\ttotal: 29.4s\tremaining: 52s\n",
      "361:\tlearn: 0.0906839\ttotal: 29.5s\tremaining: 51.9s\n",
      "362:\tlearn: 0.0903361\ttotal: 29.6s\tremaining: 51.9s\n",
      "363:\tlearn: 0.0902204\ttotal: 29.6s\tremaining: 51.8s\n",
      "364:\tlearn: 0.0900101\ttotal: 29.7s\tremaining: 51.7s\n",
      "365:\tlearn: 0.0899080\ttotal: 29.8s\tremaining: 51.7s\n",
      "366:\tlearn: 0.0894469\ttotal: 29.9s\tremaining: 51.6s\n",
      "367:\tlearn: 0.0892798\ttotal: 30s\tremaining: 51.5s\n",
      "368:\tlearn: 0.0888763\ttotal: 30.1s\tremaining: 51.4s\n",
      "369:\tlearn: 0.0887716\ttotal: 30.2s\tremaining: 51.3s\n",
      "370:\tlearn: 0.0885743\ttotal: 30.2s\tremaining: 51.3s\n",
      "371:\tlearn: 0.0883113\ttotal: 30.3s\tremaining: 51.2s\n",
      "372:\tlearn: 0.0882076\ttotal: 30.4s\tremaining: 51.1s\n",
      "373:\tlearn: 0.0880946\ttotal: 30.5s\tremaining: 51s\n",
      "374:\tlearn: 0.0878981\ttotal: 30.6s\tremaining: 51s\n",
      "375:\tlearn: 0.0875821\ttotal: 30.7s\tremaining: 50.9s\n",
      "376:\tlearn: 0.0874450\ttotal: 30.7s\tremaining: 50.8s\n",
      "377:\tlearn: 0.0871173\ttotal: 30.8s\tremaining: 50.7s\n",
      "378:\tlearn: 0.0870152\ttotal: 30.9s\tremaining: 50.6s\n",
      "379:\tlearn: 0.0869173\ttotal: 31s\tremaining: 50.6s\n",
      "380:\tlearn: 0.0868255\ttotal: 31.1s\tremaining: 50.5s\n",
      "381:\tlearn: 0.0866052\ttotal: 31.2s\tremaining: 50.5s\n",
      "382:\tlearn: 0.0865041\ttotal: 31.3s\tremaining: 50.4s\n",
      "383:\tlearn: 0.0862097\ttotal: 31.4s\tremaining: 50.4s\n",
      "384:\tlearn: 0.0860964\ttotal: 31.5s\tremaining: 50.3s\n",
      "385:\tlearn: 0.0859448\ttotal: 31.6s\tremaining: 50.3s\n",
      "386:\tlearn: 0.0858459\ttotal: 31.8s\tremaining: 50.3s\n",
      "387:\tlearn: 0.0854021\ttotal: 31.9s\tremaining: 50.2s\n",
      "388:\tlearn: 0.0852922\ttotal: 32s\tremaining: 50.2s\n",
      "389:\tlearn: 0.0852003\ttotal: 32.1s\tremaining: 50.2s\n",
      "390:\tlearn: 0.0850447\ttotal: 32.2s\tremaining: 50.2s\n",
      "391:\tlearn: 0.0845737\ttotal: 32.3s\tremaining: 50.2s\n",
      "392:\tlearn: 0.0844278\ttotal: 32.5s\tremaining: 50.1s\n",
      "393:\tlearn: 0.0842231\ttotal: 32.6s\tremaining: 50.1s\n",
      "394:\tlearn: 0.0841275\ttotal: 32.7s\tremaining: 50.1s\n",
      "395:\tlearn: 0.0839844\ttotal: 32.8s\tremaining: 50s\n",
      "396:\tlearn: 0.0837565\ttotal: 32.9s\tremaining: 50s\n",
      "397:\tlearn: 0.0834920\ttotal: 33.1s\tremaining: 50s\n",
      "398:\tlearn: 0.0829385\ttotal: 33.1s\tremaining: 49.9s\n",
      "399:\tlearn: 0.0827943\ttotal: 33.2s\tremaining: 49.9s\n",
      "400:\tlearn: 0.0826817\ttotal: 33.3s\tremaining: 49.8s\n",
      "401:\tlearn: 0.0824340\ttotal: 33.4s\tremaining: 49.7s\n",
      "402:\tlearn: 0.0821411\ttotal: 33.5s\tremaining: 49.6s\n",
      "403:\tlearn: 0.0820510\ttotal: 33.6s\tremaining: 49.5s\n",
      "404:\tlearn: 0.0819368\ttotal: 33.7s\tremaining: 49.5s\n",
      "405:\tlearn: 0.0818502\ttotal: 33.7s\tremaining: 49.4s\n",
      "406:\tlearn: 0.0817232\ttotal: 33.8s\tremaining: 49.3s\n",
      "407:\tlearn: 0.0815633\ttotal: 33.9s\tremaining: 49.2s\n",
      "408:\tlearn: 0.0814825\ttotal: 34s\tremaining: 49.2s\n",
      "409:\tlearn: 0.0813915\ttotal: 34.1s\tremaining: 49.1s\n",
      "410:\tlearn: 0.0813093\ttotal: 34.2s\tremaining: 49.1s\n",
      "411:\tlearn: 0.0810965\ttotal: 34.3s\tremaining: 49s\n",
      "412:\tlearn: 0.0810109\ttotal: 34.5s\tremaining: 49s\n",
      "413:\tlearn: 0.0809223\ttotal: 34.6s\tremaining: 48.9s\n",
      "414:\tlearn: 0.0806519\ttotal: 34.6s\tremaining: 48.8s\n",
      "415:\tlearn: 0.0805665\ttotal: 34.7s\tremaining: 48.8s\n",
      "416:\tlearn: 0.0803954\ttotal: 34.8s\tremaining: 48.7s\n",
      "417:\tlearn: 0.0803106\ttotal: 34.9s\tremaining: 48.6s\n",
      "418:\tlearn: 0.0802324\ttotal: 35s\tremaining: 48.6s\n",
      "419:\tlearn: 0.0800588\ttotal: 35.1s\tremaining: 48.5s\n",
      "420:\tlearn: 0.0799819\ttotal: 35.2s\tremaining: 48.4s\n",
      "421:\tlearn: 0.0798949\ttotal: 35.3s\tremaining: 48.4s\n",
      "422:\tlearn: 0.0795126\ttotal: 35.4s\tremaining: 48.3s\n",
      "423:\tlearn: 0.0794256\ttotal: 35.6s\tremaining: 48.3s\n",
      "424:\tlearn: 0.0791861\ttotal: 35.7s\tremaining: 48.3s\n",
      "425:\tlearn: 0.0791041\ttotal: 35.8s\tremaining: 48.2s\n",
      "426:\tlearn: 0.0789671\ttotal: 35.9s\tremaining: 48.1s\n",
      "427:\tlearn: 0.0788935\ttotal: 36s\tremaining: 48.1s\n",
      "428:\tlearn: 0.0788188\ttotal: 36.1s\tremaining: 48s\n",
      "429:\tlearn: 0.0786547\ttotal: 36.2s\tremaining: 48s\n",
      "430:\tlearn: 0.0785396\ttotal: 36.3s\tremaining: 47.9s\n",
      "431:\tlearn: 0.0783349\ttotal: 36.4s\tremaining: 47.9s\n",
      "432:\tlearn: 0.0782693\ttotal: 36.5s\tremaining: 47.8s\n",
      "433:\tlearn: 0.0782012\ttotal: 36.6s\tremaining: 47.7s\n",
      "434:\tlearn: 0.0781306\ttotal: 36.7s\tremaining: 47.7s\n",
      "435:\tlearn: 0.0780085\ttotal: 36.8s\tremaining: 47.6s\n",
      "436:\tlearn: 0.0775212\ttotal: 36.9s\tremaining: 47.5s\n",
      "437:\tlearn: 0.0774254\ttotal: 37s\tremaining: 47.4s\n",
      "438:\tlearn: 0.0772602\ttotal: 37s\tremaining: 47.3s\n",
      "439:\tlearn: 0.0771867\ttotal: 37.1s\tremaining: 47.3s\n",
      "440:\tlearn: 0.0771163\ttotal: 37.2s\tremaining: 47.2s\n",
      "441:\tlearn: 0.0769935\ttotal: 37.3s\tremaining: 47.1s\n",
      "442:\tlearn: 0.0769172\ttotal: 37.4s\tremaining: 47s\n",
      "443:\tlearn: 0.0768292\ttotal: 37.5s\tremaining: 46.9s\n",
      "444:\tlearn: 0.0764900\ttotal: 37.6s\tremaining: 46.8s\n",
      "445:\tlearn: 0.0764047\ttotal: 37.6s\tremaining: 46.8s\n",
      "446:\tlearn: 0.0763221\ttotal: 37.7s\tremaining: 46.7s\n",
      "447:\tlearn: 0.0762093\ttotal: 37.8s\tremaining: 46.6s\n",
      "448:\tlearn: 0.0760044\ttotal: 37.9s\tremaining: 46.5s\n",
      "449:\tlearn: 0.0759319\ttotal: 38s\tremaining: 46.4s\n",
      "450:\tlearn: 0.0757397\ttotal: 38.1s\tremaining: 46.3s\n",
      "451:\tlearn: 0.0756683\ttotal: 38.2s\tremaining: 46.3s\n",
      "452:\tlearn: 0.0754287\ttotal: 38.2s\tremaining: 46.2s\n",
      "453:\tlearn: 0.0753505\ttotal: 38.3s\tremaining: 46.1s\n",
      "454:\tlearn: 0.0752837\ttotal: 38.4s\tremaining: 46s\n",
      "455:\tlearn: 0.0750599\ttotal: 38.5s\tremaining: 45.9s\n",
      "456:\tlearn: 0.0749899\ttotal: 38.6s\tremaining: 45.8s\n",
      "457:\tlearn: 0.0748810\ttotal: 38.7s\tremaining: 45.8s\n",
      "458:\tlearn: 0.0747536\ttotal: 38.8s\tremaining: 45.7s\n",
      "459:\tlearn: 0.0746935\ttotal: 38.8s\tremaining: 45.6s\n",
      "460:\tlearn: 0.0744805\ttotal: 38.9s\tremaining: 45.5s\n",
      "461:\tlearn: 0.0744081\ttotal: 39s\tremaining: 45.4s\n",
      "462:\tlearn: 0.0741877\ttotal: 39.1s\tremaining: 45.4s\n",
      "463:\tlearn: 0.0741229\ttotal: 39.2s\tremaining: 45.3s\n",
      "464:\tlearn: 0.0739987\ttotal: 39.3s\tremaining: 45.2s\n",
      "465:\tlearn: 0.0737726\ttotal: 39.4s\tremaining: 45.1s\n",
      "466:\tlearn: 0.0736960\ttotal: 39.5s\tremaining: 45.1s\n",
      "467:\tlearn: 0.0735920\ttotal: 39.6s\tremaining: 45s\n",
      "468:\tlearn: 0.0735294\ttotal: 39.7s\tremaining: 44.9s\n",
      "469:\tlearn: 0.0733044\ttotal: 39.8s\tremaining: 44.8s\n",
      "470:\tlearn: 0.0732366\ttotal: 39.8s\tremaining: 44.8s\n",
      "471:\tlearn: 0.0731497\ttotal: 39.9s\tremaining: 44.7s\n",
      "472:\tlearn: 0.0730885\ttotal: 40s\tremaining: 44.6s\n",
      "473:\tlearn: 0.0730221\ttotal: 40.1s\tremaining: 44.5s\n",
      "474:\tlearn: 0.0727385\ttotal: 40.2s\tremaining: 44.4s\n",
      "475:\tlearn: 0.0726706\ttotal: 40.3s\tremaining: 44.3s\n",
      "476:\tlearn: 0.0724571\ttotal: 40.3s\tremaining: 44.2s\n",
      "477:\tlearn: 0.0723814\ttotal: 40.4s\tremaining: 44.1s\n",
      "478:\tlearn: 0.0722308\ttotal: 40.5s\tremaining: 44.1s\n",
      "479:\tlearn: 0.0719514\ttotal: 40.6s\tremaining: 44s\n",
      "480:\tlearn: 0.0718851\ttotal: 40.7s\tremaining: 43.9s\n",
      "481:\tlearn: 0.0718188\ttotal: 40.8s\tremaining: 43.8s\n",
      "482:\tlearn: 0.0717596\ttotal: 40.9s\tremaining: 43.7s\n",
      "483:\tlearn: 0.0716446\ttotal: 40.9s\tremaining: 43.6s\n"
     ]
    },
    {
     "name": "stdout",
     "output_type": "stream",
     "text": [
      "484:\tlearn: 0.0715847\ttotal: 41s\tremaining: 43.6s\n",
      "485:\tlearn: 0.0715274\ttotal: 41.1s\tremaining: 43.5s\n",
      "486:\tlearn: 0.0714711\ttotal: 41.2s\tremaining: 43.4s\n",
      "487:\tlearn: 0.0713672\ttotal: 41.3s\tremaining: 43.3s\n",
      "488:\tlearn: 0.0713083\ttotal: 41.4s\tremaining: 43.2s\n",
      "489:\tlearn: 0.0712412\ttotal: 41.4s\tremaining: 43.1s\n",
      "490:\tlearn: 0.0710300\ttotal: 41.5s\tremaining: 43s\n",
      "491:\tlearn: 0.0709657\ttotal: 41.6s\tremaining: 43s\n",
      "492:\tlearn: 0.0709117\ttotal: 41.7s\tremaining: 42.9s\n",
      "493:\tlearn: 0.0708578\ttotal: 41.8s\tremaining: 42.8s\n",
      "494:\tlearn: 0.0707589\ttotal: 41.9s\tremaining: 42.7s\n",
      "495:\tlearn: 0.0707062\ttotal: 41.9s\tremaining: 42.6s\n",
      "496:\tlearn: 0.0706544\ttotal: 42s\tremaining: 42.5s\n",
      "497:\tlearn: 0.0704928\ttotal: 42.1s\tremaining: 42.4s\n",
      "498:\tlearn: 0.0704426\ttotal: 42.2s\tremaining: 42.4s\n",
      "499:\tlearn: 0.0703688\ttotal: 42.3s\tremaining: 42.3s\n",
      "500:\tlearn: 0.0701551\ttotal: 42.4s\tremaining: 42.2s\n",
      "501:\tlearn: 0.0700215\ttotal: 42.5s\tremaining: 42.1s\n",
      "502:\tlearn: 0.0699700\ttotal: 42.6s\tremaining: 42.1s\n",
      "503:\tlearn: 0.0699215\ttotal: 42.7s\tremaining: 42s\n",
      "504:\tlearn: 0.0698298\ttotal: 42.7s\tremaining: 41.9s\n",
      "505:\tlearn: 0.0697792\ttotal: 42.8s\tremaining: 41.8s\n",
      "506:\tlearn: 0.0696931\ttotal: 42.9s\tremaining: 41.7s\n",
      "507:\tlearn: 0.0696422\ttotal: 43s\tremaining: 41.6s\n",
      "508:\tlearn: 0.0694315\ttotal: 43.1s\tremaining: 41.6s\n",
      "509:\tlearn: 0.0693742\ttotal: 43.2s\tremaining: 41.5s\n",
      "510:\tlearn: 0.0693178\ttotal: 43.2s\tremaining: 41.4s\n",
      "511:\tlearn: 0.0692663\ttotal: 43.3s\tremaining: 41.3s\n",
      "512:\tlearn: 0.0692151\ttotal: 43.4s\tremaining: 41.2s\n",
      "513:\tlearn: 0.0689978\ttotal: 43.5s\tremaining: 41.1s\n",
      "514:\tlearn: 0.0689435\ttotal: 43.6s\tremaining: 41s\n",
      "515:\tlearn: 0.0687844\ttotal: 43.7s\tremaining: 41s\n",
      "516:\tlearn: 0.0685578\ttotal: 43.8s\tremaining: 40.9s\n",
      "517:\tlearn: 0.0684913\ttotal: 43.9s\tremaining: 40.8s\n",
      "518:\tlearn: 0.0684416\ttotal: 43.9s\tremaining: 40.7s\n",
      "519:\tlearn: 0.0682038\ttotal: 44s\tremaining: 40.6s\n",
      "520:\tlearn: 0.0681583\ttotal: 44.1s\tremaining: 40.6s\n",
      "521:\tlearn: 0.0679744\ttotal: 44.2s\tremaining: 40.5s\n",
      "522:\tlearn: 0.0679159\ttotal: 44.4s\tremaining: 40.5s\n",
      "523:\tlearn: 0.0678259\ttotal: 44.5s\tremaining: 40.4s\n",
      "524:\tlearn: 0.0677774\ttotal: 44.6s\tremaining: 40.3s\n",
      "525:\tlearn: 0.0676993\ttotal: 44.7s\tremaining: 40.3s\n",
      "526:\tlearn: 0.0674746\ttotal: 44.8s\tremaining: 40.2s\n",
      "527:\tlearn: 0.0674188\ttotal: 44.8s\tremaining: 40.1s\n",
      "528:\tlearn: 0.0673698\ttotal: 44.9s\tremaining: 40s\n",
      "529:\tlearn: 0.0672980\ttotal: 45s\tremaining: 39.9s\n",
      "530:\tlearn: 0.0670931\ttotal: 45.1s\tremaining: 39.8s\n",
      "531:\tlearn: 0.0670494\ttotal: 45.2s\tremaining: 39.7s\n",
      "532:\tlearn: 0.0670048\ttotal: 45.3s\tremaining: 39.6s\n",
      "533:\tlearn: 0.0669587\ttotal: 45.3s\tremaining: 39.6s\n",
      "534:\tlearn: 0.0669121\ttotal: 45.4s\tremaining: 39.5s\n",
      "535:\tlearn: 0.0667147\ttotal: 45.5s\tremaining: 39.4s\n",
      "536:\tlearn: 0.0666672\ttotal: 45.6s\tremaining: 39.3s\n",
      "537:\tlearn: 0.0665764\ttotal: 45.7s\tremaining: 39.2s\n",
      "538:\tlearn: 0.0665161\ttotal: 45.7s\tremaining: 39.1s\n",
      "539:\tlearn: 0.0664092\ttotal: 45.8s\tremaining: 39s\n",
      "540:\tlearn: 0.0663662\ttotal: 45.9s\tremaining: 39s\n",
      "541:\tlearn: 0.0663242\ttotal: 46s\tremaining: 38.9s\n",
      "542:\tlearn: 0.0662649\ttotal: 46.1s\tremaining: 38.8s\n",
      "543:\tlearn: 0.0660605\ttotal: 46.2s\tremaining: 38.7s\n",
      "544:\tlearn: 0.0659415\ttotal: 46.2s\tremaining: 38.6s\n",
      "545:\tlearn: 0.0658975\ttotal: 46.3s\tremaining: 38.5s\n",
      "546:\tlearn: 0.0658547\ttotal: 46.4s\tremaining: 38.5s\n",
      "547:\tlearn: 0.0657636\ttotal: 46.6s\tremaining: 38.4s\n",
      "548:\tlearn: 0.0657216\ttotal: 46.6s\tremaining: 38.3s\n",
      "549:\tlearn: 0.0656787\ttotal: 46.7s\tremaining: 38.2s\n",
      "550:\tlearn: 0.0655084\ttotal: 46.8s\tremaining: 38.2s\n",
      "551:\tlearn: 0.0654122\ttotal: 46.9s\tremaining: 38.1s\n",
      "552:\tlearn: 0.0653711\ttotal: 47s\tremaining: 38s\n",
      "553:\tlearn: 0.0652092\ttotal: 47.1s\tremaining: 38s\n",
      "554:\tlearn: 0.0651683\ttotal: 47.3s\tremaining: 37.9s\n",
      "555:\tlearn: 0.0650031\ttotal: 47.4s\tremaining: 37.8s\n",
      "556:\tlearn: 0.0649573\ttotal: 47.5s\tremaining: 37.8s\n",
      "557:\tlearn: 0.0649137\ttotal: 47.6s\tremaining: 37.7s\n",
      "558:\tlearn: 0.0648121\ttotal: 47.7s\tremaining: 37.6s\n",
      "559:\tlearn: 0.0647712\ttotal: 47.9s\tremaining: 37.6s\n",
      "560:\tlearn: 0.0646592\ttotal: 48s\tremaining: 37.6s\n",
      "561:\tlearn: 0.0645456\ttotal: 48.1s\tremaining: 37.5s\n",
      "562:\tlearn: 0.0644861\ttotal: 48.2s\tremaining: 37.4s\n",
      "563:\tlearn: 0.0644349\ttotal: 48.3s\tremaining: 37.3s\n",
      "564:\tlearn: 0.0642976\ttotal: 48.3s\tremaining: 37.2s\n",
      "565:\tlearn: 0.0642531\ttotal: 48.4s\tremaining: 37.1s\n",
      "566:\tlearn: 0.0642136\ttotal: 48.5s\tremaining: 37s\n",
      "567:\tlearn: 0.0641001\ttotal: 48.6s\tremaining: 37s\n",
      "568:\tlearn: 0.0640546\ttotal: 48.7s\tremaining: 36.9s\n",
      "569:\tlearn: 0.0639013\ttotal: 48.8s\tremaining: 36.8s\n",
      "570:\tlearn: 0.0638578\ttotal: 48.8s\tremaining: 36.7s\n",
      "571:\tlearn: 0.0637870\ttotal: 48.9s\tremaining: 36.6s\n",
      "572:\tlearn: 0.0637484\ttotal: 49s\tremaining: 36.5s\n",
      "573:\tlearn: 0.0635665\ttotal: 49.1s\tremaining: 36.4s\n",
      "574:\tlearn: 0.0634750\ttotal: 49.2s\tremaining: 36.3s\n",
      "575:\tlearn: 0.0634305\ttotal: 49.3s\tremaining: 36.3s\n",
      "576:\tlearn: 0.0633913\ttotal: 49.4s\tremaining: 36.2s\n",
      "577:\tlearn: 0.0631948\ttotal: 49.6s\tremaining: 36.2s\n",
      "578:\tlearn: 0.0631319\ttotal: 49.7s\tremaining: 36.2s\n",
      "579:\tlearn: 0.0630937\ttotal: 49.8s\tremaining: 36.1s\n",
      "580:\tlearn: 0.0630452\ttotal: 50s\tremaining: 36s\n",
      "581:\tlearn: 0.0630074\ttotal: 50.1s\tremaining: 36s\n",
      "582:\tlearn: 0.0629489\ttotal: 50.2s\tremaining: 35.9s\n",
      "583:\tlearn: 0.0628641\ttotal: 50.3s\tremaining: 35.8s\n",
      "584:\tlearn: 0.0627750\ttotal: 50.4s\tremaining: 35.8s\n",
      "585:\tlearn: 0.0627384\ttotal: 50.5s\tremaining: 35.7s\n",
      "586:\tlearn: 0.0626946\ttotal: 50.7s\tremaining: 35.6s\n",
      "587:\tlearn: 0.0626509\ttotal: 50.8s\tremaining: 35.6s\n",
      "588:\tlearn: 0.0625469\ttotal: 50.9s\tremaining: 35.5s\n",
      "589:\tlearn: 0.0625096\ttotal: 51s\tremaining: 35.4s\n",
      "590:\tlearn: 0.0624591\ttotal: 51.1s\tremaining: 35.4s\n",
      "591:\tlearn: 0.0623137\ttotal: 51.2s\tremaining: 35.3s\n",
      "592:\tlearn: 0.0622687\ttotal: 51.3s\tremaining: 35.2s\n",
      "593:\tlearn: 0.0622314\ttotal: 51.4s\tremaining: 35.1s\n",
      "594:\tlearn: 0.0619793\ttotal: 51.5s\tremaining: 35.1s\n",
      "595:\tlearn: 0.0619247\ttotal: 51.7s\tremaining: 35s\n",
      "596:\tlearn: 0.0618854\ttotal: 51.8s\tremaining: 35s\n",
      "597:\tlearn: 0.0618396\ttotal: 51.9s\tremaining: 34.9s\n",
      "598:\tlearn: 0.0617888\ttotal: 52s\tremaining: 34.8s\n",
      "599:\tlearn: 0.0617141\ttotal: 52.1s\tremaining: 34.7s\n",
      "600:\tlearn: 0.0616787\ttotal: 52.2s\tremaining: 34.6s\n",
      "601:\tlearn: 0.0616317\ttotal: 52.3s\tremaining: 34.6s\n",
      "602:\tlearn: 0.0615473\ttotal: 52.4s\tremaining: 34.5s\n",
      "603:\tlearn: 0.0615118\ttotal: 52.6s\tremaining: 34.5s\n",
      "604:\tlearn: 0.0614115\ttotal: 52.7s\tremaining: 34.4s\n",
      "605:\tlearn: 0.0613043\ttotal: 52.8s\tremaining: 34.3s\n",
      "606:\tlearn: 0.0612682\ttotal: 52.9s\tremaining: 34.3s\n",
      "607:\tlearn: 0.0612337\ttotal: 53.1s\tremaining: 34.2s\n",
      "608:\tlearn: 0.0611795\ttotal: 53.2s\tremaining: 34.2s\n",
      "609:\tlearn: 0.0611177\ttotal: 53.3s\tremaining: 34.1s\n",
      "610:\tlearn: 0.0610307\ttotal: 53.4s\tremaining: 34s\n",
      "611:\tlearn: 0.0609970\ttotal: 53.5s\tremaining: 33.9s\n",
      "612:\tlearn: 0.0609611\ttotal: 53.6s\tremaining: 33.9s\n",
      "613:\tlearn: 0.0609281\ttotal: 53.7s\tremaining: 33.8s\n",
      "614:\tlearn: 0.0607606\ttotal: 53.8s\tremaining: 33.7s\n",
      "615:\tlearn: 0.0607216\ttotal: 53.9s\tremaining: 33.6s\n",
      "616:\tlearn: 0.0606886\ttotal: 54.3s\tremaining: 33.7s\n",
      "617:\tlearn: 0.0606097\ttotal: 54.5s\tremaining: 33.7s\n",
      "618:\tlearn: 0.0605758\ttotal: 54.8s\tremaining: 33.7s\n",
      "619:\tlearn: 0.0604095\ttotal: 54.9s\tremaining: 33.6s\n",
      "620:\tlearn: 0.0603486\ttotal: 55.1s\tremaining: 33.6s\n",
      "621:\tlearn: 0.0603170\ttotal: 55.2s\tremaining: 33.5s\n",
      "622:\tlearn: 0.0601136\ttotal: 55.3s\tremaining: 33.5s\n",
      "623:\tlearn: 0.0600670\ttotal: 55.4s\tremaining: 33.4s\n",
      "624:\tlearn: 0.0599189\ttotal: 55.6s\tremaining: 33.3s\n",
      "625:\tlearn: 0.0598083\ttotal: 55.7s\tremaining: 33.3s\n",
      "626:\tlearn: 0.0597716\ttotal: 55.8s\tremaining: 33.2s\n",
      "627:\tlearn: 0.0597084\ttotal: 56s\tremaining: 33.2s\n",
      "628:\tlearn: 0.0596525\ttotal: 56.2s\tremaining: 33.1s\n",
      "629:\tlearn: 0.0595553\ttotal: 56.4s\tremaining: 33.1s\n",
      "630:\tlearn: 0.0595205\ttotal: 56.5s\tremaining: 33.1s\n",
      "631:\tlearn: 0.0593868\ttotal: 56.7s\tremaining: 33s\n",
      "632:\tlearn: 0.0593515\ttotal: 56.8s\tremaining: 32.9s\n",
      "633:\tlearn: 0.0592875\ttotal: 56.9s\tremaining: 32.8s\n",
      "634:\tlearn: 0.0592034\ttotal: 57s\tremaining: 32.8s\n",
      "635:\tlearn: 0.0591287\ttotal: 57.2s\tremaining: 32.7s\n",
      "636:\tlearn: 0.0590908\ttotal: 57.3s\tremaining: 32.7s\n",
      "637:\tlearn: 0.0590589\ttotal: 57.5s\tremaining: 32.6s\n",
      "638:\tlearn: 0.0590282\ttotal: 57.7s\tremaining: 32.6s\n",
      "639:\tlearn: 0.0589992\ttotal: 57.9s\tremaining: 32.6s\n",
      "640:\tlearn: 0.0589325\ttotal: 58.1s\tremaining: 32.5s\n",
      "641:\tlearn: 0.0588888\ttotal: 58.3s\tremaining: 32.5s\n",
      "642:\tlearn: 0.0587671\ttotal: 58.4s\tremaining: 32.4s\n",
      "643:\tlearn: 0.0587115\ttotal: 58.6s\tremaining: 32.4s\n"
     ]
    },
    {
     "name": "stdout",
     "output_type": "stream",
     "text": [
      "644:\tlearn: 0.0586014\ttotal: 58.8s\tremaining: 32.4s\n",
      "645:\tlearn: 0.0585665\ttotal: 58.9s\tremaining: 32.3s\n",
      "646:\tlearn: 0.0585348\ttotal: 59.1s\tremaining: 32.3s\n",
      "647:\tlearn: 0.0585037\ttotal: 59.3s\tremaining: 32.2s\n",
      "648:\tlearn: 0.0584716\ttotal: 59.5s\tremaining: 32.2s\n",
      "649:\tlearn: 0.0584416\ttotal: 59.6s\tremaining: 32.1s\n",
      "650:\tlearn: 0.0582965\ttotal: 59.8s\tremaining: 32s\n",
      "651:\tlearn: 0.0581630\ttotal: 59.9s\tremaining: 32s\n",
      "652:\tlearn: 0.0581190\ttotal: 1m\tremaining: 31.9s\n",
      "653:\tlearn: 0.0580882\ttotal: 1m\tremaining: 31.9s\n",
      "654:\tlearn: 0.0580048\ttotal: 1m\tremaining: 31.8s\n",
      "655:\tlearn: 0.0578908\ttotal: 1m\tremaining: 31.8s\n",
      "656:\tlearn: 0.0578561\ttotal: 1m\tremaining: 31.7s\n",
      "657:\tlearn: 0.0578249\ttotal: 1m\tremaining: 31.6s\n",
      "658:\tlearn: 0.0577963\ttotal: 1m\tremaining: 31.5s\n",
      "659:\tlearn: 0.0577490\ttotal: 1m 1s\tremaining: 31.5s\n",
      "660:\tlearn: 0.0577022\ttotal: 1m 1s\tremaining: 31.4s\n",
      "661:\tlearn: 0.0576740\ttotal: 1m 1s\tremaining: 31.3s\n",
      "662:\tlearn: 0.0575425\ttotal: 1m 1s\tremaining: 31.2s\n",
      "663:\tlearn: 0.0575110\ttotal: 1m 1s\tremaining: 31.1s\n",
      "664:\tlearn: 0.0574828\ttotal: 1m 1s\tremaining: 31s\n",
      "665:\tlearn: 0.0574276\ttotal: 1m 1s\tremaining: 30.9s\n",
      "666:\tlearn: 0.0573999\ttotal: 1m 1s\tremaining: 30.8s\n",
      "667:\tlearn: 0.0573327\ttotal: 1m 1s\tremaining: 30.7s\n",
      "668:\tlearn: 0.0573038\ttotal: 1m 1s\tremaining: 30.7s\n",
      "669:\tlearn: 0.0571901\ttotal: 1m 2s\tremaining: 30.6s\n",
      "670:\tlearn: 0.0571590\ttotal: 1m 2s\tremaining: 30.5s\n",
      "671:\tlearn: 0.0570448\ttotal: 1m 2s\tremaining: 30.4s\n",
      "672:\tlearn: 0.0570053\ttotal: 1m 2s\tremaining: 30.3s\n",
      "673:\tlearn: 0.0569792\ttotal: 1m 2s\tremaining: 30.2s\n",
      "674:\tlearn: 0.0568865\ttotal: 1m 2s\tremaining: 30.1s\n",
      "675:\tlearn: 0.0568424\ttotal: 1m 2s\tremaining: 30.1s\n",
      "676:\tlearn: 0.0567153\ttotal: 1m 2s\tremaining: 30s\n",
      "677:\tlearn: 0.0566829\ttotal: 1m 2s\tremaining: 29.9s\n",
      "678:\tlearn: 0.0565869\ttotal: 1m 3s\tremaining: 29.8s\n",
      "679:\tlearn: 0.0565544\ttotal: 1m 3s\tremaining: 29.7s\n",
      "680:\tlearn: 0.0565267\ttotal: 1m 3s\tremaining: 29.6s\n",
      "681:\tlearn: 0.0564698\ttotal: 1m 3s\tremaining: 29.5s\n",
      "682:\tlearn: 0.0563740\ttotal: 1m 3s\tremaining: 29.4s\n",
      "683:\tlearn: 0.0562852\ttotal: 1m 3s\tremaining: 29.3s\n",
      "684:\tlearn: 0.0562578\ttotal: 1m 3s\tremaining: 29.2s\n",
      "685:\tlearn: 0.0562308\ttotal: 1m 3s\tremaining: 29.1s\n",
      "686:\tlearn: 0.0561360\ttotal: 1m 3s\tremaining: 29.1s\n",
      "687:\tlearn: 0.0561087\ttotal: 1m 3s\tremaining: 29s\n",
      "688:\tlearn: 0.0559588\ttotal: 1m 3s\tremaining: 28.9s\n",
      "689:\tlearn: 0.0559268\ttotal: 1m 4s\tremaining: 28.8s\n",
      "690:\tlearn: 0.0558422\ttotal: 1m 4s\tremaining: 28.7s\n",
      "691:\tlearn: 0.0558146\ttotal: 1m 4s\tremaining: 28.6s\n",
      "692:\tlearn: 0.0557890\ttotal: 1m 4s\tremaining: 28.5s\n",
      "693:\tlearn: 0.0557396\ttotal: 1m 4s\tremaining: 28.4s\n",
      "694:\tlearn: 0.0555965\ttotal: 1m 4s\tremaining: 28.3s\n",
      "695:\tlearn: 0.0555657\ttotal: 1m 4s\tremaining: 28.2s\n",
      "696:\tlearn: 0.0555010\ttotal: 1m 4s\tremaining: 28.1s\n",
      "697:\tlearn: 0.0554595\ttotal: 1m 4s\tremaining: 28s\n",
      "698:\tlearn: 0.0553899\ttotal: 1m 4s\tremaining: 27.9s\n",
      "699:\tlearn: 0.0553213\ttotal: 1m 4s\tremaining: 27.8s\n",
      "700:\tlearn: 0.0552942\ttotal: 1m 5s\tremaining: 27.8s\n",
      "701:\tlearn: 0.0551723\ttotal: 1m 5s\tremaining: 27.7s\n",
      "702:\tlearn: 0.0551454\ttotal: 1m 5s\tremaining: 27.6s\n",
      "703:\tlearn: 0.0551172\ttotal: 1m 5s\tremaining: 27.5s\n",
      "704:\tlearn: 0.0550711\ttotal: 1m 5s\tremaining: 27.4s\n",
      "705:\tlearn: 0.0550426\ttotal: 1m 5s\tremaining: 27.3s\n",
      "706:\tlearn: 0.0550177\ttotal: 1m 5s\tremaining: 27.2s\n",
      "707:\tlearn: 0.0549884\ttotal: 1m 5s\tremaining: 27.1s\n",
      "708:\tlearn: 0.0548425\ttotal: 1m 5s\tremaining: 27s\n",
      "709:\tlearn: 0.0548115\ttotal: 1m 5s\tremaining: 26.9s\n",
      "710:\tlearn: 0.0547866\ttotal: 1m 5s\tremaining: 26.8s\n",
      "711:\tlearn: 0.0547174\ttotal: 1m 6s\tremaining: 26.7s\n",
      "712:\tlearn: 0.0546933\ttotal: 1m 6s\tremaining: 26.6s\n",
      "713:\tlearn: 0.0546215\ttotal: 1m 6s\tremaining: 26.5s\n",
      "714:\tlearn: 0.0545990\ttotal: 1m 6s\tremaining: 26.4s\n",
      "715:\tlearn: 0.0544808\ttotal: 1m 6s\tremaining: 26.3s\n",
      "716:\tlearn: 0.0544546\ttotal: 1m 6s\tremaining: 26.3s\n",
      "717:\tlearn: 0.0544159\ttotal: 1m 6s\tremaining: 26.2s\n",
      "718:\tlearn: 0.0543923\ttotal: 1m 6s\tremaining: 26.1s\n",
      "719:\tlearn: 0.0543498\ttotal: 1m 6s\tremaining: 26s\n",
      "720:\tlearn: 0.0543268\ttotal: 1m 6s\tremaining: 25.9s\n",
      "721:\tlearn: 0.0542960\ttotal: 1m 6s\tremaining: 25.8s\n",
      "722:\tlearn: 0.0542732\ttotal: 1m 7s\tremaining: 25.7s\n",
      "723:\tlearn: 0.0542163\ttotal: 1m 7s\tremaining: 25.6s\n",
      "724:\tlearn: 0.0541931\ttotal: 1m 7s\tremaining: 25.5s\n",
      "725:\tlearn: 0.0541706\ttotal: 1m 7s\tremaining: 25.4s\n",
      "726:\tlearn: 0.0541445\ttotal: 1m 7s\tremaining: 25.4s\n",
      "727:\tlearn: 0.0540380\ttotal: 1m 7s\tremaining: 25.3s\n",
      "728:\tlearn: 0.0539999\ttotal: 1m 7s\tremaining: 25.2s\n",
      "729:\tlearn: 0.0539620\ttotal: 1m 7s\tremaining: 25.1s\n",
      "730:\tlearn: 0.0539395\ttotal: 1m 7s\tremaining: 25s\n",
      "731:\tlearn: 0.0538819\ttotal: 1m 7s\tremaining: 24.9s\n",
      "732:\tlearn: 0.0537887\ttotal: 1m 8s\tremaining: 24.8s\n",
      "733:\tlearn: 0.0537641\ttotal: 1m 8s\tremaining: 24.7s\n",
      "734:\tlearn: 0.0536820\ttotal: 1m 8s\tremaining: 24.6s\n",
      "735:\tlearn: 0.0536230\ttotal: 1m 8s\tremaining: 24.5s\n",
      "736:\tlearn: 0.0535975\ttotal: 1m 8s\tremaining: 24.4s\n",
      "737:\tlearn: 0.0535529\ttotal: 1m 8s\tremaining: 24.3s\n",
      "738:\tlearn: 0.0534798\ttotal: 1m 8s\tremaining: 24.2s\n",
      "739:\tlearn: 0.0534571\ttotal: 1m 8s\tremaining: 24.2s\n",
      "740:\tlearn: 0.0534283\ttotal: 1m 8s\tremaining: 24.1s\n",
      "741:\tlearn: 0.0534052\ttotal: 1m 8s\tremaining: 24s\n",
      "742:\tlearn: 0.0533833\ttotal: 1m 9s\tremaining: 23.9s\n",
      "743:\tlearn: 0.0533366\ttotal: 1m 9s\tremaining: 23.8s\n",
      "744:\tlearn: 0.0533146\ttotal: 1m 9s\tremaining: 23.7s\n",
      "745:\tlearn: 0.0532932\ttotal: 1m 9s\tremaining: 23.6s\n",
      "746:\tlearn: 0.0531908\ttotal: 1m 9s\tremaining: 23.5s\n",
      "747:\tlearn: 0.0531687\ttotal: 1m 9s\tremaining: 23.4s\n",
      "748:\tlearn: 0.0531475\ttotal: 1m 9s\tremaining: 23.3s\n",
      "749:\tlearn: 0.0531268\ttotal: 1m 9s\tremaining: 23.2s\n",
      "750:\tlearn: 0.0530418\ttotal: 1m 9s\tremaining: 23.1s\n",
      "751:\tlearn: 0.0530136\ttotal: 1m 9s\tremaining: 23s\n",
      "752:\tlearn: 0.0529917\ttotal: 1m 9s\tremaining: 23s\n",
      "753:\tlearn: 0.0529712\ttotal: 1m 10s\tremaining: 22.9s\n",
      "754:\tlearn: 0.0529280\ttotal: 1m 10s\tremaining: 22.8s\n",
      "755:\tlearn: 0.0529060\ttotal: 1m 10s\tremaining: 22.7s\n",
      "756:\tlearn: 0.0528851\ttotal: 1m 10s\tremaining: 22.6s\n",
      "757:\tlearn: 0.0528357\ttotal: 1m 10s\tremaining: 22.5s\n",
      "758:\tlearn: 0.0528139\ttotal: 1m 10s\tremaining: 22.4s\n",
      "759:\tlearn: 0.0527928\ttotal: 1m 10s\tremaining: 22.3s\n",
      "760:\tlearn: 0.0527408\ttotal: 1m 10s\tremaining: 22.2s\n",
      "761:\tlearn: 0.0527187\ttotal: 1m 10s\tremaining: 22.1s\n",
      "762:\tlearn: 0.0526991\ttotal: 1m 10s\tremaining: 22s\n",
      "763:\tlearn: 0.0526623\ttotal: 1m 10s\tremaining: 21.9s\n",
      "764:\tlearn: 0.0526430\ttotal: 1m 11s\tremaining: 21.8s\n",
      "765:\tlearn: 0.0526239\ttotal: 1m 11s\tremaining: 21.7s\n",
      "766:\tlearn: 0.0525318\ttotal: 1m 11s\tremaining: 21.6s\n",
      "767:\tlearn: 0.0525061\ttotal: 1m 11s\tremaining: 21.5s\n",
      "768:\tlearn: 0.0524193\ttotal: 1m 11s\tremaining: 21.4s\n",
      "769:\tlearn: 0.0523826\ttotal: 1m 11s\tremaining: 21.3s\n",
      "770:\tlearn: 0.0523643\ttotal: 1m 11s\tremaining: 21.2s\n",
      "771:\tlearn: 0.0523072\ttotal: 1m 11s\tremaining: 21.1s\n",
      "772:\tlearn: 0.0522764\ttotal: 1m 11s\tremaining: 21.1s\n",
      "773:\tlearn: 0.0522570\ttotal: 1m 11s\tremaining: 21s\n",
      "774:\tlearn: 0.0521333\ttotal: 1m 11s\tremaining: 20.9s\n",
      "775:\tlearn: 0.0521017\ttotal: 1m 12s\tremaining: 20.8s\n",
      "776:\tlearn: 0.0520807\ttotal: 1m 12s\tremaining: 20.7s\n",
      "777:\tlearn: 0.0520451\ttotal: 1m 12s\tremaining: 20.6s\n",
      "778:\tlearn: 0.0519662\ttotal: 1m 12s\tremaining: 20.5s\n",
      "779:\tlearn: 0.0519448\ttotal: 1m 12s\tremaining: 20.4s\n",
      "780:\tlearn: 0.0519234\ttotal: 1m 12s\tremaining: 20.4s\n",
      "781:\tlearn: 0.0518223\ttotal: 1m 12s\tremaining: 20.3s\n",
      "782:\tlearn: 0.0518036\ttotal: 1m 12s\tremaining: 20.2s\n",
      "783:\tlearn: 0.0516387\ttotal: 1m 12s\tremaining: 20.1s\n",
      "784:\tlearn: 0.0516165\ttotal: 1m 13s\tremaining: 20s\n",
      "785:\tlearn: 0.0515966\ttotal: 1m 13s\tremaining: 19.9s\n",
      "786:\tlearn: 0.0515755\ttotal: 1m 13s\tremaining: 19.8s\n",
      "787:\tlearn: 0.0515548\ttotal: 1m 13s\tremaining: 19.7s\n",
      "788:\tlearn: 0.0514800\ttotal: 1m 13s\tremaining: 19.7s\n",
      "789:\tlearn: 0.0514369\ttotal: 1m 13s\tremaining: 19.6s\n",
      "790:\tlearn: 0.0514221\ttotal: 1m 13s\tremaining: 19.5s\n",
      "791:\tlearn: 0.0514039\ttotal: 1m 13s\tremaining: 19.4s\n",
      "792:\tlearn: 0.0513677\ttotal: 1m 13s\tremaining: 19.3s\n",
      "793:\tlearn: 0.0513374\ttotal: 1m 14s\tremaining: 19.2s\n",
      "794:\tlearn: 0.0512912\ttotal: 1m 14s\tremaining: 19.1s\n",
      "795:\tlearn: 0.0511961\ttotal: 1m 14s\tremaining: 19s\n",
      "796:\tlearn: 0.0511684\ttotal: 1m 14s\tremaining: 18.9s\n",
      "797:\tlearn: 0.0511486\ttotal: 1m 14s\tremaining: 18.8s\n",
      "798:\tlearn: 0.0511303\ttotal: 1m 14s\tremaining: 18.7s\n",
      "799:\tlearn: 0.0510580\ttotal: 1m 14s\tremaining: 18.7s\n",
      "800:\tlearn: 0.0510363\ttotal: 1m 14s\tremaining: 18.6s\n",
      "801:\tlearn: 0.0509396\ttotal: 1m 14s\tremaining: 18.5s\n"
     ]
    },
    {
     "name": "stdout",
     "output_type": "stream",
     "text": [
      "802:\tlearn: 0.0509178\ttotal: 1m 14s\tremaining: 18.4s\n",
      "803:\tlearn: 0.0508912\ttotal: 1m 14s\tremaining: 18.3s\n",
      "804:\tlearn: 0.0507965\ttotal: 1m 15s\tremaining: 18.2s\n",
      "805:\tlearn: 0.0507684\ttotal: 1m 15s\tremaining: 18.1s\n",
      "806:\tlearn: 0.0507366\ttotal: 1m 15s\tremaining: 18s\n",
      "807:\tlearn: 0.0507202\ttotal: 1m 15s\tremaining: 17.9s\n",
      "808:\tlearn: 0.0507010\ttotal: 1m 15s\tremaining: 17.8s\n",
      "809:\tlearn: 0.0506835\ttotal: 1m 15s\tremaining: 17.7s\n",
      "810:\tlearn: 0.0506481\ttotal: 1m 15s\tremaining: 17.6s\n",
      "811:\tlearn: 0.0505488\ttotal: 1m 15s\tremaining: 17.5s\n",
      "812:\tlearn: 0.0505154\ttotal: 1m 15s\tremaining: 17.5s\n",
      "813:\tlearn: 0.0504860\ttotal: 1m 15s\tremaining: 17.4s\n",
      "814:\tlearn: 0.0504676\ttotal: 1m 16s\tremaining: 17.3s\n",
      "815:\tlearn: 0.0503608\ttotal: 1m 16s\tremaining: 17.2s\n",
      "816:\tlearn: 0.0503354\ttotal: 1m 16s\tremaining: 17.1s\n",
      "817:\tlearn: 0.0503198\ttotal: 1m 16s\tremaining: 17s\n",
      "818:\tlearn: 0.0503016\ttotal: 1m 16s\tremaining: 16.9s\n",
      "819:\tlearn: 0.0502452\ttotal: 1m 16s\tremaining: 16.8s\n",
      "820:\tlearn: 0.0502216\ttotal: 1m 16s\tremaining: 16.7s\n",
      "821:\tlearn: 0.0501711\ttotal: 1m 16s\tremaining: 16.6s\n",
      "822:\tlearn: 0.0500198\ttotal: 1m 16s\tremaining: 16.6s\n",
      "823:\tlearn: 0.0499824\ttotal: 1m 17s\tremaining: 16.5s\n",
      "824:\tlearn: 0.0499581\ttotal: 1m 17s\tremaining: 16.4s\n",
      "825:\tlearn: 0.0499347\ttotal: 1m 17s\tremaining: 16.3s\n",
      "826:\tlearn: 0.0499347\ttotal: 1m 17s\tremaining: 16.2s\n",
      "827:\tlearn: 0.0498795\ttotal: 1m 17s\tremaining: 16.1s\n",
      "828:\tlearn: 0.0498367\ttotal: 1m 17s\tremaining: 16s\n",
      "829:\tlearn: 0.0498179\ttotal: 1m 17s\tremaining: 15.9s\n",
      "830:\tlearn: 0.0497784\ttotal: 1m 17s\tremaining: 15.8s\n",
      "831:\tlearn: 0.0497077\ttotal: 1m 18s\tremaining: 15.8s\n",
      "832:\tlearn: 0.0496944\ttotal: 1m 18s\tremaining: 15.7s\n",
      "833:\tlearn: 0.0496771\ttotal: 1m 18s\tremaining: 15.6s\n",
      "834:\tlearn: 0.0496602\ttotal: 1m 18s\tremaining: 15.5s\n",
      "835:\tlearn: 0.0496404\ttotal: 1m 18s\tremaining: 15.4s\n",
      "836:\tlearn: 0.0496123\ttotal: 1m 18s\tremaining: 15.3s\n",
      "837:\tlearn: 0.0495957\ttotal: 1m 18s\tremaining: 15.2s\n",
      "838:\tlearn: 0.0494895\ttotal: 1m 18s\tremaining: 15.1s\n",
      "839:\tlearn: 0.0494678\ttotal: 1m 19s\tremaining: 15.1s\n",
      "840:\tlearn: 0.0494484\ttotal: 1m 19s\tremaining: 15s\n",
      "841:\tlearn: 0.0494308\ttotal: 1m 19s\tremaining: 14.9s\n",
      "842:\tlearn: 0.0493993\ttotal: 1m 19s\tremaining: 14.8s\n",
      "843:\tlearn: 0.0493819\ttotal: 1m 19s\tremaining: 14.7s\n",
      "844:\tlearn: 0.0493657\ttotal: 1m 19s\tremaining: 14.6s\n",
      "845:\tlearn: 0.0493501\ttotal: 1m 19s\tremaining: 14.5s\n",
      "846:\tlearn: 0.0493138\ttotal: 1m 19s\tremaining: 14.4s\n",
      "847:\tlearn: 0.0492835\ttotal: 1m 20s\tremaining: 14.4s\n",
      "848:\tlearn: 0.0492583\ttotal: 1m 20s\tremaining: 14.3s\n",
      "849:\tlearn: 0.0492387\ttotal: 1m 20s\tremaining: 14.2s\n",
      "850:\tlearn: 0.0492230\ttotal: 1m 20s\tremaining: 14.1s\n",
      "851:\tlearn: 0.0492069\ttotal: 1m 20s\tremaining: 14s\n",
      "852:\tlearn: 0.0491703\ttotal: 1m 20s\tremaining: 13.9s\n",
      "853:\tlearn: 0.0491543\ttotal: 1m 20s\tremaining: 13.8s\n",
      "854:\tlearn: 0.0491388\ttotal: 1m 21s\tremaining: 13.7s\n",
      "855:\tlearn: 0.0491234\ttotal: 1m 21s\tremaining: 13.7s\n",
      "856:\tlearn: 0.0491080\ttotal: 1m 21s\tremaining: 13.6s\n",
      "857:\tlearn: 0.0490948\ttotal: 1m 21s\tremaining: 13.5s\n",
      "858:\tlearn: 0.0490663\ttotal: 1m 21s\tremaining: 13.4s\n",
      "859:\tlearn: 0.0489891\ttotal: 1m 21s\tremaining: 13.3s\n",
      "860:\tlearn: 0.0489718\ttotal: 1m 21s\tremaining: 13.2s\n",
      "861:\tlearn: 0.0489563\ttotal: 1m 21s\tremaining: 13.1s\n",
      "862:\tlearn: 0.0489265\ttotal: 1m 22s\tremaining: 13s\n",
      "863:\tlearn: 0.0488830\ttotal: 1m 22s\tremaining: 12.9s\n",
      "864:\tlearn: 0.0488634\ttotal: 1m 22s\tremaining: 12.9s\n",
      "865:\tlearn: 0.0488299\ttotal: 1m 22s\tremaining: 12.8s\n",
      "866:\tlearn: 0.0487491\ttotal: 1m 22s\tremaining: 12.7s\n",
      "867:\tlearn: 0.0487250\ttotal: 1m 22s\tremaining: 12.6s\n",
      "868:\tlearn: 0.0487092\ttotal: 1m 22s\tremaining: 12.5s\n",
      "869:\tlearn: 0.0486927\ttotal: 1m 23s\tremaining: 12.4s\n",
      "870:\tlearn: 0.0486563\ttotal: 1m 23s\tremaining: 12.3s\n",
      "871:\tlearn: 0.0486408\ttotal: 1m 23s\tremaining: 12.3s\n",
      "872:\tlearn: 0.0486162\ttotal: 1m 23s\tremaining: 12.2s\n",
      "873:\tlearn: 0.0486035\ttotal: 1m 23s\tremaining: 12.1s\n",
      "874:\tlearn: 0.0485889\ttotal: 1m 23s\tremaining: 12s\n",
      "875:\tlearn: 0.0485744\ttotal: 1m 24s\tremaining: 11.9s\n",
      "876:\tlearn: 0.0485608\ttotal: 1m 24s\tremaining: 11.8s\n",
      "877:\tlearn: 0.0484888\ttotal: 1m 24s\tremaining: 11.7s\n",
      "878:\tlearn: 0.0484734\ttotal: 1m 24s\tremaining: 11.6s\n",
      "879:\tlearn: 0.0484464\ttotal: 1m 24s\tremaining: 11.5s\n",
      "880:\tlearn: 0.0484327\ttotal: 1m 24s\tremaining: 11.4s\n",
      "881:\tlearn: 0.0484098\ttotal: 1m 24s\tremaining: 11.3s\n",
      "882:\tlearn: 0.0483724\ttotal: 1m 24s\tremaining: 11.2s\n",
      "883:\tlearn: 0.0483393\ttotal: 1m 24s\tremaining: 11.1s\n",
      "884:\tlearn: 0.0483251\ttotal: 1m 24s\tremaining: 11s\n",
      "885:\tlearn: 0.0482596\ttotal: 1m 25s\tremaining: 10.9s\n",
      "886:\tlearn: 0.0482435\ttotal: 1m 25s\tremaining: 10.8s\n",
      "887:\tlearn: 0.0482259\ttotal: 1m 25s\tremaining: 10.8s\n",
      "888:\tlearn: 0.0482120\ttotal: 1m 25s\tremaining: 10.7s\n",
      "889:\tlearn: 0.0481345\ttotal: 1m 25s\tremaining: 10.6s\n",
      "890:\tlearn: 0.0480990\ttotal: 1m 25s\tremaining: 10.5s\n",
      "891:\tlearn: 0.0480636\ttotal: 1m 25s\tremaining: 10.4s\n",
      "892:\tlearn: 0.0480536\ttotal: 1m 25s\tremaining: 10.3s\n",
      "893:\tlearn: 0.0480367\ttotal: 1m 25s\tremaining: 10.2s\n",
      "894:\tlearn: 0.0479953\ttotal: 1m 26s\tremaining: 10.1s\n",
      "895:\tlearn: 0.0479813\ttotal: 1m 26s\tremaining: 10s\n",
      "896:\tlearn: 0.0479676\ttotal: 1m 26s\tremaining: 9.91s\n",
      "897:\tlearn: 0.0479552\ttotal: 1m 26s\tremaining: 9.83s\n",
      "898:\tlearn: 0.0479125\ttotal: 1m 26s\tremaining: 9.74s\n",
      "899:\tlearn: 0.0478518\ttotal: 1m 26s\tremaining: 9.65s\n",
      "900:\tlearn: 0.0478367\ttotal: 1m 26s\tremaining: 9.55s\n",
      "901:\tlearn: 0.0477832\ttotal: 1m 27s\tremaining: 9.46s\n",
      "902:\tlearn: 0.0476952\ttotal: 1m 27s\tremaining: 9.37s\n",
      "903:\tlearn: 0.0476736\ttotal: 1m 27s\tremaining: 9.29s\n",
      "904:\tlearn: 0.0476585\ttotal: 1m 27s\tremaining: 9.19s\n",
      "905:\tlearn: 0.0476311\ttotal: 1m 27s\tremaining: 9.1s\n",
      "906:\tlearn: 0.0476144\ttotal: 1m 27s\tremaining: 9s\n",
      "907:\tlearn: 0.0476024\ttotal: 1m 27s\tremaining: 8.91s\n",
      "908:\tlearn: 0.0475111\ttotal: 1m 28s\tremaining: 8.84s\n",
      "909:\tlearn: 0.0474837\ttotal: 1m 28s\tremaining: 8.75s\n",
      "910:\tlearn: 0.0474693\ttotal: 1m 28s\tremaining: 8.66s\n",
      "911:\tlearn: 0.0474604\ttotal: 1m 28s\tremaining: 8.57s\n",
      "912:\tlearn: 0.0474482\ttotal: 1m 29s\tremaining: 8.48s\n",
      "913:\tlearn: 0.0473617\ttotal: 1m 29s\tremaining: 8.39s\n",
      "914:\tlearn: 0.0473445\ttotal: 1m 29s\tremaining: 8.3s\n",
      "915:\tlearn: 0.0472944\ttotal: 1m 29s\tremaining: 8.21s\n",
      "916:\tlearn: 0.0472694\ttotal: 1m 29s\tremaining: 8.12s\n",
      "917:\tlearn: 0.0472557\ttotal: 1m 29s\tremaining: 8.02s\n",
      "918:\tlearn: 0.0472424\ttotal: 1m 29s\tremaining: 7.93s\n",
      "919:\tlearn: 0.0472293\ttotal: 1m 30s\tremaining: 7.84s\n",
      "920:\tlearn: 0.0472162\ttotal: 1m 30s\tremaining: 7.75s\n",
      "921:\tlearn: 0.0472038\ttotal: 1m 30s\tremaining: 7.67s\n",
      "922:\tlearn: 0.0471926\ttotal: 1m 30s\tremaining: 7.57s\n",
      "923:\tlearn: 0.0471664\ttotal: 1m 30s\tremaining: 7.47s\n",
      "924:\tlearn: 0.0471488\ttotal: 1m 31s\tremaining: 7.38s\n",
      "925:\tlearn: 0.0471360\ttotal: 1m 31s\tremaining: 7.29s\n",
      "926:\tlearn: 0.0471233\ttotal: 1m 31s\tremaining: 7.19s\n",
      "927:\tlearn: 0.0471100\ttotal: 1m 31s\tremaining: 7.09s\n",
      "928:\tlearn: 0.0470779\ttotal: 1m 31s\tremaining: 7s\n",
      "929:\tlearn: 0.0470662\ttotal: 1m 31s\tremaining: 6.9s\n",
      "930:\tlearn: 0.0470585\ttotal: 1m 31s\tremaining: 6.8s\n",
      "931:\tlearn: 0.0470282\ttotal: 1m 31s\tremaining: 6.7s\n",
      "932:\tlearn: 0.0470190\ttotal: 1m 31s\tremaining: 6.6s\n",
      "933:\tlearn: 0.0469875\ttotal: 1m 32s\tremaining: 6.5s\n",
      "934:\tlearn: 0.0469013\ttotal: 1m 32s\tremaining: 6.41s\n",
      "935:\tlearn: 0.0468897\ttotal: 1m 32s\tremaining: 6.31s\n",
      "936:\tlearn: 0.0468659\ttotal: 1m 32s\tremaining: 6.21s\n",
      "937:\tlearn: 0.0468520\ttotal: 1m 32s\tremaining: 6.11s\n",
      "938:\tlearn: 0.0467966\ttotal: 1m 32s\tremaining: 6.01s\n",
      "939:\tlearn: 0.0467535\ttotal: 1m 32s\tremaining: 5.92s\n",
      "940:\tlearn: 0.0467229\ttotal: 1m 32s\tremaining: 5.82s\n",
      "941:\tlearn: 0.0467110\ttotal: 1m 32s\tremaining: 5.72s\n",
      "942:\tlearn: 0.0466733\ttotal: 1m 33s\tremaining: 5.62s\n",
      "943:\tlearn: 0.0466507\ttotal: 1m 33s\tremaining: 5.52s\n",
      "944:\tlearn: 0.0466113\ttotal: 1m 33s\tremaining: 5.42s\n",
      "945:\tlearn: 0.0466076\ttotal: 1m 33s\tremaining: 5.33s\n",
      "946:\tlearn: 0.0465939\ttotal: 1m 33s\tremaining: 5.23s\n",
      "947:\tlearn: 0.0465798\ttotal: 1m 33s\tremaining: 5.13s\n",
      "948:\tlearn: 0.0465573\ttotal: 1m 33s\tremaining: 5.03s\n",
      "949:\tlearn: 0.0465444\ttotal: 1m 33s\tremaining: 4.93s\n",
      "950:\tlearn: 0.0464729\ttotal: 1m 33s\tremaining: 4.83s\n",
      "951:\tlearn: 0.0464590\ttotal: 1m 33s\tremaining: 4.73s\n",
      "952:\tlearn: 0.0464296\ttotal: 1m 34s\tremaining: 4.64s\n",
      "953:\tlearn: 0.0464207\ttotal: 1m 34s\tremaining: 4.54s\n",
      "954:\tlearn: 0.0463852\ttotal: 1m 34s\tremaining: 4.44s\n",
      "955:\tlearn: 0.0463638\ttotal: 1m 34s\tremaining: 4.34s\n",
      "956:\tlearn: 0.0463488\ttotal: 1m 34s\tremaining: 4.24s\n",
      "957:\tlearn: 0.0463271\ttotal: 1m 34s\tremaining: 4.14s\n",
      "958:\tlearn: 0.0463045\ttotal: 1m 34s\tremaining: 4.04s\n",
      "959:\tlearn: 0.0462925\ttotal: 1m 34s\tremaining: 3.94s\n"
     ]
    },
    {
     "name": "stdout",
     "output_type": "stream",
     "text": [
      "960:\tlearn: 0.0462805\ttotal: 1m 34s\tremaining: 3.84s\n",
      "961:\tlearn: 0.0462701\ttotal: 1m 34s\tremaining: 3.74s\n",
      "962:\tlearn: 0.0462393\ttotal: 1m 34s\tremaining: 3.65s\n",
      "963:\tlearn: 0.0462125\ttotal: 1m 34s\tremaining: 3.55s\n",
      "964:\tlearn: 0.0461787\ttotal: 1m 35s\tremaining: 3.45s\n",
      "965:\tlearn: 0.0461691\ttotal: 1m 35s\tremaining: 3.35s\n",
      "966:\tlearn: 0.0461074\ttotal: 1m 35s\tremaining: 3.25s\n",
      "967:\tlearn: 0.0460909\ttotal: 1m 35s\tremaining: 3.15s\n",
      "968:\tlearn: 0.0460779\ttotal: 1m 35s\tremaining: 3.05s\n",
      "969:\tlearn: 0.0460576\ttotal: 1m 35s\tremaining: 2.95s\n",
      "970:\tlearn: 0.0460159\ttotal: 1m 35s\tremaining: 2.85s\n",
      "971:\tlearn: 0.0459829\ttotal: 1m 35s\tremaining: 2.76s\n",
      "972:\tlearn: 0.0459712\ttotal: 1m 35s\tremaining: 2.66s\n",
      "973:\tlearn: 0.0459544\ttotal: 1m 36s\tremaining: 2.56s\n",
      "974:\tlearn: 0.0459356\ttotal: 1m 36s\tremaining: 2.47s\n",
      "975:\tlearn: 0.0458977\ttotal: 1m 36s\tremaining: 2.37s\n",
      "976:\tlearn: 0.0458864\ttotal: 1m 36s\tremaining: 2.27s\n",
      "977:\tlearn: 0.0458635\ttotal: 1m 36s\tremaining: 2.17s\n",
      "978:\tlearn: 0.0458389\ttotal: 1m 36s\tremaining: 2.08s\n",
      "979:\tlearn: 0.0458064\ttotal: 1m 36s\tremaining: 1.98s\n",
      "980:\tlearn: 0.0458060\ttotal: 1m 37s\tremaining: 1.88s\n",
      "981:\tlearn: 0.0458060\ttotal: 1m 37s\tremaining: 1.78s\n",
      "982:\tlearn: 0.0457813\ttotal: 1m 37s\tremaining: 1.68s\n",
      "983:\tlearn: 0.0457678\ttotal: 1m 37s\tremaining: 1.58s\n",
      "984:\tlearn: 0.0457581\ttotal: 1m 37s\tremaining: 1.48s\n",
      "985:\tlearn: 0.0457112\ttotal: 1m 37s\tremaining: 1.38s\n",
      "986:\tlearn: 0.0456799\ttotal: 1m 37s\tremaining: 1.28s\n",
      "987:\tlearn: 0.0456681\ttotal: 1m 37s\tremaining: 1.19s\n",
      "988:\tlearn: 0.0456472\ttotal: 1m 37s\tremaining: 1.09s\n",
      "989:\tlearn: 0.0456358\ttotal: 1m 37s\tremaining: 989ms\n",
      "990:\tlearn: 0.0456355\ttotal: 1m 38s\tremaining: 890ms\n",
      "991:\tlearn: 0.0455522\ttotal: 1m 38s\tremaining: 791ms\n",
      "992:\tlearn: 0.0455383\ttotal: 1m 38s\tremaining: 692ms\n",
      "993:\tlearn: 0.0455267\ttotal: 1m 38s\tremaining: 593ms\n",
      "994:\tlearn: 0.0455254\ttotal: 1m 38s\tremaining: 494ms\n",
      "995:\tlearn: 0.0454415\ttotal: 1m 38s\tremaining: 396ms\n",
      "996:\tlearn: 0.0453831\ttotal: 1m 38s\tremaining: 297ms\n",
      "997:\tlearn: 0.0453708\ttotal: 1m 38s\tremaining: 198ms\n",
      "998:\tlearn: 0.0453540\ttotal: 1m 38s\tremaining: 99ms\n",
      "999:\tlearn: 0.0453226\ttotal: 1m 39s\tremaining: 0us\n"
     ]
    },
    {
     "data": {
      "text/plain": [
       "<catboost.core.CatBoostClassifier at 0x1cad77718e0>"
      ]
     },
     "execution_count": 43,
     "metadata": {},
     "output_type": "execute_result"
    }
   ],
   "source": [
    "cat = CatBoostClassifier(learning_rate=1.0, depth=8,)\n",
    "cat.fit(bow_train, y_train)"
   ]
  },
  {
   "cell_type": "code",
   "execution_count": 44,
   "id": "820ff676",
   "metadata": {},
   "outputs": [
    {
     "data": {
      "text/plain": [
       "0.7988445378151261"
      ]
     },
     "execution_count": 44,
     "metadata": {},
     "output_type": "execute_result"
    }
   ],
   "source": [
    "pred_cat = cat.predict(bow_test)\n",
    "metrics.accuracy_score(y_test, pred_cat)"
   ]
  },
  {
   "cell_type": "code",
   "execution_count": 45,
   "id": "2e2793b5",
   "metadata": {},
   "outputs": [
    {
     "name": "stdout",
     "output_type": "stream",
     "text": [
      "              precision    recall  f1-score   support\n",
      "\n",
      "           0       0.79      0.87      0.83      1086\n",
      "           1       0.81      0.70      0.75       818\n",
      "\n",
      "    accuracy                           0.80      1904\n",
      "   macro avg       0.80      0.79      0.79      1904\n",
      "weighted avg       0.80      0.80      0.80      1904\n",
      "\n"
     ]
    }
   ],
   "source": [
    "print(metrics.classification_report(y_test, pred_cat))"
   ]
  },
  {
   "cell_type": "code",
   "execution_count": 46,
   "id": "606b48cd",
   "metadata": {},
   "outputs": [
    {
     "data": {
      "image/png": "[encoded data removed]",
      "text/plain": [
       "<Figure size 640x480 with 2 Axes>"
      ]
     },
     "metadata": {},
     "output_type": "display_data"
    }
   ],
   "source": [
    "cm_cat = metrics.confusion_matrix(y_test, pred_cat)\n",
    "cm_display = metrics.ConfusionMatrixDisplay(confusion_matrix=cm_cat, display_labels=[0,1])\n",
    "cm_display.plot()\n",
    "plt.show()"
   ]
  },
  {
   "cell_type": "code",
   "execution_count": 47,
   "id": "aac41232",
   "metadata": {},
   "outputs": [
    {
     "data": {
      "text/html": [
       "<div>\n",
       "<style scoped>\n",
       "    .dataframe tbody tr th:only-of-type {\n",
       "        vertical-align: middle;\n",
       "    }\n",
       "\n",
       "    .dataframe tbody tr th {\n",
       "        vertical-align: top;\n",
       "    }\n",
       "\n",
       "    .dataframe thead th {\n",
       "        text-align: right;\n",
       "    }\n",
       "</style>\n",
       "<table border=\"1\" class=\"dataframe\">\n",
       "  <thead>\n",
       "    <tr style=\"text-align: right;\">\n",
       "      <th></th>\n",
       "      <th>id</th>\n",
       "      <th>target</th>\n",
       "    </tr>\n",
       "  </thead>\n",
       "  <tbody>\n",
       "    <tr>\n",
       "      <th>0</th>\n",
       "      <td>0</td>\n",
       "      <td>1</td>\n",
       "    </tr>\n",
       "    <tr>\n",
       "      <th>1</th>\n",
       "      <td>2</td>\n",
       "      <td>1</td>\n",
       "    </tr>\n",
       "    <tr>\n",
       "      <th>2</th>\n",
       "      <td>3</td>\n",
       "      <td>1</td>\n",
       "    </tr>\n",
       "    <tr>\n",
       "      <th>3</th>\n",
       "      <td>9</td>\n",
       "      <td>1</td>\n",
       "    </tr>\n",
       "    <tr>\n",
       "      <th>4</th>\n",
       "      <td>11</td>\n",
       "      <td>1</td>\n",
       "    </tr>\n",
       "  </tbody>\n",
       "</table>\n",
       "</div>"
      ],
      "text/plain": [
       "   id  target\n",
       "0   0       1\n",
       "1   2       1\n",
       "2   3       1\n",
       "3   9       1\n",
       "4  11       1"
      ]
     },
     "execution_count": 47,
     "metadata": {},
     "output_type": "execute_result"
    }
   ],
   "source": [
    "pred_catt = cat.predict(test3)\n",
    "df_id = pd.DataFrame({'id':test['id']})\n",
    "df_cat = pd.DataFrame(pred_catt,columns=['target'])  \n",
    "df_cat = pd.concat([df_id, df_cat],axis=1)\n",
    "df_cat.head()"
   ]
  },
  {
   "cell_type": "code",
   "execution_count": 48,
   "id": "55d56900",
   "metadata": {},
   "outputs": [],
   "source": [
    "df_cat.to_csv('target_cat.csv', index=False)"
   ]
  },
  {
   "cell_type": "markdown",
   "id": "b4eb85cd",
   "metadata": {},
   "source": [
    "### GridSearchCV"
   ]
  },
  {
   "cell_type": "code",
   "execution_count": 49,
   "id": "c880db79",
   "metadata": {},
   "outputs": [],
   "source": [
    "CBC = CatBoostClassifier()\n",
    "parameters = {'depth'         : [4,5,6,7,8,9, 10],\n",
    "                 'learning_rate' : [0.01,0.02,0.03,0.04],\n",
    "                  'iterations'    : [10, 20,30,40,50,60,70,80,90, 100]\n",
    "                 }"
   ]
  },
  {
   "cell_type": "code",
   "execution_count": 50,
   "id": "c428fa3d",
   "metadata": {},
   "outputs": [
    {
     "name": "stdout",
     "output_type": "stream",
     "text": [
      "0:\tlearn: 0.6890901\ttotal: 303ms\tremaining: 30s\n",
      "1:\tlearn: 0.6845743\ttotal: 670ms\tremaining: 32.8s\n",
      "2:\tlearn: 0.6804492\ttotal: 1.02s\tremaining: 33s\n",
      "3:\tlearn: 0.6772591\ttotal: 1.4s\tremaining: 33.5s\n",
      "4:\tlearn: 0.6734989\ttotal: 1.78s\tremaining: 33.8s\n",
      "5:\tlearn: 0.6696278\ttotal: 2.15s\tremaining: 33.6s\n",
      "6:\tlearn: 0.6665206\ttotal: 2.5s\tremaining: 33.2s\n",
      "7:\tlearn: 0.6635450\ttotal: 2.87s\tremaining: 33s\n",
      "8:\tlearn: 0.6608548\ttotal: 3.17s\tremaining: 32.1s\n",
      "9:\tlearn: 0.6585653\ttotal: 3.47s\tremaining: 31.2s\n",
      "10:\tlearn: 0.6562045\ttotal: 3.76s\tremaining: 30.5s\n",
      "11:\tlearn: 0.6529684\ttotal: 4.08s\tremaining: 29.9s\n",
      "12:\tlearn: 0.6511196\ttotal: 4.13s\tremaining: 27.6s\n",
      "13:\tlearn: 0.6498541\ttotal: 4.46s\tremaining: 27.4s\n",
      "14:\tlearn: 0.6481506\ttotal: 4.79s\tremaining: 27.1s\n",
      "15:\tlearn: 0.6464598\ttotal: 5.11s\tremaining: 26.8s\n",
      "16:\tlearn: 0.6449931\ttotal: 5.44s\tremaining: 26.6s\n",
      "17:\tlearn: 0.6431179\ttotal: 5.87s\tremaining: 26.7s\n",
      "18:\tlearn: 0.6408748\ttotal: 6.21s\tremaining: 26.5s\n",
      "19:\tlearn: 0.6389600\ttotal: 6.54s\tremaining: 26.1s\n",
      "20:\tlearn: 0.6373582\ttotal: 6.9s\tremaining: 26s\n",
      "21:\tlearn: 0.6352803\ttotal: 7.21s\tremaining: 25.6s\n",
      "22:\tlearn: 0.6338719\ttotal: 7.53s\tremaining: 25.2s\n",
      "23:\tlearn: 0.6324904\ttotal: 7.84s\tremaining: 24.8s\n",
      "24:\tlearn: 0.6303611\ttotal: 8.26s\tremaining: 24.8s\n",
      "25:\tlearn: 0.6283377\ttotal: 8.59s\tremaining: 24.4s\n",
      "26:\tlearn: 0.6269835\ttotal: 8.97s\tremaining: 24.3s\n",
      "27:\tlearn: 0.6258148\ttotal: 9.32s\tremaining: 24s\n",
      "28:\tlearn: 0.6249400\ttotal: 9.73s\tremaining: 23.8s\n",
      "29:\tlearn: 0.6235535\ttotal: 10.1s\tremaining: 23.5s\n",
      "30:\tlearn: 0.6220644\ttotal: 10.4s\tremaining: 23.1s\n",
      "31:\tlearn: 0.6208072\ttotal: 10.7s\tremaining: 22.7s\n",
      "32:\tlearn: 0.6197599\ttotal: 11.1s\tremaining: 22.6s\n",
      "33:\tlearn: 0.6187074\ttotal: 11.5s\tremaining: 22.3s\n",
      "34:\tlearn: 0.6170401\ttotal: 11.8s\tremaining: 21.9s\n",
      "35:\tlearn: 0.6153802\ttotal: 12.1s\tremaining: 21.4s\n",
      "36:\tlearn: 0.6143147\ttotal: 12.4s\tremaining: 21.1s\n",
      "37:\tlearn: 0.6127444\ttotal: 12.8s\tremaining: 20.9s\n",
      "38:\tlearn: 0.6119570\ttotal: 13.1s\tremaining: 20.5s\n",
      "39:\tlearn: 0.6106491\ttotal: 13.6s\tremaining: 20.3s\n",
      "40:\tlearn: 0.6094233\ttotal: 13.9s\tremaining: 20s\n",
      "41:\tlearn: 0.6083813\ttotal: 14.3s\tremaining: 19.7s\n",
      "42:\tlearn: 0.6074267\ttotal: 14.6s\tremaining: 19.4s\n",
      "43:\tlearn: 0.6066357\ttotal: 15.7s\tremaining: 19.9s\n",
      "44:\tlearn: 0.6055342\ttotal: 16s\tremaining: 19.6s\n",
      "45:\tlearn: 0.6045989\ttotal: 16.4s\tremaining: 19.2s\n",
      "46:\tlearn: 0.6034780\ttotal: 16.7s\tremaining: 18.8s\n",
      "47:\tlearn: 0.6025330\ttotal: 17.1s\tremaining: 18.5s\n",
      "48:\tlearn: 0.6014896\ttotal: 17.5s\tremaining: 18.2s\n",
      "49:\tlearn: 0.6002442\ttotal: 17.8s\tremaining: 17.8s\n",
      "50:\tlearn: 0.5992216\ttotal: 18.2s\tremaining: 17.4s\n",
      "51:\tlearn: 0.5984455\ttotal: 18.5s\tremaining: 17.1s\n",
      "52:\tlearn: 0.5972062\ttotal: 18.9s\tremaining: 16.7s\n",
      "53:\tlearn: 0.5963066\ttotal: 19.2s\tremaining: 16.4s\n",
      "54:\tlearn: 0.5952593\ttotal: 19.5s\tremaining: 16s\n",
      "55:\tlearn: 0.5946181\ttotal: 19.9s\tremaining: 15.6s\n",
      "56:\tlearn: 0.5936791\ttotal: 20.2s\tremaining: 15.2s\n",
      "57:\tlearn: 0.5927006\ttotal: 20.5s\tremaining: 14.8s\n",
      "58:\tlearn: 0.5918522\ttotal: 20.8s\tremaining: 14.4s\n",
      "59:\tlearn: 0.5906816\ttotal: 21.1s\tremaining: 14s\n",
      "60:\tlearn: 0.5896271\ttotal: 21.4s\tremaining: 13.7s\n",
      "61:\tlearn: 0.5888311\ttotal: 21.7s\tremaining: 13.3s\n",
      "62:\tlearn: 0.5880162\ttotal: 22s\tremaining: 12.9s\n",
      "63:\tlearn: 0.5871152\ttotal: 22.3s\tremaining: 12.5s\n",
      "64:\tlearn: 0.5863799\ttotal: 22.6s\tremaining: 12.2s\n",
      "65:\tlearn: 0.5854853\ttotal: 22.9s\tremaining: 11.8s\n",
      "66:\tlearn: 0.5848721\ttotal: 23.3s\tremaining: 11.5s\n",
      "67:\tlearn: 0.5840596\ttotal: 23.5s\tremaining: 11.1s\n",
      "68:\tlearn: 0.5834827\ttotal: 23.8s\tremaining: 10.7s\n",
      "69:\tlearn: 0.5827873\ttotal: 24.1s\tremaining: 10.3s\n",
      "70:\tlearn: 0.5820499\ttotal: 24.4s\tremaining: 9.96s\n",
      "71:\tlearn: 0.5810336\ttotal: 24.7s\tremaining: 9.59s\n",
      "72:\tlearn: 0.5801704\ttotal: 24.9s\tremaining: 9.22s\n",
      "73:\tlearn: 0.5794425\ttotal: 25.2s\tremaining: 8.85s\n",
      "74:\tlearn: 0.5784913\ttotal: 25.5s\tremaining: 8.5s\n",
      "75:\tlearn: 0.5778158\ttotal: 25.8s\tremaining: 8.14s\n",
      "76:\tlearn: 0.5768971\ttotal: 26.1s\tremaining: 7.79s\n",
      "77:\tlearn: 0.5758703\ttotal: 26.4s\tremaining: 7.45s\n",
      "78:\tlearn: 0.5748650\ttotal: 26.7s\tremaining: 7.1s\n",
      "79:\tlearn: 0.5744473\ttotal: 27s\tremaining: 6.76s\n",
      "80:\tlearn: 0.5738954\ttotal: 27.3s\tremaining: 6.41s\n",
      "81:\tlearn: 0.5732087\ttotal: 27.6s\tremaining: 6.06s\n",
      "82:\tlearn: 0.5727279\ttotal: 27.9s\tremaining: 5.71s\n",
      "83:\tlearn: 0.5717797\ttotal: 28.2s\tremaining: 5.37s\n",
      "84:\tlearn: 0.5711163\ttotal: 28.6s\tremaining: 5.04s\n",
      "85:\tlearn: 0.5702861\ttotal: 29.1s\tremaining: 4.74s\n",
      "86:\tlearn: 0.5694180\ttotal: 29.5s\tremaining: 4.41s\n",
      "87:\tlearn: 0.5689959\ttotal: 29.8s\tremaining: 4.07s\n",
      "88:\tlearn: 0.5684886\ttotal: 30.2s\tremaining: 3.73s\n",
      "89:\tlearn: 0.5678163\ttotal: 30.5s\tremaining: 3.39s\n",
      "90:\tlearn: 0.5673736\ttotal: 30.8s\tremaining: 3.05s\n",
      "91:\tlearn: 0.5670162\ttotal: 31.1s\tremaining: 2.71s\n",
      "92:\tlearn: 0.5663256\ttotal: 31.4s\tremaining: 2.36s\n",
      "93:\tlearn: 0.5656782\ttotal: 31.7s\tremaining: 2.03s\n",
      "94:\tlearn: 0.5652838\ttotal: 32s\tremaining: 1.69s\n",
      "95:\tlearn: 0.5645103\ttotal: 32.4s\tremaining: 1.35s\n",
      "96:\tlearn: 0.5638257\ttotal: 32.7s\tremaining: 1.01s\n",
      "97:\tlearn: 0.5631678\ttotal: 33s\tremaining: 673ms\n",
      "98:\tlearn: 0.5622870\ttotal: 33.3s\tremaining: 336ms\n",
      "99:\tlearn: 0.5617705\ttotal: 33.5s\tremaining: 0us\n"
     ]
    },
    {
     "data": {
      "text/plain": [
       "GridSearchCV(cv=5,\n",
       "             estimator=<catboost.core.CatBoostClassifier object at 0x000001CAD5607790>,\n",
       "             n_jobs=-1,\n",
       "             param_grid={'depth': [4, 5, 6, 7, 8, 9, 10],\n",
       "                         'iterations': [10, 20, 30, 40, 50, 60, 70, 80, 90,\n",
       "                                        100],\n",
       "                         'learning_rate': [0.01, 0.02, 0.03, 0.04]})"
      ]
     },
     "execution_count": 50,
     "metadata": {},
     "output_type": "execute_result"
    }
   ],
   "source": [
    "Grid_CBC = GridSearchCV(estimator=CBC, param_grid = parameters, cv = 5, n_jobs=-1)\n",
    "Grid_CBC.fit(bow_train, y_train)"
   ]
  },
  {
   "cell_type": "code",
   "execution_count": 51,
   "id": "dde2c903",
   "metadata": {},
   "outputs": [
    {
     "name": "stdout",
     "output_type": "stream",
     "text": [
      " Results from Grid Search \n",
      "\n",
      " The best estimator across ALL searched params:\n",
      " <catboost.core.CatBoostClassifier object at 0x000001CAD99BA760>\n",
      "\n",
      " The best score across ALL searched params:\n",
      " 0.7199138617767007\n",
      "\n",
      " The best parameters across ALL searched params:\n",
      " {'depth': 10, 'iterations': 100, 'learning_rate': 0.04}\n"
     ]
    }
   ],
   "source": [
    "print(\" Results from Grid Search \" )\n",
    "print(\"\\n The best estimator across ALL searched params:\\n\",Grid_CBC.best_estimator_)\n",
    "print(\"\\n The best score across ALL searched params:\\n\",Grid_CBC.best_score_)\n",
    "print(\"\\n The best parameters across ALL searched params:\\n\",Grid_CBC.best_params_)"
   ]
  },
  {
   "cell_type": "code",
   "execution_count": null,
   "id": "6784e634",
   "metadata": {},
   "outputs": [],
   "source": []
  },
  {
   "cell_type": "code",
   "execution_count": null,
   "id": "52bb0024",
   "metadata": {},
   "outputs": [],
   "source": []
  },
  {
   "cell_type": "code",
   "execution_count": null,
   "id": "2eb30f53",
   "metadata": {},
   "outputs": [],
   "source": []
  },
  {
   "cell_type": "code",
   "execution_count": null,
   "id": "dc5d4d89",
   "metadata": {},
   "outputs": [],
   "source": []
  },
  {
   "cell_type": "markdown",
   "id": "f9856166",
   "metadata": {},
   "source": [
    "### Using MLPClassifier"
   ]
  },
  {
   "cell_type": "code",
   "execution_count": 17,
   "id": "f5a45b3b",
   "metadata": {},
   "outputs": [
    {
     "data": {
      "text/plain": [
       "MLPClassifier()"
      ]
     },
     "execution_count": 17,
     "metadata": {},
     "output_type": "execute_result"
    }
   ],
   "source": [
    "mlp = MLPClassifier()\n",
    "mlp.fit(bow_train, y_train)"
   ]
  },
  {
   "cell_type": "code",
   "execution_count": 18,
   "id": "65cac530",
   "metadata": {},
   "outputs": [
    {
     "data": {
      "text/plain": [
       "0.7536764705882353"
      ]
     },
     "execution_count": 18,
     "metadata": {},
     "output_type": "execute_result"
    }
   ],
   "source": [
    "prd = mlp.predict(bow_test)\n",
    "metrics.accuracy_score(y_test, prd)"
   ]
  },
  {
   "cell_type": "code",
   "execution_count": 19,
   "id": "eea1b421",
   "metadata": {},
   "outputs": [],
   "source": [
    "parameters = {'hidden_layer_sizes': [50, 100, 200],\n",
    "             'alpha': [0.001, 0.01, 0.1],\n",
    "             'max_iter': [200, 500, 800],\n",
    "             'learning_rate_init': [0.0001, 0.001, 0.01, 0.1]}"
   ]
  },
  {
   "cell_type": "code",
   "execution_count": 20,
   "id": "2860e022",
   "metadata": {},
   "outputs": [
    {
     "data": {
      "text/plain": [
       "RandomizedSearchCV(cv=5, estimator=MLPClassifier(),\n",
       "                   param_distributions={'alpha': [0.001, 0.01, 0.1],\n",
       "                                        'hidden_layer_sizes': [50, 100, 200],\n",
       "                                        'learning_rate_init': [0.0001, 0.001,\n",
       "                                                               0.01, 0.1],\n",
       "                                        'max_iter': [200, 500, 800]},\n",
       "                   scoring='accuracy')"
      ]
     },
     "execution_count": 20,
     "metadata": {},
     "output_type": "execute_result"
    }
   ],
   "source": [
    "clf = RandomizedSearchCV(estimator=mlp, param_distributions=parameters, cv=5, scoring='accuracy')\n",
    "clf.fit(bow_train, y_train)"
   ]
  },
  {
   "cell_type": "code",
   "execution_count": 23,
   "id": "2ada955a",
   "metadata": {},
   "outputs": [
    {
     "name": "stdout",
     "output_type": "stream",
     "text": [
      "The best parameters values found are: \n",
      "\n",
      "{'max_iter': 200, 'learning_rate_init': 0.0001, 'hidden_layer_sizes': 200, 'alpha': 0.1}\n"
     ]
    }
   ],
   "source": [
    "print('The best parameters values found are: \\n')\n",
    "print(clf.best_params_)"
   ]
  },
  {
   "cell_type": "code",
   "execution_count": 24,
   "id": "296b6dd9",
   "metadata": {},
   "outputs": [
    {
     "data": {
      "text/html": [
       "<div>\n",
       "<style scoped>\n",
       "    .dataframe tbody tr th:only-of-type {\n",
       "        vertical-align: middle;\n",
       "    }\n",
       "\n",
       "    .dataframe tbody tr th {\n",
       "        vertical-align: top;\n",
       "    }\n",
       "\n",
       "    .dataframe thead th {\n",
       "        text-align: right;\n",
       "    }\n",
       "</style>\n",
       "<table border=\"1\" class=\"dataframe\">\n",
       "  <thead>\n",
       "    <tr style=\"text-align: right;\">\n",
       "      <th></th>\n",
       "      <th>id</th>\n",
       "      <th>target</th>\n",
       "    </tr>\n",
       "  </thead>\n",
       "  <tbody>\n",
       "    <tr>\n",
       "      <th>0</th>\n",
       "      <td>0</td>\n",
       "      <td>0</td>\n",
       "    </tr>\n",
       "    <tr>\n",
       "      <th>1</th>\n",
       "      <td>2</td>\n",
       "      <td>1</td>\n",
       "    </tr>\n",
       "    <tr>\n",
       "      <th>2</th>\n",
       "      <td>3</td>\n",
       "      <td>1</td>\n",
       "    </tr>\n",
       "    <tr>\n",
       "      <th>3</th>\n",
       "      <td>9</td>\n",
       "      <td>1</td>\n",
       "    </tr>\n",
       "    <tr>\n",
       "      <th>4</th>\n",
       "      <td>11</td>\n",
       "      <td>1</td>\n",
       "    </tr>\n",
       "  </tbody>\n",
       "</table>\n",
       "</div>"
      ],
      "text/plain": [
       "   id  target\n",
       "0   0       0\n",
       "1   2       1\n",
       "2   3       1\n",
       "3   9       1\n",
       "4  11       1"
      ]
     },
     "execution_count": 24,
     "metadata": {},
     "output_type": "execute_result"
    }
   ],
   "source": [
    "best = clf.best_estimator_\n",
    "prd = best.predict(test3)\n",
    "df_id = pd.DataFrame({'id':test['id']})\n",
    "df_mlp = pd.DataFrame(prd,columns=['target'])  \n",
    "df_mlp = pd.concat([df_id, df_mlp],axis=1)\n",
    "df_mlp.head()"
   ]
  },
  {
   "cell_type": "code",
   "execution_count": 25,
   "id": "04a5a181",
   "metadata": {},
   "outputs": [],
   "source": [
    "df_mlp.to_csv('target_mlp.csv', index=False)"
   ]
  },
  {
   "cell_type": "markdown",
   "id": "d5cdf703",
   "metadata": {},
   "source": [
    "### Using MultinomialNB"
   ]
  },
  {
   "cell_type": "code",
   "execution_count": 17,
   "id": "2bc3e840",
   "metadata": {},
   "outputs": [
    {
     "data": {
      "text/plain": [
       "MultinomialNB(alpha=0.6)"
      ]
     },
     "execution_count": 17,
     "metadata": {},
     "output_type": "execute_result"
    }
   ],
   "source": [
    "model = MultinomialNB(alpha=0.6)\n",
    "model.fit(bow_train, y_train)"
   ]
  },
  {
   "cell_type": "code",
   "execution_count": 18,
   "id": "0ac77ba1",
   "metadata": {},
   "outputs": [
    {
     "data": {
      "text/plain": [
       "0.8125"
      ]
     },
     "execution_count": 18,
     "metadata": {},
     "output_type": "execute_result"
    }
   ],
   "source": [
    "yhat = model.predict(bow_test)\n",
    "metrics.accuracy_score(y_test, yhat)"
   ]
  },
  {
   "cell_type": "code",
   "execution_count": 19,
   "id": "6aa0e2f6",
   "metadata": {},
   "outputs": [
    {
     "name": "stdout",
     "output_type": "stream",
     "text": [
      "              precision    recall  f1-score   support\n",
      "\n",
      "           0       0.81      0.87      0.84      1086\n",
      "           1       0.81      0.73      0.77       818\n",
      "\n",
      "    accuracy                           0.81      1904\n",
      "   macro avg       0.81      0.80      0.81      1904\n",
      "weighted avg       0.81      0.81      0.81      1904\n",
      "\n"
     ]
    }
   ],
   "source": [
    "print(metrics.classification_report(y_test, yhat))"
   ]
  },
  {
   "cell_type": "code",
   "execution_count": 20,
   "id": "9512280b",
   "metadata": {},
   "outputs": [
    {
     "data": {
      "image/png": "[encoded data removed]",
      "text/plain": [
       "<Figure size 640x480 with 2 Axes>"
      ]
     },
     "metadata": {},
     "output_type": "display_data"
    }
   ],
   "source": [
    "cm_cv = metrics.confusion_matrix(y_test, yhat)\n",
    "cm_display = metrics.ConfusionMatrixDisplay(confusion_matrix=cm_cv, display_labels=[0,1])\n",
    "cm_display.plot()\n",
    "plt.show()"
   ]
  },
  {
   "cell_type": "code",
   "execution_count": 24,
   "id": "7b445959",
   "metadata": {},
   "outputs": [
    {
     "data": {
      "text/html": [
       "<div>\n",
       "<style scoped>\n",
       "    .dataframe tbody tr th:only-of-type {\n",
       "        vertical-align: middle;\n",
       "    }\n",
       "\n",
       "    .dataframe tbody tr th {\n",
       "        vertical-align: top;\n",
       "    }\n",
       "\n",
       "    .dataframe thead th {\n",
       "        text-align: right;\n",
       "    }\n",
       "</style>\n",
       "<table border=\"1\" class=\"dataframe\">\n",
       "  <thead>\n",
       "    <tr style=\"text-align: right;\">\n",
       "      <th></th>\n",
       "      <th>id</th>\n",
       "      <th>target</th>\n",
       "    </tr>\n",
       "  </thead>\n",
       "  <tbody>\n",
       "    <tr>\n",
       "      <th>0</th>\n",
       "      <td>0</td>\n",
       "      <td>1</td>\n",
       "    </tr>\n",
       "    <tr>\n",
       "      <th>1</th>\n",
       "      <td>2</td>\n",
       "      <td>1</td>\n",
       "    </tr>\n",
       "    <tr>\n",
       "      <th>2</th>\n",
       "      <td>3</td>\n",
       "      <td>1</td>\n",
       "    </tr>\n",
       "    <tr>\n",
       "      <th>3</th>\n",
       "      <td>9</td>\n",
       "      <td>1</td>\n",
       "    </tr>\n",
       "    <tr>\n",
       "      <th>4</th>\n",
       "      <td>11</td>\n",
       "      <td>1</td>\n",
       "    </tr>\n",
       "  </tbody>\n",
       "</table>\n",
       "</div>"
      ],
      "text/plain": [
       "   id  target\n",
       "0   0       1\n",
       "1   2       1\n",
       "2   3       1\n",
       "3   9       1\n",
       "4  11       1"
      ]
     },
     "execution_count": 24,
     "metadata": {},
     "output_type": "execute_result"
    }
   ],
   "source": [
    "pred = model.predict(test3)\n",
    "df_id = pd.DataFrame({'id':test['id']})\n",
    "df_mn = pd.DataFrame(pred,columns=['target'])  \n",
    "df_mn = pd.concat([df_id, df_mn],axis=1)\n",
    "df_mn.head()"
   ]
  },
  {
   "cell_type": "code",
   "execution_count": 25,
   "id": "3282fd41",
   "metadata": {},
   "outputs": [],
   "source": [
    "df_mn.to_csv('target.csv', index=False)"
   ]
  },
  {
   "cell_type": "markdown",
   "id": "3d736c7c",
   "metadata": {},
   "source": [
    "### Use SGDClassifier"
   ]
  },
  {
   "cell_type": "code",
   "execution_count": 22,
   "id": "9a5bcdc4",
   "metadata": {},
   "outputs": [
    {
     "data": {
      "text/plain": [
       "SGDClassifier()"
      ]
     },
     "execution_count": 22,
     "metadata": {},
     "output_type": "execute_result"
    }
   ],
   "source": [
    "sgd = SGDClassifier()\n",
    "sgd.fit(bow_train, y_train)"
   ]
  },
  {
   "cell_type": "code",
   "execution_count": 24,
   "id": "182bc5b9",
   "metadata": {},
   "outputs": [
    {
     "data": {
      "text/plain": [
       "0.7720588235294118"
      ]
     },
     "execution_count": 24,
     "metadata": {},
     "output_type": "execute_result"
    }
   ],
   "source": [
    "yhat_sgd = sgd.predict(bow_test)\n",
    "metrics.accuracy_score(y_test, yhat_sgd)"
   ]
  },
  {
   "cell_type": "markdown",
   "id": "8e785f5f",
   "metadata": {},
   "source": [
    "### Logistic Regression"
   ]
  },
  {
   "cell_type": "code",
   "execution_count": 42,
   "id": "fb18729f",
   "metadata": {},
   "outputs": [
    {
     "data": {
      "text/plain": [
       "LogisticRegression()"
      ]
     },
     "execution_count": 42,
     "metadata": {},
     "output_type": "execute_result"
    }
   ],
   "source": [
    "logreg = LogisticRegression(C=1.0)\n",
    "logreg.fit(bow_train, y_train)"
   ]
  },
  {
   "cell_type": "code",
   "execution_count": 43,
   "id": "0c19b368",
   "metadata": {},
   "outputs": [
    {
     "data": {
      "text/plain": [
       "0.8040966386554622"
      ]
     },
     "execution_count": 43,
     "metadata": {},
     "output_type": "execute_result"
    }
   ],
   "source": [
    "yhat_lr = logreg.predict(bow_test)\n",
    "metrics.accuracy_score(y_test, yhat_lr)"
   ]
  },
  {
   "cell_type": "code",
   "execution_count": 27,
   "id": "69ea88a0",
   "metadata": {},
   "outputs": [
    {
     "name": "stdout",
     "output_type": "stream",
     "text": [
      "              precision    recall  f1-score   support\n",
      "\n",
      "           0       0.79      0.89      0.84      1086\n",
      "           1       0.83      0.69      0.75       818\n",
      "\n",
      "    accuracy                           0.80      1904\n",
      "   macro avg       0.81      0.79      0.79      1904\n",
      "weighted avg       0.81      0.80      0.80      1904\n",
      "\n"
     ]
    }
   ],
   "source": [
    "print(metrics.classification_report(y_test, yhat_lr))"
   ]
  },
  {
   "cell_type": "code",
   "execution_count": 28,
   "id": "f09ac196",
   "metadata": {},
   "outputs": [
    {
     "data": {
      "image/png": "[encoded data removed]",
      "text/plain": [
       "<Figure size 640x480 with 2 Axes>"
      ]
     },
     "metadata": {},
     "output_type": "display_data"
    }
   ],
   "source": [
    "cm_cv = metrics.confusion_matrix(y_test, yhat_lr)\n",
    "cm_display = metrics.ConfusionMatrixDisplay(confusion_matrix=cm_cv, display_labels=[0,1])\n",
    "cm_display.plot()\n",
    "plt.show()"
   ]
  },
  {
   "cell_type": "markdown",
   "id": "4d50b106",
   "metadata": {},
   "source": [
    "### Lets use transformer"
   ]
  },
  {
   "cell_type": "code",
   "execution_count": 16,
   "id": "739b8be5",
   "metadata": {},
   "outputs": [],
   "source": [
    "df = train.copy()\n",
    "df2 = test.copy()"
   ]
  },
  {
   "cell_type": "code",
   "execution_count": 17,
   "id": "d17bfe1e",
   "metadata": {},
   "outputs": [
    {
     "data": {
      "text/html": [
       "<div>\n",
       "<style scoped>\n",
       "    .dataframe tbody tr th:only-of-type {\n",
       "        vertical-align: middle;\n",
       "    }\n",
       "\n",
       "    .dataframe tbody tr th {\n",
       "        vertical-align: top;\n",
       "    }\n",
       "\n",
       "    .dataframe thead th {\n",
       "        text-align: right;\n",
       "    }\n",
       "</style>\n",
       "<table border=\"1\" class=\"dataframe\">\n",
       "  <thead>\n",
       "    <tr style=\"text-align: right;\">\n",
       "      <th></th>\n",
       "      <th>id</th>\n",
       "      <th>keyword</th>\n",
       "      <th>location</th>\n",
       "      <th>text</th>\n",
       "      <th>target</th>\n",
       "      <th>text_cleaned</th>\n",
       "    </tr>\n",
       "  </thead>\n",
       "  <tbody>\n",
       "    <tr>\n",
       "      <th>0</th>\n",
       "      <td>1</td>\n",
       "      <td>NaN</td>\n",
       "      <td>NaN</td>\n",
       "      <td>Our Deeds are the Reason of this #earthquake M...</td>\n",
       "      <td>1</td>\n",
       "      <td>deed reason earthquake may allah forgive</td>\n",
       "    </tr>\n",
       "    <tr>\n",
       "      <th>1</th>\n",
       "      <td>4</td>\n",
       "      <td>NaN</td>\n",
       "      <td>NaN</td>\n",
       "      <td>Forest fire near La Ronge Sask. Canada</td>\n",
       "      <td>1</td>\n",
       "      <td>forest fire near la ronge sask canada</td>\n",
       "    </tr>\n",
       "    <tr>\n",
       "      <th>2</th>\n",
       "      <td>5</td>\n",
       "      <td>NaN</td>\n",
       "      <td>NaN</td>\n",
       "      <td>All residents asked to 'shelter in place' are ...</td>\n",
       "      <td>1</td>\n",
       "      <td>resident ask shelter place notify officer evac...</td>\n",
       "    </tr>\n",
       "    <tr>\n",
       "      <th>3</th>\n",
       "      <td>6</td>\n",
       "      <td>NaN</td>\n",
       "      <td>NaN</td>\n",
       "      <td>13,000 people receive #wildfires evacuation or...</td>\n",
       "      <td>1</td>\n",
       "      <td>people receive wildfire evacuation order calif...</td>\n",
       "    </tr>\n",
       "    <tr>\n",
       "      <th>4</th>\n",
       "      <td>7</td>\n",
       "      <td>NaN</td>\n",
       "      <td>NaN</td>\n",
       "      <td>Just got sent this photo from Ruby #Alaska as ...</td>\n",
       "      <td>1</td>\n",
       "      <td>send photo ruby alaska smoke wildfire pour school</td>\n",
       "    </tr>\n",
       "  </tbody>\n",
       "</table>\n",
       "</div>"
      ],
      "text/plain": [
       "   id keyword location                                               text   \n",
       "0   1     NaN      NaN  Our Deeds are the Reason of this #earthquake M...  \\\n",
       "1   4     NaN      NaN             Forest fire near La Ronge Sask. Canada   \n",
       "2   5     NaN      NaN  All residents asked to 'shelter in place' are ...   \n",
       "3   6     NaN      NaN  13,000 people receive #wildfires evacuation or...   \n",
       "4   7     NaN      NaN  Just got sent this photo from Ruby #Alaska as ...   \n",
       "\n",
       "   target                                       text_cleaned  \n",
       "0       1           deed reason earthquake may allah forgive  \n",
       "1       1              forest fire near la ronge sask canada  \n",
       "2       1  resident ask shelter place notify officer evac...  \n",
       "3       1  people receive wildfire evacuation order calif...  \n",
       "4       1  send photo ruby alaska smoke wildfire pour school  "
      ]
     },
     "execution_count": 17,
     "metadata": {},
     "output_type": "execute_result"
    }
   ],
   "source": [
    "df.head()"
   ]
  },
  {
   "cell_type": "markdown",
   "id": "fd5f3af4",
   "metadata": {},
   "source": [
    "### Using Pretrained"
   ]
  },
  {
   "cell_type": "code",
   "execution_count": 31,
   "id": "2b9ac178",
   "metadata": {},
   "outputs": [],
   "source": [
    "model = None"
   ]
  },
  {
   "cell_type": "code",
   "execution_count": 19,
   "id": "cd9ae5bf",
   "metadata": {},
   "outputs": [],
   "source": [
    "import tensorflow as tf\n",
    "import tensorflow_hub as hub\n",
    "import tensorflow_datasets as tfds\n",
    "from tensorflow.keras.models import Sequential\n",
    "from tensorflow.keras.layers import Dense\n",
    "import numpy as np\n",
    "import os"
   ]
  },
  {
   "cell_type": "code",
   "execution_count": 20,
   "id": "206a6402",
   "metadata": {},
   "outputs": [],
   "source": [
    "# embedding = \"https://tfhub.dev/google/nnlm-en-dim50/2\"\n",
    "# embedding = \"https://tfhub.dev/google/nnlm-en-dim128-with-normalization/2\""
   ]
  },
  {
   "cell_type": "code",
   "execution_count": 32,
   "id": "8d7d3118",
   "metadata": {},
   "outputs": [
    {
     "name": "stdout",
     "output_type": "stream",
     "text": [
      "Model: \"sequential_2\"\n",
      "_________________________________________________________________\n",
      " Layer (type)                Output Shape              Param #   \n",
      "=================================================================\n",
      " keras_layer_2 (KerasLayer)  (None, 128)               124642688 \n",
      "                                                                 \n",
      " dense_4 (Dense)             (None, 1)                 129       \n",
      "                                                                 \n",
      "=================================================================\n",
      "Total params: 124,642,817\n",
      "Trainable params: 124,642,817\n",
      "Non-trainable params: 0\n",
      "_________________________________________________________________\n"
     ]
    }
   ],
   "source": [
    "embedding = \"https://tfhub.dev/google/nnlm-en-dim128-with-normalization/2\"\n",
    "hub_layer = hub.KerasLayer(embedding, input_shape=[], \n",
    "                           dtype=tf.string, trainable=True)\n",
    "\n",
    "model = Sequential()\n",
    "model.add(hub_layer)\n",
    "#model.add(Dense(8, activation='relu'))\n",
    "model.add(Dense(1,activation='sigmoid'))\n",
    "\n",
    "model.summary()"
   ]
  },
  {
   "cell_type": "code",
   "execution_count": 33,
   "id": "662f7614",
   "metadata": {},
   "outputs": [
    {
     "name": "stdout",
     "output_type": "stream",
     "text": [
      "Epoch 1/5\n",
      "179/179 [==============================] - 248s 1s/step - loss: 0.5757 - accuracy: 0.7362 - val_loss: 0.4806 - val_accuracy: 0.8093\n",
      "Epoch 2/5\n",
      "179/179 [==============================] - 306s 2s/step - loss: 0.3818 - accuracy: 0.8544 - val_loss: 0.4428 - val_accuracy: 0.8072\n",
      "Epoch 3/5\n",
      "179/179 [==============================] - 261s 1s/step - loss: 0.2732 - accuracy: 0.8991 - val_loss: 0.4630 - val_accuracy: 0.8046\n",
      "Epoch 4/5\n",
      "179/179 [==============================] - 316s 2s/step - loss: 0.2014 - accuracy: 0.9287 - val_loss: 0.5091 - val_accuracy: 0.7920\n",
      "Epoch 5/5\n",
      "179/179 [==============================] - 488s 3s/step - loss: 0.1528 - accuracy: 0.9497 - val_loss: 0.5541 - val_accuracy: 0.7794\n"
     ]
    }
   ],
   "source": [
    "model.compile(optimizer='adam',\n",
    "              loss=tf.keras.losses.BinaryCrossentropy(from_logits=True),\n",
    "              metrics=['accuracy'])\n",
    "              \n",
    "history = model.fit(X_train,\n",
    "                    y_train,\n",
    "                    epochs=5,\n",
    "                    validation_data=(X_test,y_test),\n",
    "                    verbose=1)"
   ]
  },
  {
   "cell_type": "code",
   "execution_count": 34,
   "id": "7a85aee4",
   "metadata": {},
   "outputs": [
    {
     "data": {
      "image/png": "[encoded data removed]",
      "text/plain": [
       "<Figure size 640x480 with 1 Axes>"
      ]
     },
     "metadata": {},
     "output_type": "display_data"
    },
    {
     "data": {
      "image/png": "[encoded data removed]",
      "text/plain": [
       "<Figure size 640x480 with 1 Axes>"
      ]
     },
     "metadata": {},
     "output_type": "display_data"
    }
   ],
   "source": [
    "def plot_graphs(history, string):\n",
    "  plt.plot(history.history[string])\n",
    "  plt.plot(history.history['val_'+string])\n",
    "  plt.xlabel(\"Epochs\")\n",
    "  plt.ylabel(string)\n",
    "  plt.legend([string, 'val_'+string])\n",
    "  plt.show()\n",
    "  \n",
    "plot_graphs(history, \"accuracy\")\n",
    "plot_graphs(history, \"loss\")"
   ]
  },
  {
   "cell_type": "code",
   "execution_count": 27,
   "id": "6046ab5b",
   "metadata": {},
   "outputs": [
    {
     "name": "stdout",
     "output_type": "stream",
     "text": [
      "102/102 [==============================] - 15s 144ms/step\n"
     ]
    }
   ],
   "source": [
    "classes = model.predict(test1)"
   ]
  },
  {
   "cell_type": "code",
   "execution_count": 28,
   "id": "59083e3d",
   "metadata": {},
   "outputs": [
    {
     "name": "stdout",
     "output_type": "stream",
     "text": [
      "[1, 1, 1, 1, 1]\n"
     ]
    }
   ],
   "source": [
    "yhat_class = [1 if x>=0.5 else 0 for x in classes]\n",
    "print(yhat_class[:5])"
   ]
  },
  {
   "cell_type": "code",
   "execution_count": 29,
   "id": "f6f600d8",
   "metadata": {},
   "outputs": [
    {
     "data": {
      "text/html": [
       "<div>\n",
       "<style scoped>\n",
       "    .dataframe tbody tr th:only-of-type {\n",
       "        vertical-align: middle;\n",
       "    }\n",
       "\n",
       "    .dataframe tbody tr th {\n",
       "        vertical-align: top;\n",
       "    }\n",
       "\n",
       "    .dataframe thead th {\n",
       "        text-align: right;\n",
       "    }\n",
       "</style>\n",
       "<table border=\"1\" class=\"dataframe\">\n",
       "  <thead>\n",
       "    <tr style=\"text-align: right;\">\n",
       "      <th></th>\n",
       "      <th>id</th>\n",
       "      <th>target</th>\n",
       "    </tr>\n",
       "  </thead>\n",
       "  <tbody>\n",
       "    <tr>\n",
       "      <th>0</th>\n",
       "      <td>0</td>\n",
       "      <td>1</td>\n",
       "    </tr>\n",
       "    <tr>\n",
       "      <th>1</th>\n",
       "      <td>2</td>\n",
       "      <td>1</td>\n",
       "    </tr>\n",
       "    <tr>\n",
       "      <th>2</th>\n",
       "      <td>3</td>\n",
       "      <td>1</td>\n",
       "    </tr>\n",
       "    <tr>\n",
       "      <th>3</th>\n",
       "      <td>9</td>\n",
       "      <td>1</td>\n",
       "    </tr>\n",
       "    <tr>\n",
       "      <th>4</th>\n",
       "      <td>11</td>\n",
       "      <td>1</td>\n",
       "    </tr>\n",
       "  </tbody>\n",
       "</table>\n",
       "</div>"
      ],
      "text/plain": [
       "   id  target\n",
       "0   0       1\n",
       "1   2       1\n",
       "2   3       1\n",
       "3   9       1\n",
       "4  11       1"
      ]
     },
     "execution_count": 29,
     "metadata": {},
     "output_type": "execute_result"
    }
   ],
   "source": [
    "df_id = pd.DataFrame({'id':test['id']})\n",
    "df_tl = pd.DataFrame(yhat_class,columns=['target'])  \n",
    "df_tl = pd.concat([df_id, df_tl],axis=1)\n",
    "df_tl.head()"
   ]
  },
  {
   "cell_type": "code",
   "execution_count": 30,
   "id": "3e228832",
   "metadata": {},
   "outputs": [],
   "source": [
    "df_tl.to_csv('target_tf3.csv', index=False)"
   ]
  },
  {
   "cell_type": "markdown",
   "id": "8458546b",
   "metadata": {},
   "source": [
    "### RoBERTa for nlp classification"
   ]
  },
  {
   "cell_type": "code",
   "execution_count": 103,
   "id": "adf5855a",
   "metadata": {},
   "outputs": [],
   "source": [
    "import torch\n",
    "from transformers import RobertaTokenizer, RobertaForSequenceClassification"
   ]
  },
  {
   "cell_type": "code",
   "execution_count": 104,
   "id": "9e6222ba",
   "metadata": {},
   "outputs": [
    {
     "data": {
      "application/vnd.jupyter.widget-view+json": {
       "model_id": "9431162c72184839b9cee31c7a9cace6",
       "version_major": 2,
       "version_minor": 0
      },
      "text/plain": [
       "Downloading:   0%|          | 0.00/899k [00:00<?, ?B/s]"
      ]
     },
     "metadata": {},
     "output_type": "display_data"
    },
    {
     "data": {
      "application/vnd.jupyter.widget-view+json": {
       "model_id": "b2e26c56866548e29003bb95c8b4d5c7",
       "version_major": 2,
       "version_minor": 0
      },
      "text/plain": [
       "Downloading:   0%|          | 0.00/456k [00:00<?, ?B/s]"
      ]
     },
     "metadata": {},
     "output_type": "display_data"
    },
    {
     "name": "stderr",
     "output_type": "stream",
     "text": [
      "Some weights of the model checkpoint at roberta-base were not used when initializing RobertaForSequenceClassification: ['lm_head.layer_norm.bias', 'roberta.pooler.dense.bias', 'lm_head.dense.bias', 'lm_head.bias', 'lm_head.decoder.weight', 'lm_head.layer_norm.weight', 'roberta.pooler.dense.weight', 'lm_head.dense.weight']\n",
      "- This IS expected if you are initializing RobertaForSequenceClassification from the checkpoint of a model trained on another task or with another architecture (e.g. initializing a BertForSequenceClassification model from a BertForPreTraining model).\n",
      "- This IS NOT expected if you are initializing RobertaForSequenceClassification from the checkpoint of a model that you expect to be exactly identical (initializing a BertForSequenceClassification model from a BertForSequenceClassification model).\n",
      "Some weights of RobertaForSequenceClassification were not initialized from the model checkpoint at roberta-base and are newly initialized: ['classifier.dense.weight', 'classifier.dense.bias', 'classifier.out_proj.bias', 'classifier.out_proj.weight']\n",
      "You should probably TRAIN this model on a down-stream task to be able to use it for predictions and inference.\n"
     ]
    }
   ],
   "source": [
    "# Load the RoBERTa tokenizer and model\n",
    "tokenizer = RobertaTokenizer.from_pretrained('roberta-base')\n",
    "model = RobertaForSequenceClassification.from_pretrained('roberta-base')"
   ]
  },
  {
   "cell_type": "code",
   "execution_count": 105,
   "id": "de23c3c6",
   "metadata": {},
   "outputs": [],
   "source": [
    "train_rev = train['text_cleaned'].tolist()\n",
    "test_rev = test['text_cleaned'].tolist()\n",
    "labels = train['target'].tolist()"
   ]
  },
  {
   "cell_type": "code",
   "execution_count": 106,
   "id": "b8ace877",
   "metadata": {},
   "outputs": [],
   "source": [
    "# Tokenize the text data\n",
    "inputs = tokenizer(train_rev, padding=True, truncation=True, max_length=128, return_tensors='pt')\n",
    "\n",
    "# Convert the label data to tensor format\n",
    "labels = torch.tensor(labels)"
   ]
  },
  {
   "cell_type": "code",
   "execution_count": 107,
   "id": "13faeace",
   "metadata": {},
   "outputs": [
    {
     "ename": "RuntimeError",
     "evalue": "[enforce fail at C:\\actions-runner\\_work\\pytorch\\pytorch\\builder\\windows\\pytorch\\c10\\core\\impl\\alloc_cpu.cpp:72] data. DefaultCPUAllocator: not enough memory: you tried to allocate 771775488 bytes.",
     "output_type": "error",
     "traceback": [
      "\u001b[1;31m---------------------------------------------------------------------------\u001b[0m",
      "\u001b[1;31mRuntimeError\u001b[0m                              Traceback (most recent call last)",
      "Cell \u001b[1;32mIn[107], line 5\u001b[0m\n\u001b[0;32m      3\u001b[0m \u001b[38;5;28;01mfor\u001b[39;00m epoch \u001b[38;5;129;01min\u001b[39;00m \u001b[38;5;28mrange\u001b[39m(\u001b[38;5;241m3\u001b[39m):\n\u001b[0;32m      4\u001b[0m     model\u001b[38;5;241m.\u001b[39mtrain()\n\u001b[1;32m----> 5\u001b[0m     outputs \u001b[38;5;241m=\u001b[39m \u001b[43mmodel\u001b[49m\u001b[43m(\u001b[49m\u001b[43minputs\u001b[49m\u001b[43m[\u001b[49m\u001b[38;5;124;43m'\u001b[39;49m\u001b[38;5;124;43minput_ids\u001b[39;49m\u001b[38;5;124;43m'\u001b[39;49m\u001b[43m]\u001b[49m\u001b[43m,\u001b[49m\u001b[43m \u001b[49m\u001b[43mattention_mask\u001b[49m\u001b[38;5;241;43m=\u001b[39;49m\u001b[43minputs\u001b[49m\u001b[43m[\u001b[49m\u001b[38;5;124;43m'\u001b[39;49m\u001b[38;5;124;43mattention_mask\u001b[39;49m\u001b[38;5;124;43m'\u001b[39;49m\u001b[43m]\u001b[49m\u001b[43m,\u001b[49m\u001b[43m \u001b[49m\u001b[43mlabels\u001b[49m\u001b[38;5;241;43m=\u001b[39;49m\u001b[43mlabels\u001b[49m\u001b[43m)\u001b[49m\n\u001b[0;32m      6\u001b[0m     loss \u001b[38;5;241m=\u001b[39m outputs\u001b[38;5;241m.\u001b[39mloss\n\u001b[0;32m      7\u001b[0m     loss\u001b[38;5;241m.\u001b[39mbackward()\n",
      "File \u001b[1;32m~\\anaconda3\\lib\\site-packages\\torch\\nn\\modules\\module.py:1501\u001b[0m, in \u001b[0;36mModule._call_impl\u001b[1;34m(self, *args, **kwargs)\u001b[0m\n\u001b[0;32m   1496\u001b[0m \u001b[38;5;66;03m# If we don't have any hooks, we want to skip the rest of the logic in\u001b[39;00m\n\u001b[0;32m   1497\u001b[0m \u001b[38;5;66;03m# this function, and just call forward.\u001b[39;00m\n\u001b[0;32m   1498\u001b[0m \u001b[38;5;28;01mif\u001b[39;00m \u001b[38;5;129;01mnot\u001b[39;00m (\u001b[38;5;28mself\u001b[39m\u001b[38;5;241m.\u001b[39m_backward_hooks \u001b[38;5;129;01mor\u001b[39;00m \u001b[38;5;28mself\u001b[39m\u001b[38;5;241m.\u001b[39m_backward_pre_hooks \u001b[38;5;129;01mor\u001b[39;00m \u001b[38;5;28mself\u001b[39m\u001b[38;5;241m.\u001b[39m_forward_hooks \u001b[38;5;129;01mor\u001b[39;00m \u001b[38;5;28mself\u001b[39m\u001b[38;5;241m.\u001b[39m_forward_pre_hooks\n\u001b[0;32m   1499\u001b[0m         \u001b[38;5;129;01mor\u001b[39;00m _global_backward_pre_hooks \u001b[38;5;129;01mor\u001b[39;00m _global_backward_hooks\n\u001b[0;32m   1500\u001b[0m         \u001b[38;5;129;01mor\u001b[39;00m _global_forward_hooks \u001b[38;5;129;01mor\u001b[39;00m _global_forward_pre_hooks):\n\u001b[1;32m-> 1501\u001b[0m     \u001b[38;5;28;01mreturn\u001b[39;00m forward_call(\u001b[38;5;241m*\u001b[39margs, \u001b[38;5;241m*\u001b[39m\u001b[38;5;241m*\u001b[39mkwargs)\n\u001b[0;32m   1502\u001b[0m \u001b[38;5;66;03m# Do not call functions when jit is used\u001b[39;00m\n\u001b[0;32m   1503\u001b[0m full_backward_hooks, non_full_backward_hooks \u001b[38;5;241m=\u001b[39m [], []\n",
      "File \u001b[1;32m~\\anaconda3\\lib\\site-packages\\transformers\\models\\roberta\\modeling_roberta.py:1208\u001b[0m, in \u001b[0;36mRobertaForSequenceClassification.forward\u001b[1;34m(self, input_ids, attention_mask, token_type_ids, position_ids, head_mask, inputs_embeds, labels, output_attentions, output_hidden_states, return_dict)\u001b[0m\n\u001b[0;32m   1200\u001b[0m \u001b[38;5;124mr\u001b[39m\u001b[38;5;124;03m\"\"\"\u001b[39;00m\n\u001b[0;32m   1201\u001b[0m \u001b[38;5;124;03mlabels (`torch.LongTensor` of shape `(batch_size,)`, *optional*):\u001b[39;00m\n\u001b[0;32m   1202\u001b[0m \u001b[38;5;124;03m    Labels for computing the sequence classification/regression loss. Indices should be in `[0, ...,\u001b[39;00m\n\u001b[0;32m   1203\u001b[0m \u001b[38;5;124;03m    config.num_labels - 1]`. If `config.num_labels == 1` a regression loss is computed (Mean-Square loss), If\u001b[39;00m\n\u001b[0;32m   1204\u001b[0m \u001b[38;5;124;03m    `config.num_labels > 1` a classification loss is computed (Cross-Entropy).\u001b[39;00m\n\u001b[0;32m   1205\u001b[0m \u001b[38;5;124;03m\"\"\"\u001b[39;00m\n\u001b[0;32m   1206\u001b[0m return_dict \u001b[38;5;241m=\u001b[39m return_dict \u001b[38;5;28;01mif\u001b[39;00m return_dict \u001b[38;5;129;01mis\u001b[39;00m \u001b[38;5;129;01mnot\u001b[39;00m \u001b[38;5;28;01mNone\u001b[39;00m \u001b[38;5;28;01melse\u001b[39;00m \u001b[38;5;28mself\u001b[39m\u001b[38;5;241m.\u001b[39mconfig\u001b[38;5;241m.\u001b[39muse_return_dict\n\u001b[1;32m-> 1208\u001b[0m outputs \u001b[38;5;241m=\u001b[39m \u001b[38;5;28;43mself\u001b[39;49m\u001b[38;5;241;43m.\u001b[39;49m\u001b[43mroberta\u001b[49m\u001b[43m(\u001b[49m\n\u001b[0;32m   1209\u001b[0m \u001b[43m    \u001b[49m\u001b[43minput_ids\u001b[49m\u001b[43m,\u001b[49m\n\u001b[0;32m   1210\u001b[0m \u001b[43m    \u001b[49m\u001b[43mattention_mask\u001b[49m\u001b[38;5;241;43m=\u001b[39;49m\u001b[43mattention_mask\u001b[49m\u001b[43m,\u001b[49m\n\u001b[0;32m   1211\u001b[0m \u001b[43m    \u001b[49m\u001b[43mtoken_type_ids\u001b[49m\u001b[38;5;241;43m=\u001b[39;49m\u001b[43mtoken_type_ids\u001b[49m\u001b[43m,\u001b[49m\n\u001b[0;32m   1212\u001b[0m \u001b[43m    \u001b[49m\u001b[43mposition_ids\u001b[49m\u001b[38;5;241;43m=\u001b[39;49m\u001b[43mposition_ids\u001b[49m\u001b[43m,\u001b[49m\n\u001b[0;32m   1213\u001b[0m \u001b[43m    \u001b[49m\u001b[43mhead_mask\u001b[49m\u001b[38;5;241;43m=\u001b[39;49m\u001b[43mhead_mask\u001b[49m\u001b[43m,\u001b[49m\n\u001b[0;32m   1214\u001b[0m \u001b[43m    \u001b[49m\u001b[43minputs_embeds\u001b[49m\u001b[38;5;241;43m=\u001b[39;49m\u001b[43minputs_embeds\u001b[49m\u001b[43m,\u001b[49m\n\u001b[0;32m   1215\u001b[0m \u001b[43m    \u001b[49m\u001b[43moutput_attentions\u001b[49m\u001b[38;5;241;43m=\u001b[39;49m\u001b[43moutput_attentions\u001b[49m\u001b[43m,\u001b[49m\n\u001b[0;32m   1216\u001b[0m \u001b[43m    \u001b[49m\u001b[43moutput_hidden_states\u001b[49m\u001b[38;5;241;43m=\u001b[39;49m\u001b[43moutput_hidden_states\u001b[49m\u001b[43m,\u001b[49m\n\u001b[0;32m   1217\u001b[0m \u001b[43m    \u001b[49m\u001b[43mreturn_dict\u001b[49m\u001b[38;5;241;43m=\u001b[39;49m\u001b[43mreturn_dict\u001b[49m\u001b[43m,\u001b[49m\n\u001b[0;32m   1218\u001b[0m \u001b[43m\u001b[49m\u001b[43m)\u001b[49m\n\u001b[0;32m   1219\u001b[0m sequence_output \u001b[38;5;241m=\u001b[39m outputs[\u001b[38;5;241m0\u001b[39m]\n\u001b[0;32m   1220\u001b[0m logits \u001b[38;5;241m=\u001b[39m \u001b[38;5;28mself\u001b[39m\u001b[38;5;241m.\u001b[39mclassifier(sequence_output)\n",
      "File \u001b[1;32m~\\anaconda3\\lib\\site-packages\\torch\\nn\\modules\\module.py:1501\u001b[0m, in \u001b[0;36mModule._call_impl\u001b[1;34m(self, *args, **kwargs)\u001b[0m\n\u001b[0;32m   1496\u001b[0m \u001b[38;5;66;03m# If we don't have any hooks, we want to skip the rest of the logic in\u001b[39;00m\n\u001b[0;32m   1497\u001b[0m \u001b[38;5;66;03m# this function, and just call forward.\u001b[39;00m\n\u001b[0;32m   1498\u001b[0m \u001b[38;5;28;01mif\u001b[39;00m \u001b[38;5;129;01mnot\u001b[39;00m (\u001b[38;5;28mself\u001b[39m\u001b[38;5;241m.\u001b[39m_backward_hooks \u001b[38;5;129;01mor\u001b[39;00m \u001b[38;5;28mself\u001b[39m\u001b[38;5;241m.\u001b[39m_backward_pre_hooks \u001b[38;5;129;01mor\u001b[39;00m \u001b[38;5;28mself\u001b[39m\u001b[38;5;241m.\u001b[39m_forward_hooks \u001b[38;5;129;01mor\u001b[39;00m \u001b[38;5;28mself\u001b[39m\u001b[38;5;241m.\u001b[39m_forward_pre_hooks\n\u001b[0;32m   1499\u001b[0m         \u001b[38;5;129;01mor\u001b[39;00m _global_backward_pre_hooks \u001b[38;5;129;01mor\u001b[39;00m _global_backward_hooks\n\u001b[0;32m   1500\u001b[0m         \u001b[38;5;129;01mor\u001b[39;00m _global_forward_hooks \u001b[38;5;129;01mor\u001b[39;00m _global_forward_pre_hooks):\n\u001b[1;32m-> 1501\u001b[0m     \u001b[38;5;28;01mreturn\u001b[39;00m forward_call(\u001b[38;5;241m*\u001b[39margs, \u001b[38;5;241m*\u001b[39m\u001b[38;5;241m*\u001b[39mkwargs)\n\u001b[0;32m   1502\u001b[0m \u001b[38;5;66;03m# Do not call functions when jit is used\u001b[39;00m\n\u001b[0;32m   1503\u001b[0m full_backward_hooks, non_full_backward_hooks \u001b[38;5;241m=\u001b[39m [], []\n",
      "File \u001b[1;32m~\\anaconda3\\lib\\site-packages\\transformers\\models\\roberta\\modeling_roberta.py:846\u001b[0m, in \u001b[0;36mRobertaModel.forward\u001b[1;34m(self, input_ids, attention_mask, token_type_ids, position_ids, head_mask, inputs_embeds, encoder_hidden_states, encoder_attention_mask, past_key_values, use_cache, output_attentions, output_hidden_states, return_dict)\u001b[0m\n\u001b[0;32m    837\u001b[0m head_mask \u001b[38;5;241m=\u001b[39m \u001b[38;5;28mself\u001b[39m\u001b[38;5;241m.\u001b[39mget_head_mask(head_mask, \u001b[38;5;28mself\u001b[39m\u001b[38;5;241m.\u001b[39mconfig\u001b[38;5;241m.\u001b[39mnum_hidden_layers)\n\u001b[0;32m    839\u001b[0m embedding_output \u001b[38;5;241m=\u001b[39m \u001b[38;5;28mself\u001b[39m\u001b[38;5;241m.\u001b[39membeddings(\n\u001b[0;32m    840\u001b[0m     input_ids\u001b[38;5;241m=\u001b[39minput_ids,\n\u001b[0;32m    841\u001b[0m     position_ids\u001b[38;5;241m=\u001b[39mposition_ids,\n\u001b[1;32m   (...)\u001b[0m\n\u001b[0;32m    844\u001b[0m     past_key_values_length\u001b[38;5;241m=\u001b[39mpast_key_values_length,\n\u001b[0;32m    845\u001b[0m )\n\u001b[1;32m--> 846\u001b[0m encoder_outputs \u001b[38;5;241m=\u001b[39m \u001b[38;5;28;43mself\u001b[39;49m\u001b[38;5;241;43m.\u001b[39;49m\u001b[43mencoder\u001b[49m\u001b[43m(\u001b[49m\n\u001b[0;32m    847\u001b[0m \u001b[43m    \u001b[49m\u001b[43membedding_output\u001b[49m\u001b[43m,\u001b[49m\n\u001b[0;32m    848\u001b[0m \u001b[43m    \u001b[49m\u001b[43mattention_mask\u001b[49m\u001b[38;5;241;43m=\u001b[39;49m\u001b[43mextended_attention_mask\u001b[49m\u001b[43m,\u001b[49m\n\u001b[0;32m    849\u001b[0m \u001b[43m    \u001b[49m\u001b[43mhead_mask\u001b[49m\u001b[38;5;241;43m=\u001b[39;49m\u001b[43mhead_mask\u001b[49m\u001b[43m,\u001b[49m\n\u001b[0;32m    850\u001b[0m \u001b[43m    \u001b[49m\u001b[43mencoder_hidden_states\u001b[49m\u001b[38;5;241;43m=\u001b[39;49m\u001b[43mencoder_hidden_states\u001b[49m\u001b[43m,\u001b[49m\n\u001b[0;32m    851\u001b[0m \u001b[43m    \u001b[49m\u001b[43mencoder_attention_mask\u001b[49m\u001b[38;5;241;43m=\u001b[39;49m\u001b[43mencoder_extended_attention_mask\u001b[49m\u001b[43m,\u001b[49m\n\u001b[0;32m    852\u001b[0m \u001b[43m    \u001b[49m\u001b[43mpast_key_values\u001b[49m\u001b[38;5;241;43m=\u001b[39;49m\u001b[43mpast_key_values\u001b[49m\u001b[43m,\u001b[49m\n\u001b[0;32m    853\u001b[0m \u001b[43m    \u001b[49m\u001b[43muse_cache\u001b[49m\u001b[38;5;241;43m=\u001b[39;49m\u001b[43muse_cache\u001b[49m\u001b[43m,\u001b[49m\n\u001b[0;32m    854\u001b[0m \u001b[43m    \u001b[49m\u001b[43moutput_attentions\u001b[49m\u001b[38;5;241;43m=\u001b[39;49m\u001b[43moutput_attentions\u001b[49m\u001b[43m,\u001b[49m\n\u001b[0;32m    855\u001b[0m \u001b[43m    \u001b[49m\u001b[43moutput_hidden_states\u001b[49m\u001b[38;5;241;43m=\u001b[39;49m\u001b[43moutput_hidden_states\u001b[49m\u001b[43m,\u001b[49m\n\u001b[0;32m    856\u001b[0m \u001b[43m    \u001b[49m\u001b[43mreturn_dict\u001b[49m\u001b[38;5;241;43m=\u001b[39;49m\u001b[43mreturn_dict\u001b[49m\u001b[43m,\u001b[49m\n\u001b[0;32m    857\u001b[0m \u001b[43m\u001b[49m\u001b[43m)\u001b[49m\n\u001b[0;32m    858\u001b[0m sequence_output \u001b[38;5;241m=\u001b[39m encoder_outputs[\u001b[38;5;241m0\u001b[39m]\n\u001b[0;32m    859\u001b[0m pooled_output \u001b[38;5;241m=\u001b[39m \u001b[38;5;28mself\u001b[39m\u001b[38;5;241m.\u001b[39mpooler(sequence_output) \u001b[38;5;28;01mif\u001b[39;00m \u001b[38;5;28mself\u001b[39m\u001b[38;5;241m.\u001b[39mpooler \u001b[38;5;129;01mis\u001b[39;00m \u001b[38;5;129;01mnot\u001b[39;00m \u001b[38;5;28;01mNone\u001b[39;00m \u001b[38;5;28;01melse\u001b[39;00m \u001b[38;5;28;01mNone\u001b[39;00m\n",
      "File \u001b[1;32m~\\anaconda3\\lib\\site-packages\\torch\\nn\\modules\\module.py:1501\u001b[0m, in \u001b[0;36mModule._call_impl\u001b[1;34m(self, *args, **kwargs)\u001b[0m\n\u001b[0;32m   1496\u001b[0m \u001b[38;5;66;03m# If we don't have any hooks, we want to skip the rest of the logic in\u001b[39;00m\n\u001b[0;32m   1497\u001b[0m \u001b[38;5;66;03m# this function, and just call forward.\u001b[39;00m\n\u001b[0;32m   1498\u001b[0m \u001b[38;5;28;01mif\u001b[39;00m \u001b[38;5;129;01mnot\u001b[39;00m (\u001b[38;5;28mself\u001b[39m\u001b[38;5;241m.\u001b[39m_backward_hooks \u001b[38;5;129;01mor\u001b[39;00m \u001b[38;5;28mself\u001b[39m\u001b[38;5;241m.\u001b[39m_backward_pre_hooks \u001b[38;5;129;01mor\u001b[39;00m \u001b[38;5;28mself\u001b[39m\u001b[38;5;241m.\u001b[39m_forward_hooks \u001b[38;5;129;01mor\u001b[39;00m \u001b[38;5;28mself\u001b[39m\u001b[38;5;241m.\u001b[39m_forward_pre_hooks\n\u001b[0;32m   1499\u001b[0m         \u001b[38;5;129;01mor\u001b[39;00m _global_backward_pre_hooks \u001b[38;5;129;01mor\u001b[39;00m _global_backward_hooks\n\u001b[0;32m   1500\u001b[0m         \u001b[38;5;129;01mor\u001b[39;00m _global_forward_hooks \u001b[38;5;129;01mor\u001b[39;00m _global_forward_pre_hooks):\n\u001b[1;32m-> 1501\u001b[0m     \u001b[38;5;28;01mreturn\u001b[39;00m forward_call(\u001b[38;5;241m*\u001b[39margs, \u001b[38;5;241m*\u001b[39m\u001b[38;5;241m*\u001b[39mkwargs)\n\u001b[0;32m   1502\u001b[0m \u001b[38;5;66;03m# Do not call functions when jit is used\u001b[39;00m\n\u001b[0;32m   1503\u001b[0m full_backward_hooks, non_full_backward_hooks \u001b[38;5;241m=\u001b[39m [], []\n",
      "File \u001b[1;32m~\\anaconda3\\lib\\site-packages\\transformers\\models\\roberta\\modeling_roberta.py:520\u001b[0m, in \u001b[0;36mRobertaEncoder.forward\u001b[1;34m(self, hidden_states, attention_mask, head_mask, encoder_hidden_states, encoder_attention_mask, past_key_values, use_cache, output_attentions, output_hidden_states, return_dict)\u001b[0m\n\u001b[0;32m    511\u001b[0m     layer_outputs \u001b[38;5;241m=\u001b[39m torch\u001b[38;5;241m.\u001b[39mutils\u001b[38;5;241m.\u001b[39mcheckpoint\u001b[38;5;241m.\u001b[39mcheckpoint(\n\u001b[0;32m    512\u001b[0m         create_custom_forward(layer_module),\n\u001b[0;32m    513\u001b[0m         hidden_states,\n\u001b[1;32m   (...)\u001b[0m\n\u001b[0;32m    517\u001b[0m         encoder_attention_mask,\n\u001b[0;32m    518\u001b[0m     )\n\u001b[0;32m    519\u001b[0m \u001b[38;5;28;01melse\u001b[39;00m:\n\u001b[1;32m--> 520\u001b[0m     layer_outputs \u001b[38;5;241m=\u001b[39m \u001b[43mlayer_module\u001b[49m\u001b[43m(\u001b[49m\n\u001b[0;32m    521\u001b[0m \u001b[43m        \u001b[49m\u001b[43mhidden_states\u001b[49m\u001b[43m,\u001b[49m\n\u001b[0;32m    522\u001b[0m \u001b[43m        \u001b[49m\u001b[43mattention_mask\u001b[49m\u001b[43m,\u001b[49m\n\u001b[0;32m    523\u001b[0m \u001b[43m        \u001b[49m\u001b[43mlayer_head_mask\u001b[49m\u001b[43m,\u001b[49m\n\u001b[0;32m    524\u001b[0m \u001b[43m        \u001b[49m\u001b[43mencoder_hidden_states\u001b[49m\u001b[43m,\u001b[49m\n\u001b[0;32m    525\u001b[0m \u001b[43m        \u001b[49m\u001b[43mencoder_attention_mask\u001b[49m\u001b[43m,\u001b[49m\n\u001b[0;32m    526\u001b[0m \u001b[43m        \u001b[49m\u001b[43mpast_key_value\u001b[49m\u001b[43m,\u001b[49m\n\u001b[0;32m    527\u001b[0m \u001b[43m        \u001b[49m\u001b[43moutput_attentions\u001b[49m\u001b[43m,\u001b[49m\n\u001b[0;32m    528\u001b[0m \u001b[43m    \u001b[49m\u001b[43m)\u001b[49m\n\u001b[0;32m    530\u001b[0m hidden_states \u001b[38;5;241m=\u001b[39m layer_outputs[\u001b[38;5;241m0\u001b[39m]\n\u001b[0;32m    531\u001b[0m \u001b[38;5;28;01mif\u001b[39;00m use_cache:\n",
      "File \u001b[1;32m~\\anaconda3\\lib\\site-packages\\torch\\nn\\modules\\module.py:1501\u001b[0m, in \u001b[0;36mModule._call_impl\u001b[1;34m(self, *args, **kwargs)\u001b[0m\n\u001b[0;32m   1496\u001b[0m \u001b[38;5;66;03m# If we don't have any hooks, we want to skip the rest of the logic in\u001b[39;00m\n\u001b[0;32m   1497\u001b[0m \u001b[38;5;66;03m# this function, and just call forward.\u001b[39;00m\n\u001b[0;32m   1498\u001b[0m \u001b[38;5;28;01mif\u001b[39;00m \u001b[38;5;129;01mnot\u001b[39;00m (\u001b[38;5;28mself\u001b[39m\u001b[38;5;241m.\u001b[39m_backward_hooks \u001b[38;5;129;01mor\u001b[39;00m \u001b[38;5;28mself\u001b[39m\u001b[38;5;241m.\u001b[39m_backward_pre_hooks \u001b[38;5;129;01mor\u001b[39;00m \u001b[38;5;28mself\u001b[39m\u001b[38;5;241m.\u001b[39m_forward_hooks \u001b[38;5;129;01mor\u001b[39;00m \u001b[38;5;28mself\u001b[39m\u001b[38;5;241m.\u001b[39m_forward_pre_hooks\n\u001b[0;32m   1499\u001b[0m         \u001b[38;5;129;01mor\u001b[39;00m _global_backward_pre_hooks \u001b[38;5;129;01mor\u001b[39;00m _global_backward_hooks\n\u001b[0;32m   1500\u001b[0m         \u001b[38;5;129;01mor\u001b[39;00m _global_forward_hooks \u001b[38;5;129;01mor\u001b[39;00m _global_forward_pre_hooks):\n\u001b[1;32m-> 1501\u001b[0m     \u001b[38;5;28;01mreturn\u001b[39;00m forward_call(\u001b[38;5;241m*\u001b[39margs, \u001b[38;5;241m*\u001b[39m\u001b[38;5;241m*\u001b[39mkwargs)\n\u001b[0;32m   1502\u001b[0m \u001b[38;5;66;03m# Do not call functions when jit is used\u001b[39;00m\n\u001b[0;32m   1503\u001b[0m full_backward_hooks, non_full_backward_hooks \u001b[38;5;241m=\u001b[39m [], []\n",
      "File \u001b[1;32m~\\anaconda3\\lib\\site-packages\\transformers\\models\\roberta\\modeling_roberta.py:405\u001b[0m, in \u001b[0;36mRobertaLayer.forward\u001b[1;34m(self, hidden_states, attention_mask, head_mask, encoder_hidden_states, encoder_attention_mask, past_key_value, output_attentions)\u001b[0m\n\u001b[0;32m    393\u001b[0m \u001b[38;5;28;01mdef\u001b[39;00m \u001b[38;5;21mforward\u001b[39m(\n\u001b[0;32m    394\u001b[0m     \u001b[38;5;28mself\u001b[39m,\n\u001b[0;32m    395\u001b[0m     hidden_states: torch\u001b[38;5;241m.\u001b[39mTensor,\n\u001b[1;32m   (...)\u001b[0m\n\u001b[0;32m    402\u001b[0m ) \u001b[38;5;241m-\u001b[39m\u001b[38;5;241m>\u001b[39m Tuple[torch\u001b[38;5;241m.\u001b[39mTensor]:\n\u001b[0;32m    403\u001b[0m     \u001b[38;5;66;03m# decoder uni-directional self-attention cached key/values tuple is at positions 1,2\u001b[39;00m\n\u001b[0;32m    404\u001b[0m     self_attn_past_key_value \u001b[38;5;241m=\u001b[39m past_key_value[:\u001b[38;5;241m2\u001b[39m] \u001b[38;5;28;01mif\u001b[39;00m past_key_value \u001b[38;5;129;01mis\u001b[39;00m \u001b[38;5;129;01mnot\u001b[39;00m \u001b[38;5;28;01mNone\u001b[39;00m \u001b[38;5;28;01melse\u001b[39;00m \u001b[38;5;28;01mNone\u001b[39;00m\n\u001b[1;32m--> 405\u001b[0m     self_attention_outputs \u001b[38;5;241m=\u001b[39m \u001b[38;5;28;43mself\u001b[39;49m\u001b[38;5;241;43m.\u001b[39;49m\u001b[43mattention\u001b[49m\u001b[43m(\u001b[49m\n\u001b[0;32m    406\u001b[0m \u001b[43m        \u001b[49m\u001b[43mhidden_states\u001b[49m\u001b[43m,\u001b[49m\n\u001b[0;32m    407\u001b[0m \u001b[43m        \u001b[49m\u001b[43mattention_mask\u001b[49m\u001b[43m,\u001b[49m\n\u001b[0;32m    408\u001b[0m \u001b[43m        \u001b[49m\u001b[43mhead_mask\u001b[49m\u001b[43m,\u001b[49m\n\u001b[0;32m    409\u001b[0m \u001b[43m        \u001b[49m\u001b[43moutput_attentions\u001b[49m\u001b[38;5;241;43m=\u001b[39;49m\u001b[43moutput_attentions\u001b[49m\u001b[43m,\u001b[49m\n\u001b[0;32m    410\u001b[0m \u001b[43m        \u001b[49m\u001b[43mpast_key_value\u001b[49m\u001b[38;5;241;43m=\u001b[39;49m\u001b[43mself_attn_past_key_value\u001b[49m\u001b[43m,\u001b[49m\n\u001b[0;32m    411\u001b[0m \u001b[43m    \u001b[49m\u001b[43m)\u001b[49m\n\u001b[0;32m    412\u001b[0m     attention_output \u001b[38;5;241m=\u001b[39m self_attention_outputs[\u001b[38;5;241m0\u001b[39m]\n\u001b[0;32m    414\u001b[0m     \u001b[38;5;66;03m# if decoder, the last output is tuple of self-attn cache\u001b[39;00m\n",
      "File \u001b[1;32m~\\anaconda3\\lib\\site-packages\\torch\\nn\\modules\\module.py:1501\u001b[0m, in \u001b[0;36mModule._call_impl\u001b[1;34m(self, *args, **kwargs)\u001b[0m\n\u001b[0;32m   1496\u001b[0m \u001b[38;5;66;03m# If we don't have any hooks, we want to skip the rest of the logic in\u001b[39;00m\n\u001b[0;32m   1497\u001b[0m \u001b[38;5;66;03m# this function, and just call forward.\u001b[39;00m\n\u001b[0;32m   1498\u001b[0m \u001b[38;5;28;01mif\u001b[39;00m \u001b[38;5;129;01mnot\u001b[39;00m (\u001b[38;5;28mself\u001b[39m\u001b[38;5;241m.\u001b[39m_backward_hooks \u001b[38;5;129;01mor\u001b[39;00m \u001b[38;5;28mself\u001b[39m\u001b[38;5;241m.\u001b[39m_backward_pre_hooks \u001b[38;5;129;01mor\u001b[39;00m \u001b[38;5;28mself\u001b[39m\u001b[38;5;241m.\u001b[39m_forward_hooks \u001b[38;5;129;01mor\u001b[39;00m \u001b[38;5;28mself\u001b[39m\u001b[38;5;241m.\u001b[39m_forward_pre_hooks\n\u001b[0;32m   1499\u001b[0m         \u001b[38;5;129;01mor\u001b[39;00m _global_backward_pre_hooks \u001b[38;5;129;01mor\u001b[39;00m _global_backward_hooks\n\u001b[0;32m   1500\u001b[0m         \u001b[38;5;129;01mor\u001b[39;00m _global_forward_hooks \u001b[38;5;129;01mor\u001b[39;00m _global_forward_pre_hooks):\n\u001b[1;32m-> 1501\u001b[0m     \u001b[38;5;28;01mreturn\u001b[39;00m forward_call(\u001b[38;5;241m*\u001b[39margs, \u001b[38;5;241m*\u001b[39m\u001b[38;5;241m*\u001b[39mkwargs)\n\u001b[0;32m   1502\u001b[0m \u001b[38;5;66;03m# Do not call functions when jit is used\u001b[39;00m\n\u001b[0;32m   1503\u001b[0m full_backward_hooks, non_full_backward_hooks \u001b[38;5;241m=\u001b[39m [], []\n",
      "File \u001b[1;32m~\\anaconda3\\lib\\site-packages\\transformers\\models\\roberta\\modeling_roberta.py:332\u001b[0m, in \u001b[0;36mRobertaAttention.forward\u001b[1;34m(self, hidden_states, attention_mask, head_mask, encoder_hidden_states, encoder_attention_mask, past_key_value, output_attentions)\u001b[0m\n\u001b[0;32m    322\u001b[0m \u001b[38;5;28;01mdef\u001b[39;00m \u001b[38;5;21mforward\u001b[39m(\n\u001b[0;32m    323\u001b[0m     \u001b[38;5;28mself\u001b[39m,\n\u001b[0;32m    324\u001b[0m     hidden_states: torch\u001b[38;5;241m.\u001b[39mTensor,\n\u001b[1;32m   (...)\u001b[0m\n\u001b[0;32m    330\u001b[0m     output_attentions: Optional[\u001b[38;5;28mbool\u001b[39m] \u001b[38;5;241m=\u001b[39m \u001b[38;5;28;01mFalse\u001b[39;00m,\n\u001b[0;32m    331\u001b[0m ) \u001b[38;5;241m-\u001b[39m\u001b[38;5;241m>\u001b[39m Tuple[torch\u001b[38;5;241m.\u001b[39mTensor]:\n\u001b[1;32m--> 332\u001b[0m     self_outputs \u001b[38;5;241m=\u001b[39m \u001b[38;5;28;43mself\u001b[39;49m\u001b[38;5;241;43m.\u001b[39;49m\u001b[43mself\u001b[49m\u001b[43m(\u001b[49m\n\u001b[0;32m    333\u001b[0m \u001b[43m        \u001b[49m\u001b[43mhidden_states\u001b[49m\u001b[43m,\u001b[49m\n\u001b[0;32m    334\u001b[0m \u001b[43m        \u001b[49m\u001b[43mattention_mask\u001b[49m\u001b[43m,\u001b[49m\n\u001b[0;32m    335\u001b[0m \u001b[43m        \u001b[49m\u001b[43mhead_mask\u001b[49m\u001b[43m,\u001b[49m\n\u001b[0;32m    336\u001b[0m \u001b[43m        \u001b[49m\u001b[43mencoder_hidden_states\u001b[49m\u001b[43m,\u001b[49m\n\u001b[0;32m    337\u001b[0m \u001b[43m        \u001b[49m\u001b[43mencoder_attention_mask\u001b[49m\u001b[43m,\u001b[49m\n\u001b[0;32m    338\u001b[0m \u001b[43m        \u001b[49m\u001b[43mpast_key_value\u001b[49m\u001b[43m,\u001b[49m\n\u001b[0;32m    339\u001b[0m \u001b[43m        \u001b[49m\u001b[43moutput_attentions\u001b[49m\u001b[43m,\u001b[49m\n\u001b[0;32m    340\u001b[0m \u001b[43m    \u001b[49m\u001b[43m)\u001b[49m\n\u001b[0;32m    341\u001b[0m     attention_output \u001b[38;5;241m=\u001b[39m \u001b[38;5;28mself\u001b[39m\u001b[38;5;241m.\u001b[39moutput(self_outputs[\u001b[38;5;241m0\u001b[39m], hidden_states)\n\u001b[0;32m    342\u001b[0m     outputs \u001b[38;5;241m=\u001b[39m (attention_output,) \u001b[38;5;241m+\u001b[39m self_outputs[\u001b[38;5;241m1\u001b[39m:]  \u001b[38;5;66;03m# add attentions if we output them\u001b[39;00m\n",
      "File \u001b[1;32m~\\anaconda3\\lib\\site-packages\\torch\\nn\\modules\\module.py:1501\u001b[0m, in \u001b[0;36mModule._call_impl\u001b[1;34m(self, *args, **kwargs)\u001b[0m\n\u001b[0;32m   1496\u001b[0m \u001b[38;5;66;03m# If we don't have any hooks, we want to skip the rest of the logic in\u001b[39;00m\n\u001b[0;32m   1497\u001b[0m \u001b[38;5;66;03m# this function, and just call forward.\u001b[39;00m\n\u001b[0;32m   1498\u001b[0m \u001b[38;5;28;01mif\u001b[39;00m \u001b[38;5;129;01mnot\u001b[39;00m (\u001b[38;5;28mself\u001b[39m\u001b[38;5;241m.\u001b[39m_backward_hooks \u001b[38;5;129;01mor\u001b[39;00m \u001b[38;5;28mself\u001b[39m\u001b[38;5;241m.\u001b[39m_backward_pre_hooks \u001b[38;5;129;01mor\u001b[39;00m \u001b[38;5;28mself\u001b[39m\u001b[38;5;241m.\u001b[39m_forward_hooks \u001b[38;5;129;01mor\u001b[39;00m \u001b[38;5;28mself\u001b[39m\u001b[38;5;241m.\u001b[39m_forward_pre_hooks\n\u001b[0;32m   1499\u001b[0m         \u001b[38;5;129;01mor\u001b[39;00m _global_backward_pre_hooks \u001b[38;5;129;01mor\u001b[39;00m _global_backward_hooks\n\u001b[0;32m   1500\u001b[0m         \u001b[38;5;129;01mor\u001b[39;00m _global_forward_hooks \u001b[38;5;129;01mor\u001b[39;00m _global_forward_pre_hooks):\n\u001b[1;32m-> 1501\u001b[0m     \u001b[38;5;28;01mreturn\u001b[39;00m forward_call(\u001b[38;5;241m*\u001b[39margs, \u001b[38;5;241m*\u001b[39m\u001b[38;5;241m*\u001b[39mkwargs)\n\u001b[0;32m   1502\u001b[0m \u001b[38;5;66;03m# Do not call functions when jit is used\u001b[39;00m\n\u001b[0;32m   1503\u001b[0m full_backward_hooks, non_full_backward_hooks \u001b[38;5;241m=\u001b[39m [], []\n",
      "File \u001b[1;32m~\\anaconda3\\lib\\site-packages\\transformers\\models\\roberta\\modeling_roberta.py:219\u001b[0m, in \u001b[0;36mRobertaSelfAttention.forward\u001b[1;34m(self, hidden_states, attention_mask, head_mask, encoder_hidden_states, encoder_attention_mask, past_key_value, output_attentions)\u001b[0m\n\u001b[0;32m    217\u001b[0m \u001b[38;5;28;01melse\u001b[39;00m:\n\u001b[0;32m    218\u001b[0m     key_layer \u001b[38;5;241m=\u001b[39m \u001b[38;5;28mself\u001b[39m\u001b[38;5;241m.\u001b[39mtranspose_for_scores(\u001b[38;5;28mself\u001b[39m\u001b[38;5;241m.\u001b[39mkey(hidden_states))\n\u001b[1;32m--> 219\u001b[0m     value_layer \u001b[38;5;241m=\u001b[39m \u001b[38;5;28mself\u001b[39m\u001b[38;5;241m.\u001b[39mtranspose_for_scores(\u001b[38;5;28;43mself\u001b[39;49m\u001b[38;5;241;43m.\u001b[39;49m\u001b[43mvalue\u001b[49m\u001b[43m(\u001b[49m\u001b[43mhidden_states\u001b[49m\u001b[43m)\u001b[49m)\n\u001b[0;32m    221\u001b[0m query_layer \u001b[38;5;241m=\u001b[39m \u001b[38;5;28mself\u001b[39m\u001b[38;5;241m.\u001b[39mtranspose_for_scores(mixed_query_layer)\n\u001b[0;32m    223\u001b[0m \u001b[38;5;28;01mif\u001b[39;00m \u001b[38;5;28mself\u001b[39m\u001b[38;5;241m.\u001b[39mis_decoder:\n\u001b[0;32m    224\u001b[0m     \u001b[38;5;66;03m# if cross_attention save Tuple(torch.Tensor, torch.Tensor) of all cross attention key/value_states.\u001b[39;00m\n\u001b[0;32m    225\u001b[0m     \u001b[38;5;66;03m# Further calls to cross_attention layer can then reuse all cross-attention\u001b[39;00m\n\u001b[1;32m   (...)\u001b[0m\n\u001b[0;32m    229\u001b[0m     \u001b[38;5;66;03m# can concat previous decoder key/value_states to current projected key/value_states (third \"elif\" case)\u001b[39;00m\n\u001b[0;32m    230\u001b[0m     \u001b[38;5;66;03m# if encoder bi-directional self-attention `past_key_value` is always `None`\u001b[39;00m\n",
      "File \u001b[1;32m~\\anaconda3\\lib\\site-packages\\torch\\nn\\modules\\module.py:1501\u001b[0m, in \u001b[0;36mModule._call_impl\u001b[1;34m(self, *args, **kwargs)\u001b[0m\n\u001b[0;32m   1496\u001b[0m \u001b[38;5;66;03m# If we don't have any hooks, we want to skip the rest of the logic in\u001b[39;00m\n\u001b[0;32m   1497\u001b[0m \u001b[38;5;66;03m# this function, and just call forward.\u001b[39;00m\n\u001b[0;32m   1498\u001b[0m \u001b[38;5;28;01mif\u001b[39;00m \u001b[38;5;129;01mnot\u001b[39;00m (\u001b[38;5;28mself\u001b[39m\u001b[38;5;241m.\u001b[39m_backward_hooks \u001b[38;5;129;01mor\u001b[39;00m \u001b[38;5;28mself\u001b[39m\u001b[38;5;241m.\u001b[39m_backward_pre_hooks \u001b[38;5;129;01mor\u001b[39;00m \u001b[38;5;28mself\u001b[39m\u001b[38;5;241m.\u001b[39m_forward_hooks \u001b[38;5;129;01mor\u001b[39;00m \u001b[38;5;28mself\u001b[39m\u001b[38;5;241m.\u001b[39m_forward_pre_hooks\n\u001b[0;32m   1499\u001b[0m         \u001b[38;5;129;01mor\u001b[39;00m _global_backward_pre_hooks \u001b[38;5;129;01mor\u001b[39;00m _global_backward_hooks\n\u001b[0;32m   1500\u001b[0m         \u001b[38;5;129;01mor\u001b[39;00m _global_forward_hooks \u001b[38;5;129;01mor\u001b[39;00m _global_forward_pre_hooks):\n\u001b[1;32m-> 1501\u001b[0m     \u001b[38;5;28;01mreturn\u001b[39;00m forward_call(\u001b[38;5;241m*\u001b[39margs, \u001b[38;5;241m*\u001b[39m\u001b[38;5;241m*\u001b[39mkwargs)\n\u001b[0;32m   1502\u001b[0m \u001b[38;5;66;03m# Do not call functions when jit is used\u001b[39;00m\n\u001b[0;32m   1503\u001b[0m full_backward_hooks, non_full_backward_hooks \u001b[38;5;241m=\u001b[39m [], []\n",
      "File \u001b[1;32m~\\anaconda3\\lib\\site-packages\\torch\\nn\\modules\\linear.py:114\u001b[0m, in \u001b[0;36mLinear.forward\u001b[1;34m(self, input)\u001b[0m\n\u001b[0;32m    113\u001b[0m \u001b[38;5;28;01mdef\u001b[39;00m \u001b[38;5;21mforward\u001b[39m(\u001b[38;5;28mself\u001b[39m, \u001b[38;5;28minput\u001b[39m: Tensor) \u001b[38;5;241m-\u001b[39m\u001b[38;5;241m>\u001b[39m Tensor:\n\u001b[1;32m--> 114\u001b[0m     \u001b[38;5;28;01mreturn\u001b[39;00m \u001b[43mF\u001b[49m\u001b[38;5;241;43m.\u001b[39;49m\u001b[43mlinear\u001b[49m\u001b[43m(\u001b[49m\u001b[38;5;28;43minput\u001b[39;49m\u001b[43m,\u001b[49m\u001b[43m \u001b[49m\u001b[38;5;28;43mself\u001b[39;49m\u001b[38;5;241;43m.\u001b[39;49m\u001b[43mweight\u001b[49m\u001b[43m,\u001b[49m\u001b[43m \u001b[49m\u001b[38;5;28;43mself\u001b[39;49m\u001b[38;5;241;43m.\u001b[39;49m\u001b[43mbias\u001b[49m\u001b[43m)\u001b[49m\n",
      "\u001b[1;31mRuntimeError\u001b[0m: [enforce fail at C:\\actions-runner\\_work\\pytorch\\pytorch\\builder\\windows\\pytorch\\c10\\core\\impl\\alloc_cpu.cpp:72] data. DefaultCPUAllocator: not enough memory: you tried to allocate 771775488 bytes."
     ]
    }
   ],
   "source": [
    "# Train the model\n",
    "optimizer = torch.optim.AdamW(model.parameters(), lr=5e-5)\n",
    "for epoch in range(3):\n",
    "    model.train()\n",
    "    outputs = model(inputs['input_ids'], attention_mask=inputs['attention_mask'], labels=labels)\n",
    "    loss = outputs.loss\n",
    "    loss.backward()\n",
    "    optimizer.step()\n",
    "    optimizer.zero_grad()"
   ]
  },
  {
   "cell_type": "code",
   "execution_count": 108,
   "id": "84ab951d",
   "metadata": {},
   "outputs": [],
   "source": [
    "# Evaluate the model on a test set\n",
    "test_inputs = tokenizer(test_rev, padding=True, truncation=True, max_length=128, return_tensors='pt')\n",
    "# test_labels = torch.tensor(test_data['label'].tolist())"
   ]
  },
  {
   "cell_type": "code",
   "execution_count": 109,
   "id": "dd7c4ccb",
   "metadata": {},
   "outputs": [
    {
     "ename": "NameError",
     "evalue": "name 'test_labels' is not defined",
     "output_type": "error",
     "traceback": [
      "\u001b[1;31m---------------------------------------------------------------------------\u001b[0m",
      "\u001b[1;31mNameError\u001b[0m                                 Traceback (most recent call last)",
      "Cell \u001b[1;32mIn[109], line 3\u001b[0m\n\u001b[0;32m      1\u001b[0m model\u001b[38;5;241m.\u001b[39meval()\n\u001b[0;32m      2\u001b[0m \u001b[38;5;28;01mwith\u001b[39;00m torch\u001b[38;5;241m.\u001b[39mno_grad():\n\u001b[1;32m----> 3\u001b[0m     outputs \u001b[38;5;241m=\u001b[39m model(test_inputs[\u001b[38;5;124m'\u001b[39m\u001b[38;5;124minput_ids\u001b[39m\u001b[38;5;124m'\u001b[39m], attention_mask\u001b[38;5;241m=\u001b[39mtest_inputs[\u001b[38;5;124m'\u001b[39m\u001b[38;5;124mattention_mask\u001b[39m\u001b[38;5;124m'\u001b[39m], labels\u001b[38;5;241m=\u001b[39m\u001b[43mtest_labels\u001b[49m)\n\u001b[0;32m      4\u001b[0m     predictions \u001b[38;5;241m=\u001b[39m torch\u001b[38;5;241m.\u001b[39margmax(outputs\u001b[38;5;241m.\u001b[39mlogits, dim\u001b[38;5;241m=\u001b[39m\u001b[38;5;241m-\u001b[39m\u001b[38;5;241m1\u001b[39m)\n",
      "\u001b[1;31mNameError\u001b[0m: name 'test_labels' is not defined"
     ]
    }
   ],
   "source": [
    "model.eval()\n",
    "with torch.no_grad():\n",
    "    outputs = model(test_inputs['input_ids'], attention_mask=test_inputs['attention_mask'], labels=test_labels)\n",
    "    predictions = torch.argmax(outputs.logits, dim=-1)"
   ]
  },
  {
   "cell_type": "markdown",
   "id": "9a6d60a1",
   "metadata": {},
   "source": [
    "### USING TPOTClassifier"
   ]
  },
  {
   "cell_type": "code",
   "execution_count": 25,
   "id": "2494f999",
   "metadata": {},
   "outputs": [],
   "source": [
    "from tpot import TPOTClassifier"
   ]
  },
  {
   "cell_type": "code",
   "execution_count": 26,
   "id": "7540686d",
   "metadata": {},
   "outputs": [],
   "source": [
    "XT = bow_train.toarray()\n",
    "X2 = bow_test.toarray()\n",
    "test_main = test3.toarray()"
   ]
  },
  {
   "cell_type": "code",
   "execution_count": 31,
   "id": "2fdf6d91",
   "metadata": {},
   "outputs": [
    {
     "data": {
      "application/vnd.jupyter.widget-view+json": {
       "model_id": "d85f777f67b0495b90f3cc3550d87226",
       "version_major": 2,
       "version_minor": 0
      },
      "text/plain": [
       "Optimization Progress:   0%|          | 0/3050 [00:00<?, ?pipeline/s]"
      ]
     },
     "metadata": {},
     "output_type": "display_data"
    },
    {
     "name": "stdout",
     "output_type": "stream",
     "text": [
      "\n",
      "Generation 1 - Current best internal CV score: 0.7817463307712038\n",
      "\n",
      "\n",
      "TPOT closed during evaluation in one generation.\n",
      "WARNING: TPOT may not provide a good pipeline if TPOT is stopped/interrupted in a early generation.\n",
      "\n",
      "\n",
      "TPOT closed prematurely. Will use the current best pipeline.\n",
      "\n",
      "Best pipeline: BernoulliNB(input_matrix, alpha=1.0, fit_prior=True)\n"
     ]
    },
    {
     "data": {
      "text/plain": [
       "TPOTClassifier(cv=2, generations=30, offspring_size=100, population_size=50,\n",
       "               random_state=2, scoring='accuracy', verbosity=2)"
      ]
     },
     "execution_count": 31,
     "metadata": {},
     "output_type": "execute_result"
    }
   ],
   "source": [
    "tpot_clf = TPOTClassifier(generations=30, population_size=50,\n",
    "                          offspring_size=100, scoring='accuracy',\n",
    "                          verbosity=2, random_state=2, cv=2)\n",
    "tpot_clf.fit(XT, y_train)"
   ]
  },
  {
   "cell_type": "code",
   "execution_count": 32,
   "id": "8a050e69",
   "metadata": {},
   "outputs": [
    {
     "name": "stdout",
     "output_type": "stream",
     "text": [
      "Accuracy is: 0.81\n",
      "Precision is: 0.83\n",
      "Recall is: 0.79\n",
      "Fscore is: 0.79\n",
      "AUC is: 0.79\n"
     ]
    }
   ],
   "source": [
    "pred_tpot = tpot_clf.predict(X2)\n",
    "precision, recall, f_beta, support = metrics.precision_recall_fscore_support(y_test, pred_tpot, beta=5, pos_label=1, average='macro')\n",
    "auc = metrics.roc_auc_score(y_test, pred_tpot)\n",
    "accuracy = metrics.accuracy_score(y_test, pred_tpot)\n",
    "print(f\"Accuracy is: {accuracy:.2f}\")\n",
    "print(f\"Precision is: {precision:.2f}\")\n",
    "print(f\"Recall is: {recall:.2f}\")\n",
    "print(f\"Fscore is: {f_beta:.2f}\")\n",
    "print(f\"AUC is: {auc:.2f}\")"
   ]
  },
  {
   "cell_type": "code",
   "execution_count": 33,
   "id": "745d1556",
   "metadata": {},
   "outputs": [
    {
     "data": {
      "image/png": "[encoded data removed]",
      "text/plain": [
       "<Figure size 640x480 with 2 Axes>"
      ]
     },
     "metadata": {},
     "output_type": "display_data"
    }
   ],
   "source": [
    "cm_tp = metrics.confusion_matrix(y_test, pred_tpot)\n",
    "cm_display = metrics.ConfusionMatrixDisplay(confusion_matrix=cm_tp, display_labels=[0,1])\n",
    "cm_display.plot()\n",
    "plt.show()"
   ]
  },
  {
   "cell_type": "code",
   "execution_count": 34,
   "id": "2ec8fb96",
   "metadata": {},
   "outputs": [
    {
     "data": {
      "text/html": [
       "<div>\n",
       "<style scoped>\n",
       "    .dataframe tbody tr th:only-of-type {\n",
       "        vertical-align: middle;\n",
       "    }\n",
       "\n",
       "    .dataframe tbody tr th {\n",
       "        vertical-align: top;\n",
       "    }\n",
       "\n",
       "    .dataframe thead th {\n",
       "        text-align: right;\n",
       "    }\n",
       "</style>\n",
       "<table border=\"1\" class=\"dataframe\">\n",
       "  <thead>\n",
       "    <tr style=\"text-align: right;\">\n",
       "      <th></th>\n",
       "      <th>id</th>\n",
       "      <th>target</th>\n",
       "    </tr>\n",
       "  </thead>\n",
       "  <tbody>\n",
       "    <tr>\n",
       "      <th>0</th>\n",
       "      <td>0</td>\n",
       "      <td>1</td>\n",
       "    </tr>\n",
       "    <tr>\n",
       "      <th>1</th>\n",
       "      <td>2</td>\n",
       "      <td>1</td>\n",
       "    </tr>\n",
       "    <tr>\n",
       "      <th>2</th>\n",
       "      <td>3</td>\n",
       "      <td>1</td>\n",
       "    </tr>\n",
       "    <tr>\n",
       "      <th>3</th>\n",
       "      <td>9</td>\n",
       "      <td>1</td>\n",
       "    </tr>\n",
       "    <tr>\n",
       "      <th>4</th>\n",
       "      <td>11</td>\n",
       "      <td>1</td>\n",
       "    </tr>\n",
       "  </tbody>\n",
       "</table>\n",
       "</div>"
      ],
      "text/plain": [
       "   id  target\n",
       "0   0       1\n",
       "1   2       1\n",
       "2   3       1\n",
       "3   9       1\n",
       "4  11       1"
      ]
     },
     "execution_count": 34,
     "metadata": {},
     "output_type": "execute_result"
    }
   ],
   "source": [
    "pred_tp = model.predict(test_main)\n",
    "df_id = pd.DataFrame({'id':test['id']})\n",
    "df_tp = pd.DataFrame(pred_tp,columns=['target'])  \n",
    "df_tp = pd.concat([df_id, df_tp],axis=1)\n",
    "df_tp.head()"
   ]
  },
  {
   "cell_type": "code",
   "execution_count": 35,
   "id": "0d96588d",
   "metadata": {},
   "outputs": [],
   "source": [
    "df_tp.to_csv('target_tpot.csv', index=False) #to be submitted 6th may"
   ]
  },
  {
   "cell_type": "markdown",
   "id": "13fac8cf",
   "metadata": {},
   "source": [
    "### Gridsearch on KNN"
   ]
  },
  {
   "cell_type": "code",
   "execution_count": 21,
   "id": "5dcf4e8c",
   "metadata": {},
   "outputs": [],
   "source": [
    "from sklearn.neighbors import KNeighborsClassifier"
   ]
  },
  {
   "cell_type": "code",
   "execution_count": null,
   "id": "d7f18ca2",
   "metadata": {},
   "outputs": [
    {
     "name": "stderr",
     "output_type": "stream",
     "text": [
      "C:\\Users\\USER\\anaconda3\\lib\\site-packages\\sklearn\\neighbors\\_classification.py:228: FutureWarning: Unlike other reduction functions (e.g. `skew`, `kurtosis`), the default behavior of `mode` typically preserves the axis it acts along. In SciPy 1.11.0, this behavior will change: the default value of `keepdims` will become False, the `axis` over which the statistic is taken will be eliminated, and the value None will no longer be accepted. Set `keepdims` to True or False to avoid this warning.\n",
      "  mode, _ = stats.mode(_y[neigh_ind, k], axis=1)\n",
      "C:\\Users\\USER\\anaconda3\\lib\\site-packages\\sklearn\\neighbors\\_classification.py:228: FutureWarning: Unlike other reduction functions (e.g. `skew`, `kurtosis`), the default behavior of `mode` typically preserves the axis it acts along. In SciPy 1.11.0, this behavior will change: the default value of `keepdims` will become False, the `axis` over which the statistic is taken will be eliminated, and the value None will no longer be accepted. Set `keepdims` to True or False to avoid this warning.\n",
      "  mode, _ = stats.mode(_y[neigh_ind, k], axis=1)\n",
      "C:\\Users\\USER\\anaconda3\\lib\\site-packages\\sklearn\\neighbors\\_classification.py:228: FutureWarning: Unlike other reduction functions (e.g. `skew`, `kurtosis`), the default behavior of `mode` typically preserves the axis it acts along. In SciPy 1.11.0, this behavior will change: the default value of `keepdims` will become False, the `axis` over which the statistic is taken will be eliminated, and the value None will no longer be accepted. Set `keepdims` to True or False to avoid this warning.\n",
      "  mode, _ = stats.mode(_y[neigh_ind, k], axis=1)\n",
      "C:\\Users\\USER\\anaconda3\\lib\\site-packages\\sklearn\\neighbors\\_classification.py:228: FutureWarning: Unlike other reduction functions (e.g. `skew`, `kurtosis`), the default behavior of `mode` typically preserves the axis it acts along. In SciPy 1.11.0, this behavior will change: the default value of `keepdims` will become False, the `axis` over which the statistic is taken will be eliminated, and the value None will no longer be accepted. Set `keepdims` to True or False to avoid this warning.\n",
      "  mode, _ = stats.mode(_y[neigh_ind, k], axis=1)\n",
      "C:\\Users\\USER\\anaconda3\\lib\\site-packages\\sklearn\\neighbors\\_classification.py:228: FutureWarning: Unlike other reduction functions (e.g. `skew`, `kurtosis`), the default behavior of `mode` typically preserves the axis it acts along. In SciPy 1.11.0, this behavior will change: the default value of `keepdims` will become False, the `axis` over which the statistic is taken will be eliminated, and the value None will no longer be accepted. Set `keepdims` to True or False to avoid this warning.\n",
      "  mode, _ = stats.mode(_y[neigh_ind, k], axis=1)\n",
      "C:\\Users\\USER\\anaconda3\\lib\\site-packages\\sklearn\\neighbors\\_classification.py:228: FutureWarning: Unlike other reduction functions (e.g. `skew`, `kurtosis`), the default behavior of `mode` typically preserves the axis it acts along. In SciPy 1.11.0, this behavior will change: the default value of `keepdims` will become False, the `axis` over which the statistic is taken will be eliminated, and the value None will no longer be accepted. Set `keepdims` to True or False to avoid this warning.\n",
      "  mode, _ = stats.mode(_y[neigh_ind, k], axis=1)\n",
      "C:\\Users\\USER\\anaconda3\\lib\\site-packages\\sklearn\\neighbors\\_classification.py:228: FutureWarning: Unlike other reduction functions (e.g. `skew`, `kurtosis`), the default behavior of `mode` typically preserves the axis it acts along. In SciPy 1.11.0, this behavior will change: the default value of `keepdims` will become False, the `axis` over which the statistic is taken will be eliminated, and the value None will no longer be accepted. Set `keepdims` to True or False to avoid this warning.\n",
      "  mode, _ = stats.mode(_y[neigh_ind, k], axis=1)\n",
      "C:\\Users\\USER\\anaconda3\\lib\\site-packages\\sklearn\\neighbors\\_classification.py:228: FutureWarning: Unlike other reduction functions (e.g. `skew`, `kurtosis`), the default behavior of `mode` typically preserves the axis it acts along. In SciPy 1.11.0, this behavior will change: the default value of `keepdims` will become False, the `axis` over which the statistic is taken will be eliminated, and the value None will no longer be accepted. Set `keepdims` to True or False to avoid this warning.\n",
      "  mode, _ = stats.mode(_y[neigh_ind, k], axis=1)\n",
      "C:\\Users\\USER\\anaconda3\\lib\\site-packages\\sklearn\\neighbors\\_classification.py:228: FutureWarning: Unlike other reduction functions (e.g. `skew`, `kurtosis`), the default behavior of `mode` typically preserves the axis it acts along. In SciPy 1.11.0, this behavior will change: the default value of `keepdims` will become False, the `axis` over which the statistic is taken will be eliminated, and the value None will no longer be accepted. Set `keepdims` to True or False to avoid this warning.\n",
      "  mode, _ = stats.mode(_y[neigh_ind, k], axis=1)\n",
      "C:\\Users\\USER\\anaconda3\\lib\\site-packages\\sklearn\\neighbors\\_classification.py:228: FutureWarning: Unlike other reduction functions (e.g. `skew`, `kurtosis`), the default behavior of `mode` typically preserves the axis it acts along. In SciPy 1.11.0, this behavior will change: the default value of `keepdims` will become False, the `axis` over which the statistic is taken will be eliminated, and the value None will no longer be accepted. Set `keepdims` to True or False to avoid this warning.\n",
      "  mode, _ = stats.mode(_y[neigh_ind, k], axis=1)\n",
      "C:\\Users\\USER\\anaconda3\\lib\\site-packages\\sklearn\\neighbors\\_classification.py:228: FutureWarning: Unlike other reduction functions (e.g. `skew`, `kurtosis`), the default behavior of `mode` typically preserves the axis it acts along. In SciPy 1.11.0, this behavior will change: the default value of `keepdims` will become False, the `axis` over which the statistic is taken will be eliminated, and the value None will no longer be accepted. Set `keepdims` to True or False to avoid this warning.\n",
      "  mode, _ = stats.mode(_y[neigh_ind, k], axis=1)\n",
      "C:\\Users\\USER\\anaconda3\\lib\\site-packages\\sklearn\\neighbors\\_classification.py:228: FutureWarning: Unlike other reduction functions (e.g. `skew`, `kurtosis`), the default behavior of `mode` typically preserves the axis it acts along. In SciPy 1.11.0, this behavior will change: the default value of `keepdims` will become False, the `axis` over which the statistic is taken will be eliminated, and the value None will no longer be accepted. Set `keepdims` to True or False to avoid this warning.\n",
      "  mode, _ = stats.mode(_y[neigh_ind, k], axis=1)\n",
      "C:\\Users\\USER\\anaconda3\\lib\\site-packages\\sklearn\\neighbors\\_classification.py:228: FutureWarning: Unlike other reduction functions (e.g. `skew`, `kurtosis`), the default behavior of `mode` typically preserves the axis it acts along. In SciPy 1.11.0, this behavior will change: the default value of `keepdims` will become False, the `axis` over which the statistic is taken will be eliminated, and the value None will no longer be accepted. Set `keepdims` to True or False to avoid this warning.\n",
      "  mode, _ = stats.mode(_y[neigh_ind, k], axis=1)\n",
      "C:\\Users\\USER\\anaconda3\\lib\\site-packages\\sklearn\\neighbors\\_classification.py:228: FutureWarning: Unlike other reduction functions (e.g. `skew`, `kurtosis`), the default behavior of `mode` typically preserves the axis it acts along. In SciPy 1.11.0, this behavior will change: the default value of `keepdims` will become False, the `axis` over which the statistic is taken will be eliminated, and the value None will no longer be accepted. Set `keepdims` to True or False to avoid this warning.\n",
      "  mode, _ = stats.mode(_y[neigh_ind, k], axis=1)\n",
      "C:\\Users\\USER\\anaconda3\\lib\\site-packages\\sklearn\\neighbors\\_classification.py:228: FutureWarning: Unlike other reduction functions (e.g. `skew`, `kurtosis`), the default behavior of `mode` typically preserves the axis it acts along. In SciPy 1.11.0, this behavior will change: the default value of `keepdims` will become False, the `axis` over which the statistic is taken will be eliminated, and the value None will no longer be accepted. Set `keepdims` to True or False to avoid this warning.\n",
      "  mode, _ = stats.mode(_y[neigh_ind, k], axis=1)\n"
     ]
    }
   ],
   "source": [
    "params = {'n_neighbors':[3,5,7,9,11],\n",
    "          'weights':['uniform', 'distance'],\n",
    "          'p':[1,2,3]}\n",
    "\n",
    "knn2 = KNeighborsClassifier()\n",
    "grid_search = GridSearchCV(knn2, params, cv=5, scoring='accuracy')\n",
    "grid_search.fit(XT, y_train)"
   ]
  },
  {
   "cell_type": "code",
   "execution_count": null,
   "id": "13ff5f81",
   "metadata": {},
   "outputs": [],
   "source": [
    "print(\"Best parameters found: \", grid_search.best_params_)\n",
    "print(\"Best score: \", grid_search.best_score_)"
   ]
  },
  {
   "cell_type": "code",
   "execution_count": null,
   "id": "4f367c1e",
   "metadata": {},
   "outputs": [],
   "source": [
    "yhat_knn = grid_search.best_score_.predict(X2)\n",
    "precision, recall, f_beta, support = metrics.precision_recall_fscore_support(y_test, yhat_knn, beta=5, pos_label=1, average='macro')\n",
    "auc = metrics.roc_auc_score(y_test, yhat_knn)\n",
    "accuracy = metrics.accuracy_score(y_test, yhat_knn)\n",
    "print(f\"Accuracy is: {accuracy:.2f}\")\n",
    "print(f\"Precision is: {precision:.2f}\")\n",
    "print(f\"Recall is: {recall:.2f}\")\n",
    "print(f\"Fscore is: {f_beta:.2f}\")\n",
    "print(f\"AUC is: {auc:.2f}\")"
   ]
  },
  {
   "cell_type": "code",
   "execution_count": null,
   "id": "a9cf69f4",
   "metadata": {},
   "outputs": [],
   "source": [
    "pred_knn = grid_search.best_score_.predict(test_main)\n",
    "df_id = pd.DataFrame({'id':test['id']})\n",
    "df_knn = pd.DataFrame(pred_knn,columns=['target'])  \n",
    "df_knn = pd.concat([df_id, df_knn],axis=1)\n",
    "df_knn.head()"
   ]
  },
  {
   "cell_type": "code",
   "execution_count": null,
   "id": "598b5de0",
   "metadata": {},
   "outputs": [],
   "source": []
  },
  {
   "cell_type": "code",
   "execution_count": null,
   "id": "a181f704",
   "metadata": {},
   "outputs": [],
   "source": []
  },
  {
   "cell_type": "code",
   "execution_count": null,
   "id": "55e692ff",
   "metadata": {},
   "outputs": [],
   "source": []
  },
  {
   "cell_type": "code",
   "execution_count": null,
   "id": "9c866715",
   "metadata": {},
   "outputs": [],
   "source": []
  },
  {
   "cell_type": "code",
   "execution_count": null,
   "id": "b5487e72",
   "metadata": {},
   "outputs": [],
   "source": []
  },
  {
   "cell_type": "markdown",
   "id": "9819e710",
   "metadata": {},
   "source": [
    "### Gridsearch on RandomForest"
   ]
  },
  {
   "cell_type": "code",
   "execution_count": null,
   "id": "e64728f5",
   "metadata": {},
   "outputs": [],
   "source": [
    "param_grid = {\n",
    "    'max_features': [1, 2, 3, 4, 5],\n",
    "    'min_samples_leaf': [4, 5, 6,7],\n",
    "    'min_samples_split': [2,8, 10],\n",
    "    'n_estimators': [50, 100, 200]}"
   ]
  },
  {
   "cell_type": "code",
   "execution_count": null,
   "id": "0d222f40",
   "metadata": {},
   "outputs": [],
   "source": [
    "rf = RandomForestClassifier()\n",
    "grid_search = GridSearchCV(estimator = rf, param_grid = param_grid, \n",
    "                          cv = 5)\n",
    "grid_search.fit(XT, y_train)"
   ]
  },
  {
   "cell_type": "code",
   "execution_count": null,
   "id": "2dfece6b",
   "metadata": {},
   "outputs": [],
   "source": [
    "print(\"Best parameters found: \", grid_search.best_params_)\n",
    "print(\"Best score: \", grid_search.best_score_)"
   ]
  },
  {
   "cell_type": "code",
   "execution_count": null,
   "id": "64b2f874",
   "metadata": {},
   "outputs": [],
   "source": [
    "yhat_rf = grid_search.best_score_.predict(X2)\n",
    "precision, recall, f_beta, support = metrics.precision_recall_fscore_support(y_test, yhat_rf, beta=5, pos_label=1, average='macro')\n",
    "auc = metrics.roc_auc_score(y_test, yhat_rf)\n",
    "accuracy = metrics.accuracy_score(y_test, yhat_rf)\n",
    "print(f\"Accuracy is: {accuracy:.2f}\")\n",
    "print(f\"Precision is: {precision:.2f}\")\n",
    "print(f\"Recall is: {recall:.2f}\")\n",
    "print(f\"Fscore is: {f_beta:.2f}\")\n",
    "print(f\"AUC is: {auc:.2f}\")"
   ]
  },
  {
   "cell_type": "markdown",
   "id": "069b2136",
   "metadata": {},
   "source": [
    "### Using XGBCLASSIFIER"
   ]
  },
  {
   "cell_type": "code",
   "execution_count": 26,
   "id": "9e4afeb9",
   "metadata": {},
   "outputs": [],
   "source": [
    "from xgboost import XGBClassifier"
   ]
  },
  {
   "cell_type": "code",
   "execution_count": 36,
   "id": "a892df74",
   "metadata": {},
   "outputs": [
    {
     "data": {
      "text/plain": [
       "XGBClassifier(base_score=None, booster=None, callbacks=None,\n",
       "              colsample_bylevel=None, colsample_bynode=None,\n",
       "              colsample_bytree=None, early_stopping_rounds=None,\n",
       "              enable_categorical=False, eval_metric=None, feature_types=None,\n",
       "              gamma=None, gpu_id=None, grow_policy=None, importance_type=None,\n",
       "              interaction_constraints=None, learning_rate=None, max_bin=None,\n",
       "              max_cat_threshold=None, max_cat_to_onehot=None,\n",
       "              max_delta_step=None, max_depth=None, max_leaves=None,\n",
       "              min_child_weight=None, missing=nan, monotone_constraints=None,\n",
       "              n_estimators=100, n_jobs=None, num_parallel_tree=None,\n",
       "              predictor=None, random_state=None, ...)"
      ]
     },
     "execution_count": 36,
     "metadata": {},
     "output_type": "execute_result"
    }
   ],
   "source": [
    "xgb = XGBClassifier()\n",
    "xgb.fit(XT, y_train)"
   ]
  },
  {
   "cell_type": "code",
   "execution_count": 37,
   "id": "6131751e",
   "metadata": {},
   "outputs": [
    {
     "name": "stdout",
     "output_type": "stream",
     "text": [
      "Accuracy is: 0.79\n",
      "Precision is: 0.81\n",
      "Recall is: 0.76\n",
      "Fscore is: 0.76\n",
      "AUC is: 0.76\n"
     ]
    }
   ],
   "source": [
    "yhat_xgb = xgb.predict(X2)\n",
    "precision, recall, f_beta, support = metrics.precision_recall_fscore_support(y_test, yhat_xgb, beta=5, pos_label=1, average='macro')\n",
    "auc = metrics.roc_auc_score(y_test, yhat_xgb)\n",
    "accuracy = metrics.accuracy_score(y_test, yhat_xgb)\n",
    "print(f\"Accuracy is: {accuracy:.2f}\")\n",
    "print(f\"Precision is: {precision:.2f}\")\n",
    "print(f\"Recall is: {recall:.2f}\")\n",
    "print(f\"Fscore is: {f_beta:.2f}\")\n",
    "print(f\"AUC is: {auc:.2f}\")"
   ]
  },
  {
   "cell_type": "code",
   "execution_count": 38,
   "id": "2076dfa8",
   "metadata": {},
   "outputs": [
    {
     "data": {
      "text/html": [
       "<div>\n",
       "<style scoped>\n",
       "    .dataframe tbody tr th:only-of-type {\n",
       "        vertical-align: middle;\n",
       "    }\n",
       "\n",
       "    .dataframe tbody tr th {\n",
       "        vertical-align: top;\n",
       "    }\n",
       "\n",
       "    .dataframe thead th {\n",
       "        text-align: right;\n",
       "    }\n",
       "</style>\n",
       "<table border=\"1\" class=\"dataframe\">\n",
       "  <thead>\n",
       "    <tr style=\"text-align: right;\">\n",
       "      <th></th>\n",
       "      <th>id</th>\n",
       "      <th>target</th>\n",
       "    </tr>\n",
       "  </thead>\n",
       "  <tbody>\n",
       "    <tr>\n",
       "      <th>0</th>\n",
       "      <td>0</td>\n",
       "      <td>1</td>\n",
       "    </tr>\n",
       "    <tr>\n",
       "      <th>1</th>\n",
       "      <td>2</td>\n",
       "      <td>1</td>\n",
       "    </tr>\n",
       "    <tr>\n",
       "      <th>2</th>\n",
       "      <td>3</td>\n",
       "      <td>1</td>\n",
       "    </tr>\n",
       "    <tr>\n",
       "      <th>3</th>\n",
       "      <td>9</td>\n",
       "      <td>1</td>\n",
       "    </tr>\n",
       "    <tr>\n",
       "      <th>4</th>\n",
       "      <td>11</td>\n",
       "      <td>1</td>\n",
       "    </tr>\n",
       "  </tbody>\n",
       "</table>\n",
       "</div>"
      ],
      "text/plain": [
       "   id  target\n",
       "0   0       1\n",
       "1   2       1\n",
       "2   3       1\n",
       "3   9       1\n",
       "4  11       1"
      ]
     },
     "execution_count": 38,
     "metadata": {},
     "output_type": "execute_result"
    }
   ],
   "source": [
    "pred_xgb = xgb.predict(test_main)\n",
    "df_id = pd.DataFrame({'id':test['id']})\n",
    "df_xgb = pd.DataFrame(pred_xgb,columns=['target'])  \n",
    "df_xgb = pd.concat([df_id, df_xgb],axis=1)\n",
    "df_xgb.head()"
   ]
  },
  {
   "cell_type": "code",
   "execution_count": 36,
   "id": "99a61f51",
   "metadata": {},
   "outputs": [],
   "source": [
    "df_xgb.to_csv('target_xgb.csv', index=False) #to be submitted 6th may"
   ]
  },
  {
   "cell_type": "markdown",
   "id": "c9ed3705",
   "metadata": {},
   "source": [
    "### lets do hyper parameter search"
   ]
  },
  {
   "cell_type": "code",
   "execution_count": 171,
   "id": "ed94f90e",
   "metadata": {},
   "outputs": [
    {
     "name": "stdout",
     "output_type": "stream",
     "text": [
      "Alpha:  0.0\n",
      "Score:  0.7715336134453782\n",
      "\n",
      "Alpha:  0.1\n",
      "Score:  0.7972689075630253\n",
      "\n",
      "Alpha:  0.2\n",
      "Score:  0.8019957983193278\n",
      "\n",
      "Alpha:  0.30000000000000004\n",
      "Score:  0.803046218487395\n",
      "\n",
      "Alpha:  0.4\n",
      "Score:  0.8067226890756303\n",
      "\n",
      "Alpha:  0.5\n",
      "Score:  0.8109243697478992\n",
      "\n",
      "Alpha:  0.6000000000000001\n",
      "Score:  0.8125\n",
      "\n",
      "Alpha:  0.7000000000000001\n",
      "Score:  0.8125\n",
      "\n",
      "Alpha:  0.8\n",
      "Score:  0.8130252100840336\n",
      "\n",
      "Alpha:  0.9\n",
      "Score:  0.8125\n",
      "\n"
     ]
    },
    {
     "name": "stderr",
     "output_type": "stream",
     "text": [
      "C:\\Users\\USER\\anaconda3\\lib\\site-packages\\sklearn\\naive_bayes.py:555: UserWarning: alpha too small will result in numeric errors, setting alpha = 1.0e-10\n",
      "  warnings.warn(\n"
     ]
    }
   ],
   "source": [
    "# Create the list of alphas: alphas\n",
    "alphas = np.arange(0, 1, .1)\n",
    "\n",
    "# Define train_and_predict()\n",
    "def train_and_predict(alpha):\n",
    "    # Instantiate the classifier: nb_classifier\n",
    "    nb_classifier = MultinomialNB(alpha=alpha)\n",
    "    # Fit to the training data\n",
    "    nb_classifier.fit(bow_train, y_train)\n",
    "    # Predict the labels: pred\n",
    "    pred = nb_classifier.predict(bow_test)\n",
    "    # Compute accuracy: score\n",
    "    score = metrics.accuracy_score(y_test, pred)\n",
    "    return score\n",
    "\n",
    "# Iterate over the alphas and print the corresponding score\n",
    "for alpha in alphas:\n",
    "    print('Alpha: ', alpha)\n",
    "    print('Score: ', train_and_predict(alpha))\n",
    "    print()"
   ]
  },
  {
   "cell_type": "code",
   "execution_count": 39,
   "id": "0d745ea2",
   "metadata": {},
   "outputs": [],
   "source": [
    "vec2 = CountVectorizer(strip_accents='ascii', stop_words='english', lowercase=True)\n",
    "bow_train2 = vec2.fit_transform(X_train)\n",
    "bow_test2 = vec2.transform(X_test)\n",
    "test3 = vec2.transform(test2)"
   ]
  },
  {
   "cell_type": "code",
   "execution_count": 40,
   "id": "c2d4edc1",
   "metadata": {},
   "outputs": [
    {
     "data": {
      "text/plain": [
       "MultinomialNB(alpha=0.6)"
      ]
     },
     "execution_count": 40,
     "metadata": {},
     "output_type": "execute_result"
    }
   ],
   "source": [
    "model2 = MultinomialNB(alpha=0.6)\n",
    "model2.fit(bow_train2, y_train)"
   ]
  },
  {
   "cell_type": "code",
   "execution_count": 41,
   "id": "f22f5213",
   "metadata": {},
   "outputs": [
    {
     "data": {
      "text/plain": [
       "0.8125"
      ]
     },
     "execution_count": 41,
     "metadata": {},
     "output_type": "execute_result"
    }
   ],
   "source": [
    "yhat2 = model2.predict(bow_test2)\n",
    "metrics.accuracy_score(y_test, yhat2)"
   ]
  },
  {
   "cell_type": "markdown",
   "id": "fd8f2b68",
   "metadata": {},
   "source": [
    "## Lets use TfidfVectorizer"
   ]
  },
  {
   "cell_type": "code",
   "execution_count": 42,
   "id": "21f05496",
   "metadata": {},
   "outputs": [
    {
     "name": "stdout",
     "output_type": "stream",
     "text": [
      "['aa' 'aaaa' 'aaaaaaallll' 'aaaaaand' 'aaarrrgghhh' 'aannnnd' 'aar'\n",
      " 'aashiqui' 'ab' 'aba']\n"
     ]
    }
   ],
   "source": [
    "# Initialize a TfidfVectorizer object: tfidf_vectorizer\n",
    "tfidf_vec = TfidfVectorizer(stop_words=\"english\", max_df=0.7)\n",
    "\n",
    "# Transform the training data: tfidf_train \n",
    "tfidf_train = tfidf_vec.fit_transform(X_train.values)\n",
    "\n",
    "# Transform the test data: tfidf_test \n",
    "tfidf_test = tfidf_vec.transform(X_test.values)\n",
    "\n",
    "# Print the first 10 features\n",
    "print(tfidf_vec.get_feature_names_out()[:10])"
   ]
  },
  {
   "cell_type": "code",
   "execution_count": 46,
   "id": "0022e505",
   "metadata": {},
   "outputs": [
    {
     "data": {
      "text/plain": [
       "array([[0., 0., 0., ..., 0., 0., 0.],\n",
       "       [0., 0., 0., ..., 0., 0., 0.],\n",
       "       [0., 0., 0., ..., 0., 0., 0.],\n",
       "       [0., 0., 0., ..., 0., 0., 0.],\n",
       "       [0., 0., 0., ..., 0., 0., 0.]])"
      ]
     },
     "execution_count": 46,
     "metadata": {},
     "output_type": "execute_result"
    }
   ],
   "source": [
    "tfidf_train.A[:5]"
   ]
  },
  {
   "cell_type": "code",
   "execution_count": 47,
   "id": "e3566e3e",
   "metadata": {},
   "outputs": [
    {
     "data": {
      "text/html": [
       "<div>\n",
       "<style scoped>\n",
       "    .dataframe tbody tr th:only-of-type {\n",
       "        vertical-align: middle;\n",
       "    }\n",
       "\n",
       "    .dataframe tbody tr th {\n",
       "        vertical-align: top;\n",
       "    }\n",
       "\n",
       "    .dataframe thead th {\n",
       "        text-align: right;\n",
       "    }\n",
       "</style>\n",
       "<table border=\"1\" class=\"dataframe\">\n",
       "  <thead>\n",
       "    <tr style=\"text-align: right;\">\n",
       "      <th></th>\n",
       "      <th>aa</th>\n",
       "      <th>aaaa</th>\n",
       "      <th>aaaaaaallll</th>\n",
       "      <th>aaaaaand</th>\n",
       "      <th>aaarrrgghhh</th>\n",
       "      <th>aannnnd</th>\n",
       "      <th>aar</th>\n",
       "      <th>aashiqui</th>\n",
       "      <th>ab</th>\n",
       "      <th>aba</th>\n",
       "      <th>...</th>\n",
       "      <th>zumiez</th>\n",
       "      <th>zurich</th>\n",
       "      <th>zzzz</th>\n",
       "      <th>åç</th>\n",
       "      <th>åè</th>\n",
       "      <th>åèmgn</th>\n",
       "      <th>åê</th>\n",
       "      <th>åêfedex</th>\n",
       "      <th>åêi</th>\n",
       "      <th>ìñ</th>\n",
       "    </tr>\n",
       "  </thead>\n",
       "  <tbody>\n",
       "    <tr>\n",
       "      <th>0</th>\n",
       "      <td>0.0</td>\n",
       "      <td>0.0</td>\n",
       "      <td>0.0</td>\n",
       "      <td>0.0</td>\n",
       "      <td>0.0</td>\n",
       "      <td>0.0</td>\n",
       "      <td>0.0</td>\n",
       "      <td>0.0</td>\n",
       "      <td>0.0</td>\n",
       "      <td>0.0</td>\n",
       "      <td>...</td>\n",
       "      <td>0.0</td>\n",
       "      <td>0.0</td>\n",
       "      <td>0.0</td>\n",
       "      <td>0.0</td>\n",
       "      <td>0.0</td>\n",
       "      <td>0.0</td>\n",
       "      <td>0.0</td>\n",
       "      <td>0.0</td>\n",
       "      <td>0.0</td>\n",
       "      <td>0.0</td>\n",
       "    </tr>\n",
       "    <tr>\n",
       "      <th>1</th>\n",
       "      <td>0.0</td>\n",
       "      <td>0.0</td>\n",
       "      <td>0.0</td>\n",
       "      <td>0.0</td>\n",
       "      <td>0.0</td>\n",
       "      <td>0.0</td>\n",
       "      <td>0.0</td>\n",
       "      <td>0.0</td>\n",
       "      <td>0.0</td>\n",
       "      <td>0.0</td>\n",
       "      <td>...</td>\n",
       "      <td>0.0</td>\n",
       "      <td>0.0</td>\n",
       "      <td>0.0</td>\n",
       "      <td>0.0</td>\n",
       "      <td>0.0</td>\n",
       "      <td>0.0</td>\n",
       "      <td>0.0</td>\n",
       "      <td>0.0</td>\n",
       "      <td>0.0</td>\n",
       "      <td>0.0</td>\n",
       "    </tr>\n",
       "    <tr>\n",
       "      <th>2</th>\n",
       "      <td>0.0</td>\n",
       "      <td>0.0</td>\n",
       "      <td>0.0</td>\n",
       "      <td>0.0</td>\n",
       "      <td>0.0</td>\n",
       "      <td>0.0</td>\n",
       "      <td>0.0</td>\n",
       "      <td>0.0</td>\n",
       "      <td>0.0</td>\n",
       "      <td>0.0</td>\n",
       "      <td>...</td>\n",
       "      <td>0.0</td>\n",
       "      <td>0.0</td>\n",
       "      <td>0.0</td>\n",
       "      <td>0.0</td>\n",
       "      <td>0.0</td>\n",
       "      <td>0.0</td>\n",
       "      <td>0.0</td>\n",
       "      <td>0.0</td>\n",
       "      <td>0.0</td>\n",
       "      <td>0.0</td>\n",
       "    </tr>\n",
       "    <tr>\n",
       "      <th>3</th>\n",
       "      <td>0.0</td>\n",
       "      <td>0.0</td>\n",
       "      <td>0.0</td>\n",
       "      <td>0.0</td>\n",
       "      <td>0.0</td>\n",
       "      <td>0.0</td>\n",
       "      <td>0.0</td>\n",
       "      <td>0.0</td>\n",
       "      <td>0.0</td>\n",
       "      <td>0.0</td>\n",
       "      <td>...</td>\n",
       "      <td>0.0</td>\n",
       "      <td>0.0</td>\n",
       "      <td>0.0</td>\n",
       "      <td>0.0</td>\n",
       "      <td>0.0</td>\n",
       "      <td>0.0</td>\n",
       "      <td>0.0</td>\n",
       "      <td>0.0</td>\n",
       "      <td>0.0</td>\n",
       "      <td>0.0</td>\n",
       "    </tr>\n",
       "    <tr>\n",
       "      <th>4</th>\n",
       "      <td>0.0</td>\n",
       "      <td>0.0</td>\n",
       "      <td>0.0</td>\n",
       "      <td>0.0</td>\n",
       "      <td>0.0</td>\n",
       "      <td>0.0</td>\n",
       "      <td>0.0</td>\n",
       "      <td>0.0</td>\n",
       "      <td>0.0</td>\n",
       "      <td>0.0</td>\n",
       "      <td>...</td>\n",
       "      <td>0.0</td>\n",
       "      <td>0.0</td>\n",
       "      <td>0.0</td>\n",
       "      <td>0.0</td>\n",
       "      <td>0.0</td>\n",
       "      <td>0.0</td>\n",
       "      <td>0.0</td>\n",
       "      <td>0.0</td>\n",
       "      <td>0.0</td>\n",
       "      <td>0.0</td>\n",
       "    </tr>\n",
       "  </tbody>\n",
       "</table>\n",
       "<p>5 rows × 10006 columns</p>\n",
       "</div>"
      ],
      "text/plain": [
       "    aa  aaaa  aaaaaaallll  aaaaaand  aaarrrgghhh  aannnnd  aar  aashiqui   ab   \n",
       "0  0.0   0.0          0.0       0.0          0.0      0.0  0.0       0.0  0.0  \\\n",
       "1  0.0   0.0          0.0       0.0          0.0      0.0  0.0       0.0  0.0   \n",
       "2  0.0   0.0          0.0       0.0          0.0      0.0  0.0       0.0  0.0   \n",
       "3  0.0   0.0          0.0       0.0          0.0      0.0  0.0       0.0  0.0   \n",
       "4  0.0   0.0          0.0       0.0          0.0      0.0  0.0       0.0  0.0   \n",
       "\n",
       "   aba  ...  zumiez  zurich  zzzz   åç   åè  åèmgn   åê  åêfedex  åêi   ìñ  \n",
       "0  0.0  ...     0.0     0.0   0.0  0.0  0.0    0.0  0.0      0.0  0.0  0.0  \n",
       "1  0.0  ...     0.0     0.0   0.0  0.0  0.0    0.0  0.0      0.0  0.0  0.0  \n",
       "2  0.0  ...     0.0     0.0   0.0  0.0  0.0    0.0  0.0      0.0  0.0  0.0  \n",
       "3  0.0  ...     0.0     0.0   0.0  0.0  0.0    0.0  0.0      0.0  0.0  0.0  \n",
       "4  0.0  ...     0.0     0.0   0.0  0.0  0.0    0.0  0.0      0.0  0.0  0.0  \n",
       "\n",
       "[5 rows x 10006 columns]"
      ]
     },
     "execution_count": 47,
     "metadata": {},
     "output_type": "execute_result"
    }
   ],
   "source": [
    "# Create the TfidfVectorizer DataFrame: tfidf_df\n",
    "tfidf_df = pd.DataFrame(tfidf_train.A, columns=tfidf_vec.get_feature_names_out())\n",
    "tfidf_df.head()"
   ]
  },
  {
   "cell_type": "code",
   "execution_count": 48,
   "id": "9dc514fd",
   "metadata": {},
   "outputs": [
    {
     "data": {
      "text/plain": [
       "MultinomialNB()"
      ]
     },
     "execution_count": 48,
     "metadata": {},
     "output_type": "execute_result"
    }
   ],
   "source": [
    "nb_classifier = MultinomialNB()\n",
    "nb_classifier.fit(tfidf_train, y_train)"
   ]
  },
  {
   "cell_type": "code",
   "execution_count": 49,
   "id": "f44dd166",
   "metadata": {},
   "outputs": [
    {
     "data": {
      "text/plain": [
       "0.8119747899159664"
      ]
     },
     "execution_count": 49,
     "metadata": {},
     "output_type": "execute_result"
    }
   ],
   "source": [
    "pred1 = nb_classifier.predict(tfidf_test)\n",
    "metrics.accuracy_score(y_test, pred1)"
   ]
  },
  {
   "cell_type": "code",
   "execution_count": 50,
   "id": "5b54f56c",
   "metadata": {},
   "outputs": [
    {
     "data": {
      "image/png": "[encoded data removed]",
      "text/plain": [
       "<Figure size 640x480 with 2 Axes>"
      ]
     },
     "metadata": {},
     "output_type": "display_data"
    }
   ],
   "source": [
    "cm_cv = metrics.confusion_matrix(y_test, pred1)\n",
    "cm_display = metrics.ConfusionMatrixDisplay(confusion_matrix=cm_cv, display_labels=[0,1])\n",
    "cm_display.plot()\n",
    "plt.show()"
   ]
  },
  {
   "cell_type": "code",
   "execution_count": 51,
   "id": "afdb9a4d",
   "metadata": {},
   "outputs": [],
   "source": [
    "test4 = tfidf_vec.transform(test2)"
   ]
  },
  {
   "cell_type": "code",
   "execution_count": 52,
   "id": "3a3d866a",
   "metadata": {},
   "outputs": [
    {
     "data": {
      "text/html": [
       "<div>\n",
       "<style scoped>\n",
       "    .dataframe tbody tr th:only-of-type {\n",
       "        vertical-align: middle;\n",
       "    }\n",
       "\n",
       "    .dataframe tbody tr th {\n",
       "        vertical-align: top;\n",
       "    }\n",
       "\n",
       "    .dataframe thead th {\n",
       "        text-align: right;\n",
       "    }\n",
       "</style>\n",
       "<table border=\"1\" class=\"dataframe\">\n",
       "  <thead>\n",
       "    <tr style=\"text-align: right;\">\n",
       "      <th></th>\n",
       "      <th>id</th>\n",
       "      <th>target</th>\n",
       "    </tr>\n",
       "  </thead>\n",
       "  <tbody>\n",
       "    <tr>\n",
       "      <th>0</th>\n",
       "      <td>0</td>\n",
       "      <td>0</td>\n",
       "    </tr>\n",
       "    <tr>\n",
       "      <th>1</th>\n",
       "      <td>2</td>\n",
       "      <td>1</td>\n",
       "    </tr>\n",
       "    <tr>\n",
       "      <th>2</th>\n",
       "      <td>3</td>\n",
       "      <td>1</td>\n",
       "    </tr>\n",
       "    <tr>\n",
       "      <th>3</th>\n",
       "      <td>9</td>\n",
       "      <td>1</td>\n",
       "    </tr>\n",
       "    <tr>\n",
       "      <th>4</th>\n",
       "      <td>11</td>\n",
       "      <td>1</td>\n",
       "    </tr>\n",
       "  </tbody>\n",
       "</table>\n",
       "</div>"
      ],
      "text/plain": [
       "   id  target\n",
       "0   0       0\n",
       "1   2       1\n",
       "2   3       1\n",
       "3   9       1\n",
       "4  11       1"
      ]
     },
     "execution_count": 52,
     "metadata": {},
     "output_type": "execute_result"
    }
   ],
   "source": [
    "predtf = nb_classifier.predict(test4)\n",
    "df_id = pd.DataFrame({'id':test['id']})\n",
    "df_tf = pd.DataFrame(predtf,columns=['target'])  \n",
    "df_tf = pd.concat([df_id, df_tf],axis=1)\n",
    "df_tf.head()"
   ]
  },
  {
   "cell_type": "code",
   "execution_count": 183,
   "id": "e820768e",
   "metadata": {},
   "outputs": [],
   "source": [
    "df_tf.to_csv('target_tfid.csv', index=False)"
   ]
  },
  {
   "cell_type": "markdown",
   "id": "182fc89a",
   "metadata": {},
   "source": [
    "## BERTFinetuning"
   ]
  },
  {
   "cell_type": "code",
   "execution_count": 26,
   "id": "da4032fe",
   "metadata": {},
   "outputs": [],
   "source": [
    "train_text, temp_text, train_labels, temp_labels = train_test_split(X, y, \n",
    "                                                                    random_state = 2021, \n",
    "                                                                    test_size = 0.3, \n",
    "                                                                    stratify = y)\n",
    "  \n",
    "val_text, test_text, val_labels, test_labels = train_test_split(temp_text, temp_labels, \n",
    "                                                                random_state = 2021, \n",
    "                                                                test_size = 0.5, \n",
    "                                                                stratify = temp_labels)"
   ]
  },
  {
   "cell_type": "code",
   "execution_count": 27,
   "id": "11ab301d",
   "metadata": {},
   "outputs": [
    {
     "name": "stderr",
     "output_type": "stream",
     "text": [
      "Some weights of the model checkpoint at bert-base-uncased were not used when initializing BertModel: ['cls.seq_relationship.bias', 'cls.predictions.bias', 'cls.predictions.transform.dense.weight', 'cls.predictions.transform.LayerNorm.weight', 'cls.seq_relationship.weight', 'cls.predictions.transform.dense.bias', 'cls.predictions.decoder.weight', 'cls.predictions.transform.LayerNorm.bias']\n",
      "- This IS expected if you are initializing BertModel from the checkpoint of a model trained on another task or with another architecture (e.g. initializing a BertForSequenceClassification model from a BertForPreTraining model).\n",
      "- This IS NOT expected if you are initializing BertModel from the checkpoint of a model that you expect to be exactly identical (initializing a BertForSequenceClassification model from a BertForSequenceClassification model).\n"
     ]
    }
   ],
   "source": [
    "# import BERT-base pretrained model\n",
    "bert = AutoModel.from_pretrained('bert-base-uncased')"
   ]
  },
  {
   "cell_type": "code",
   "execution_count": 28,
   "id": "7e15c7b3",
   "metadata": {},
   "outputs": [],
   "source": [
    "#load model and tokenizer\n",
    "tokenizer = BertTokenizerFast.from_pretrained('bert-base-uncased')"
   ]
  },
  {
   "cell_type": "code",
   "execution_count": 29,
   "id": "d830a2c7",
   "metadata": {},
   "outputs": [
    {
     "data": {
      "text/plain": [
       "(array([ 240.,  562.,  948., 1208., 1045.,  815.,  381.,  102.,   25.,\n",
       "           3.]),\n",
       " array([ 0. ,  2.1,  4.2,  6.3,  8.4, 10.5, 12.6, 14.7, 16.8, 18.9, 21. ]),\n",
       " <BarContainer object of 10 artists>)"
      ]
     },
     "execution_count": 29,
     "metadata": {},
     "output_type": "execute_result"
    },
    {
     "data": {
      "image/png": "[encoded data removed]",
      "text/plain": [
       "<Figure size 640x480 with 1 Axes>"
      ]
     },
     "metadata": {},
     "output_type": "display_data"
    }
   ],
   "source": [
    "train_lens = [len(i.split()) for i in train_text]\n",
    "plt.hist(train_lens)"
   ]
  },
  {
   "cell_type": "code",
   "execution_count": 30,
   "id": "b35229ec",
   "metadata": {},
   "outputs": [],
   "source": [
    "pad_len = 11\n",
    "# tokenize and encode sequences \n",
    "tokens_train = tokenizer.batch_encode_plus(\n",
    "    train_text.tolist(),\n",
    "    max_length = pad_len,\n",
    "    padding = True,\n",
    "    truncation = True\n",
    ")\n",
    "  \n",
    "tokens_val = tokenizer.batch_encode_plus(\n",
    "    val_text.tolist(),\n",
    "    max_length = pad_len,\n",
    "    padding = True,\n",
    "    truncation = True\n",
    ")\n",
    "  \n",
    "tokens_test = tokenizer.batch_encode_plus(\n",
    "    test_text.tolist(),\n",
    "    max_length = pad_len,\n",
    "    padding = True,\n",
    "    truncation = True\n",
    ")\n",
    "  \n",
    "train_seq = torch.tensor(tokens_train['input_ids'])\n",
    "train_mask = torch.tensor(tokens_train['attention_mask'])\n",
    "train_y = torch.tensor(train_labels.tolist())\n",
    "  \n",
    "val_seq = torch.tensor(tokens_val['input_ids'])\n",
    "val_mask = torch.tensor(tokens_val['attention_mask'])\n",
    "val_y = torch.tensor(val_labels.tolist())\n",
    "  \n",
    "test_seq = torch.tensor(tokens_test['input_ids'])\n",
    "test_mask = torch.tensor(tokens_test['attention_mask'])\n",
    "test_y = torch.tensor(test_labels.tolist())"
   ]
  },
  {
   "cell_type": "code",
   "execution_count": 31,
   "id": "90c17451",
   "metadata": {},
   "outputs": [],
   "source": [
    "from torch.utils.data import TensorDataset, DataLoader, RandomSampler, SequentialSampler\n",
    "\n",
    "#define a batch size\n",
    "batch_size = 64\n",
    "\n",
    "# wrap tensors\n",
    "train_data = TensorDataset(train_seq, train_mask, train_y)\n",
    "\n",
    "# sampler for sampling the data during training\n",
    "train_sampler = RandomSampler(train_data)\n",
    "\n",
    "# dataLoader for train set\n",
    "train_dataloader = DataLoader(train_data, sampler=train_sampler, batch_size=batch_size)\n",
    "\n",
    "# wrap tensors\n",
    "val_data = TensorDataset(val_seq, val_mask, val_y)\n",
    "\n",
    "# sampler for sampling the data during training\n",
    "val_sampler = SequentialSampler(val_data)\n",
    "\n",
    "# dataLoader for validation set\n",
    "val_dataloader = DataLoader(val_data, sampler = val_sampler, batch_size=batch_size)"
   ]
  },
  {
   "cell_type": "code",
   "execution_count": 32,
   "id": "7b9fc558",
   "metadata": {},
   "outputs": [],
   "source": [
    "#freeze the pretrained layers\n",
    "for param in bert.parameters():\n",
    "    param.requires_grad = False\n",
    "  \n",
    "#defining new layers\n",
    "class BERT_architecture(nn.Module):\n",
    "  \n",
    "    def __init__(self, bert):\n",
    "        \n",
    "      super(BERT_architecture, self).__init__()\n",
    "  \n",
    "      self.bert = bert \n",
    "        \n",
    "      # dropout layer\n",
    "      self.dropout = nn.Dropout(0.2)\n",
    "        \n",
    "      # relu activation function\n",
    "      self.relu =  nn.ReLU()\n",
    "  \n",
    "      # dense layer 1\n",
    "      self.fc1 = nn.Linear(768,512)\n",
    "        \n",
    "      # dense layer 2 (Output layer)\n",
    "      self.fc2 = nn.Linear(512,2)\n",
    "  \n",
    "      #softmax activation function\n",
    "      self.softmax = nn.LogSoftmax(dim=1)\n",
    "  \n",
    "    #define the forward pass\n",
    "    def forward(self, sent_id, mask):\n",
    "  \n",
    "      #pass the inputs to the model  \n",
    "      _, cls_hs = self.bert(sent_id, attention_mask=mask, return_dict=False)\n",
    "        \n",
    "      x = self.fc1(cls_hs)\n",
    "  \n",
    "      x = self.relu(x)\n",
    "  \n",
    "      x = self.dropout(x)\n",
    "  \n",
    "      # output layer\n",
    "      x = self.fc2(x)\n",
    "        \n",
    "      # apply softmax activation\n",
    "      x = self.softmax(x)\n",
    "  \n",
    "      return x"
   ]
  },
  {
   "cell_type": "code",
   "execution_count": 35,
   "id": "8f56aa8c",
   "metadata": {},
   "outputs": [],
   "source": [
    "# pass the pre-trained BERT to our define architecture\n",
    "model = BERT_architecture(bert)\n",
    "\n",
    "# push the model to GPU\n",
    "model = model.to(device)"
   ]
  },
  {
   "cell_type": "code",
   "execution_count": 36,
   "id": "26456ebe",
   "metadata": {},
   "outputs": [
    {
     "name": "stderr",
     "output_type": "stream",
     "text": [
      "C:\\Users\\USER\\anaconda3\\lib\\site-packages\\transformers\\optimization.py:306: FutureWarning: This implementation of AdamW is deprecated and will be removed in a future version. Use the PyTorch implementation torch.optim.AdamW instead, or set `no_deprecation_warning=True` to disable this warning\n",
      "  warnings.warn(\n"
     ]
    }
   ],
   "source": [
    "# optimizer from hugging face transformers\n",
    "from transformers import AdamW\n",
    "\n",
    "# define the optimizer\n",
    "optimizer = AdamW(model.parameters(),lr = 1e-5)  # learning rate"
   ]
  },
  {
   "cell_type": "code",
   "execution_count": 37,
   "id": "23c2e3d2",
   "metadata": {},
   "outputs": [
    {
     "name": "stdout",
     "output_type": "stream",
     "text": [
      "class weights are [0.87676867 1.16353712] for [0 1]\n"
     ]
    }
   ],
   "source": [
    "from sklearn.utils.class_weight import compute_class_weight\n",
    "\n",
    "#compute the class weights\n",
    "class_weights = compute_class_weight(class_weight = \"balanced\",\n",
    "                                        classes = np.unique(train_labels),\n",
    "                                        y = train_labels \n",
    "                                     )\n",
    "print(\"class weights are {} for {}\".format(class_weights,np.unique(train_labels)))"
   ]
  },
  {
   "cell_type": "code",
   "execution_count": 38,
   "id": "25746fe0",
   "metadata": {},
   "outputs": [
    {
     "data": {
      "text/plain": [
       "target\n",
       "0    3039\n",
       "1    2290\n",
       "Name: count, dtype: int64"
      ]
     },
     "execution_count": 38,
     "metadata": {},
     "output_type": "execute_result"
    }
   ],
   "source": [
    "#count of both the categories of training labels\n",
    "pd.value_counts(train_labels)"
   ]
  },
  {
   "cell_type": "code",
   "execution_count": 39,
   "id": "f27ffcac",
   "metadata": {},
   "outputs": [],
   "source": [
    "#wrap class weights in tensor\n",
    "weights= torch.tensor(class_weights,dtype=torch.float)\n",
    "\n",
    "# push weights to GPU\n",
    "weights = weights.to(device)\n",
    "\n",
    "# define loss function\n",
    "# add weights to handle the \"imbalance\" in the dataset\n",
    "cross_entropy  = nn.NLLLoss(weight=weights) \n",
    "\n",
    "# number of training epochs\n",
    "epochs = 10\n",
    "     "
   ]
  },
  {
   "cell_type": "code",
   "execution_count": 40,
   "id": "1ff8cf37",
   "metadata": {},
   "outputs": [],
   "source": [
    "# function to train the model\n",
    "def train():\n",
    "  \n",
    "  model.train()\n",
    "\n",
    "  total_loss, total_accuracy = 0, 0\n",
    "  \n",
    "  # empty list to save model predictions\n",
    "  total_preds=[]\n",
    "  \n",
    "  # iterate over batches\n",
    "  for step,batch in enumerate(train_dataloader):\n",
    "    \n",
    "    # progress update after every 50 batches.\n",
    "    if step % 50 == 0 and not step == 0:\n",
    "      print('  Batch {:>5,}  of  {:>5,}.'.format(step, len(train_dataloader)))\n",
    "\n",
    "    # push the batch to gpu\n",
    "    batch = [r.to(device) for r in batch]\n",
    " \n",
    "    sent_id, mask, labels = batch\n",
    "\n",
    "    # clear previously calculated gradients \n",
    "    model.zero_grad()        \n",
    "\n",
    "    # get model predictions for the current batch\n",
    "    preds = model(sent_id, mask)\n",
    "\n",
    "    # compute the loss between actual and predicted values\n",
    "    loss = cross_entropy(preds, labels)\n",
    "\n",
    "    # add on to the total loss\n",
    "    total_loss = total_loss + loss.item()\n",
    "\n",
    "    # backward pass to calculate the gradients\n",
    "    loss.backward()\n",
    "\n",
    "    # clip the the gradients to 1.0. It helps in preventing the exploding gradient problem\n",
    "    torch.nn.utils.clip_grad_norm_(model.parameters(), 1.0)\n",
    "\n",
    "    # update parameters\n",
    "    optimizer.step()\n",
    "\n",
    "    # model predictions are stored on GPU. So, push it to CPU\n",
    "    preds=preds.detach().cpu().numpy()\n",
    "\n",
    "    # append the model predictions\n",
    "    total_preds.append(preds)\n",
    "\n",
    "  # compute the training loss of the epoch\n",
    "  avg_loss = total_loss / len(train_dataloader)\n",
    "  \n",
    "  # predictions are in the form of (no. of batches, size of batch, no. of classes).\n",
    "  # reshape the predictions in form of (number of samples, no. of classes)\n",
    "  total_preds  = np.concatenate(total_preds, axis=0)\n",
    "\n",
    "  #returns the loss and predictions\n",
    "  return avg_loss, total_preds"
   ]
  },
  {
   "cell_type": "code",
   "execution_count": 41,
   "id": "8f89ac1c",
   "metadata": {},
   "outputs": [],
   "source": [
    "# function for evaluating the model\n",
    "def evaluate():\n",
    "  \n",
    "  print(\"\\nEvaluating...\")\n",
    "  \n",
    "  # deactivate dropout layers\n",
    "  model.eval()\n",
    "\n",
    "  total_loss, total_accuracy = 0, 0\n",
    "  \n",
    "  # empty list to save the model predictions\n",
    "  total_preds = []\n",
    "\n",
    "  # iterate over batches\n",
    "  for step,batch in enumerate(val_dataloader):\n",
    "    \n",
    "    # Progress update every 50 batches.\n",
    "    if step % 50 == 0 and not step == 0:\n",
    "      \n",
    "      # # Calculate elapsed time in minutes.\n",
    "      # elapsed = format_time(time.time() - t0)\n",
    "            \n",
    "      # Report progress.\n",
    "      print('  Batch {:>5,}  of  {:>5,}.'.format(step, len(val_dataloader)))\n",
    "\n",
    "    # push the batch to gpu\n",
    "    batch = [t.to(device) for t in batch]\n",
    "\n",
    "    sent_id, mask, labels = batch\n",
    "\n",
    "    # deactivate autograd\n",
    "    with torch.no_grad():\n",
    "      \n",
    "      # model predictions\n",
    "      preds = model(sent_id, mask)\n",
    "\n",
    "      # compute the validation loss between actual and predicted values\n",
    "      loss = cross_entropy(preds,labels)\n",
    "\n",
    "      total_loss = total_loss + loss.item()\n",
    "\n",
    "      preds = preds.detach().cpu().numpy()\n",
    "\n",
    "      total_preds.append(preds)\n",
    "\n",
    "  # compute the validation loss of the epoch\n",
    "  avg_loss = total_loss / len(val_dataloader) \n",
    "\n",
    "  # reshape the predictions in form of (number of samples, no. of classes)\n",
    "  total_preds  = np.concatenate(total_preds, axis=0)\n",
    "\n",
    "  return avg_loss, total_preds"
   ]
  },
  {
   "cell_type": "code",
   "execution_count": 42,
   "id": "4cfbb5b3",
   "metadata": {},
   "outputs": [
    {
     "name": "stdout",
     "output_type": "stream",
     "text": [
      "\n",
      " Epoch 1 / 10\n",
      "  Batch    50  of     84.\n",
      "\n",
      "Evaluating...\n",
      "\n",
      "Training Loss: 0.6907715974819093\n",
      "Validation Loss: 0.6739249262544844\n",
      "\n",
      " Epoch 2 / 10\n",
      "  Batch    50  of     84.\n",
      "\n",
      "Evaluating...\n",
      "\n",
      "Training Loss: 0.6793463187558311\n",
      "Validation Loss: 0.6657498445775774\n",
      "\n",
      " Epoch 3 / 10\n",
      "  Batch    50  of     84.\n",
      "\n",
      "Evaluating...\n",
      "\n",
      "Training Loss: 0.6722390971013478\n",
      "Validation Loss: 0.6560892926322089\n",
      "\n",
      " Epoch 4 / 10\n",
      "  Batch    50  of     84.\n",
      "\n",
      "Evaluating...\n",
      "\n",
      "Training Loss: 0.6650897853431248\n",
      "Validation Loss: 0.6468167437447442\n",
      "\n",
      " Epoch 5 / 10\n",
      "  Batch    50  of     84.\n",
      "\n",
      "Evaluating...\n",
      "\n",
      "Training Loss: 0.6601143983148393\n",
      "Validation Loss: 0.6408714883857303\n",
      "\n",
      " Epoch 6 / 10\n",
      "  Batch    50  of     84.\n",
      "\n",
      "Evaluating...\n",
      "\n",
      "Training Loss: 0.653695862208094\n",
      "Validation Loss: 0.6335406833224826\n",
      "\n",
      " Epoch 7 / 10\n",
      "  Batch    50  of     84.\n",
      "\n",
      "Evaluating...\n",
      "\n",
      "Training Loss: 0.6483381504104251\n",
      "Validation Loss: 0.6268997755315568\n",
      "\n",
      " Epoch 8 / 10\n",
      "  Batch    50  of     84.\n",
      "\n",
      "Evaluating...\n",
      "\n",
      "Training Loss: 0.6465347309907278\n",
      "Validation Loss: 0.6202045546637641\n",
      "\n",
      " Epoch 9 / 10\n",
      "  Batch    50  of     84.\n",
      "\n",
      "Evaluating...\n",
      "\n",
      "Training Loss: 0.6401593110391072\n",
      "Validation Loss: 0.6146580808692508\n",
      "\n",
      " Epoch 10 / 10\n",
      "  Batch    50  of     84.\n",
      "\n",
      "Evaluating...\n",
      "\n",
      "Training Loss: 0.6359827646187374\n",
      "Validation Loss: 0.6104596058527628\n"
     ]
    }
   ],
   "source": [
    "# set initial loss to infinite\n",
    "best_valid_loss = float('inf')\n",
    "\n",
    "# empty lists to store training and validation loss of each epoch\n",
    "train_losses=[]\n",
    "valid_losses=[]\n",
    "\n",
    "#for each epoch\n",
    "for epoch in range(epochs):\n",
    "     \n",
    "    print('\\n Epoch {:} / {:}'.format(epoch + 1, epochs))\n",
    "    \n",
    "    #train model\n",
    "    train_loss, _ = train()\n",
    "    \n",
    "    #evaluate model\n",
    "    valid_loss, _ = evaluate()\n",
    "    \n",
    "    #save the best model\n",
    "    if valid_loss < best_valid_loss:\n",
    "        best_valid_loss = valid_loss\n",
    "        torch.save(model.state_dict(), 'saved_weights.pt')\n",
    "    \n",
    "    # append training and validation loss\n",
    "    train_losses.append(train_loss)\n",
    "    valid_losses.append(valid_loss)\n",
    "    \n",
    "    print('\\nTraining Loss: {}'.format(train_loss))\n",
    "    print('Validation Loss: {}'.format(valid_loss))"
   ]
  },
  {
   "cell_type": "code",
   "execution_count": 43,
   "id": "5af4312e",
   "metadata": {},
   "outputs": [
    {
     "data": {
      "text/plain": [
       "<All keys matched successfully>"
      ]
     },
     "execution_count": 43,
     "metadata": {},
     "output_type": "execute_result"
    }
   ],
   "source": [
    "#load weights of best model\n",
    "path = 'saved_weights.pt'\n",
    "model.load_state_dict(torch.load(path))"
   ]
  },
  {
   "cell_type": "code",
   "execution_count": 44,
   "id": "7598c691",
   "metadata": {},
   "outputs": [],
   "source": [
    "# get predictions for test data\n",
    "with torch.no_grad():\n",
    "  preds = model(test_seq.to(device), test_mask.to(device))\n",
    "  preds = preds.detach().cpu().numpy()"
   ]
  },
  {
   "cell_type": "code",
   "execution_count": 45,
   "id": "671e8a12",
   "metadata": {},
   "outputs": [
    {
     "name": "stdout",
     "output_type": "stream",
     "text": [
      "              precision    recall  f1-score   support\n",
      "\n",
      "           0       0.75      0.61      0.67       652\n",
      "           1       0.58      0.72      0.65       490\n",
      "\n",
      "    accuracy                           0.66      1142\n",
      "   macro avg       0.66      0.67      0.66      1142\n",
      "weighted avg       0.68      0.66      0.66      1142\n",
      "\n"
     ]
    }
   ],
   "source": [
    "pred = np.argmax(preds, axis = 1)\n",
    "print(metrics.classification_report(test_y, pred))"
   ]
  },
  {
   "cell_type": "code",
   "execution_count": 47,
   "id": "b69d4c7d",
   "metadata": {},
   "outputs": [],
   "source": [
    "tokens_test2 = tokenizer.batch_encode_plus(\n",
    "    test2.tolist(),\n",
    "    max_length = pad_len,\n",
    "    padding = True,\n",
    "    truncation = True\n",
    ")\n",
    "\n",
    "\n",
    "test_seq = torch.tensor(tokens_test2['input_ids'])\n",
    "test_mask = torch.tensor(tokens_test2['attention_mask'])\n"
   ]
  },
  {
   "cell_type": "code",
   "execution_count": 48,
   "id": "b9a9472f",
   "metadata": {},
   "outputs": [],
   "source": [
    "with torch.no_grad():\n",
    "  preds = model(test_seq.to(device), test_mask.to(device))\n",
    "  preds = preds.detach().cpu().numpy()"
   ]
  },
  {
   "cell_type": "code",
   "execution_count": 49,
   "id": "5220176b",
   "metadata": {},
   "outputs": [
    {
     "data": {
      "text/html": [
       "<div>\n",
       "<style scoped>\n",
       "    .dataframe tbody tr th:only-of-type {\n",
       "        vertical-align: middle;\n",
       "    }\n",
       "\n",
       "    .dataframe tbody tr th {\n",
       "        vertical-align: top;\n",
       "    }\n",
       "\n",
       "    .dataframe thead th {\n",
       "        text-align: right;\n",
       "    }\n",
       "</style>\n",
       "<table border=\"1\" class=\"dataframe\">\n",
       "  <thead>\n",
       "    <tr style=\"text-align: right;\">\n",
       "      <th></th>\n",
       "      <th>id</th>\n",
       "      <th>target</th>\n",
       "    </tr>\n",
       "  </thead>\n",
       "  <tbody>\n",
       "    <tr>\n",
       "      <th>0</th>\n",
       "      <td>0</td>\n",
       "      <td>1</td>\n",
       "    </tr>\n",
       "    <tr>\n",
       "      <th>1</th>\n",
       "      <td>2</td>\n",
       "      <td>1</td>\n",
       "    </tr>\n",
       "    <tr>\n",
       "      <th>2</th>\n",
       "      <td>3</td>\n",
       "      <td>0</td>\n",
       "    </tr>\n",
       "    <tr>\n",
       "      <th>3</th>\n",
       "      <td>9</td>\n",
       "      <td>1</td>\n",
       "    </tr>\n",
       "    <tr>\n",
       "      <th>4</th>\n",
       "      <td>11</td>\n",
       "      <td>1</td>\n",
       "    </tr>\n",
       "  </tbody>\n",
       "</table>\n",
       "</div>"
      ],
      "text/plain": [
       "   id  target\n",
       "0   0       1\n",
       "1   2       1\n",
       "2   3       0\n",
       "3   9       1\n",
       "4  11       1"
      ]
     },
     "execution_count": 49,
     "metadata": {},
     "output_type": "execute_result"
    }
   ],
   "source": [
    "yhat = np.argmax(preds, axis = 1)\n",
    "df_id = pd.DataFrame({'id':test['id']})\n",
    "df_mn = pd.DataFrame(yhat,columns=['target'])  \n",
    "df_mn = pd.concat([df_id, df_mn],axis=1)\n",
    "df_mn.head()"
   ]
  },
  {
   "cell_type": "code",
   "execution_count": 50,
   "id": "a359a27e",
   "metadata": {},
   "outputs": [],
   "source": [
    "df_mn.to_csv('target_berth.csv', index=False)"
   ]
  },
  {
   "cell_type": "markdown",
   "id": "08fbbaa0",
   "metadata": {},
   "source": [
    "## Using DEEP LEARNING"
   ]
  },
  {
   "cell_type": "code",
   "execution_count": 25,
   "id": "1162d1c6",
   "metadata": {},
   "outputs": [
    {
     "data": {
      "text/plain": [
       "(5709, 10002)"
      ]
     },
     "execution_count": 25,
     "metadata": {},
     "output_type": "execute_result"
    }
   ],
   "source": [
    "X = bow_train.toarray()\n",
    "X.shape"
   ]
  },
  {
   "cell_type": "code",
   "execution_count": 26,
   "id": "9a07d91c",
   "metadata": {},
   "outputs": [
    {
     "data": {
      "text/plain": [
       "(1904, 10002)"
      ]
     },
     "execution_count": 26,
     "metadata": {},
     "output_type": "execute_result"
    }
   ],
   "source": [
    "X2 = bow_test.toarray()\n",
    "X2.shape"
   ]
  },
  {
   "cell_type": "code",
   "execution_count": 27,
   "id": "74346e40",
   "metadata": {},
   "outputs": [
    {
     "data": {
      "text/plain": [
       "numpy.ndarray"
      ]
     },
     "execution_count": 27,
     "metadata": {},
     "output_type": "execute_result"
    }
   ],
   "source": [
    "type(X)"
   ]
  },
  {
   "cell_type": "code",
   "execution_count": 336,
   "id": "7c8f0b76",
   "metadata": {},
   "outputs": [],
   "source": [
    "model = None"
   ]
  },
  {
   "cell_type": "code",
   "execution_count": 337,
   "id": "5481568e",
   "metadata": {},
   "outputs": [],
   "source": [
    "import tensorflow as tf\n",
    "from tensorflow import keras\n",
    "from tensorflow.keras.models import Sequential\n",
    "from tensorflow.keras.layers import Embedding, LSTM, Dense, Dropout, BatchNormalization\n",
    "\n",
    "model = Sequential([\n",
    "    Dense(6, kernel_initializer='random_normal', activation='relu', input_shape=(10002,)),\n",
    "    #BatchNormalization(),\n",
    "    \n",
    "    Dropout(0.2),\n",
    "    \n",
    "    #Dense(256, kernel_initializer='random_normal', activation='relu'),\n",
    "    #BatchNormalization(),\n",
    "    \n",
    "    #Dropout(0.2),\n",
    "    \n",
    "    #Dense(512, kernel_initializer='random_normal', activation='relu'),\n",
    "    #BatchNormalization(),\n",
    "    \n",
    "    #Dropout(0.2),\n",
    "    \n",
    "    #Dense(256, kernel_initializer='random_normal', activation='relu'),\n",
    "    #BatchNormalization(),\n",
    "    \n",
    "    #Dropout(0.2),\n",
    "    \n",
    "    Dense(1, activation='sigmoid'),\n",
    "])\n",
    "\n",
    "\n",
    "# Compile the model with binary cross-entropy loss and Adam optimizer\n",
    "model.compile(loss='binary_crossentropy', optimizer='adam', metrics=['accuracy'])"
   ]
  },
  {
   "cell_type": "code",
   "execution_count": 338,
   "id": "cb962161",
   "metadata": {},
   "outputs": [
    {
     "name": "stdout",
     "output_type": "stream",
     "text": [
      "Model: \"sequential_63\"\n",
      "_________________________________________________________________\n",
      " Layer (type)                Output Shape              Param #   \n",
      "=================================================================\n",
      " dense_197 (Dense)           (None, 6)                 60018     \n",
      "                                                                 \n",
      " dropout_76 (Dropout)        (None, 6)                 0         \n",
      "                                                                 \n",
      " dense_198 (Dense)           (None, 1)                 7         \n",
      "                                                                 \n",
      "=================================================================\n",
      "Total params: 60,025\n",
      "Trainable params: 60,025\n",
      "Non-trainable params: 0\n",
      "_________________________________________________________________\n"
     ]
    }
   ],
   "source": [
    "model.summary()"
   ]
  },
  {
   "cell_type": "code",
   "execution_count": 339,
   "id": "aef59ff9",
   "metadata": {},
   "outputs": [
    {
     "name": "stdout",
     "output_type": "stream",
     "text": [
      "Epoch 1/10\n",
      "63/63 [==============================] - 1s 11ms/step - loss: 0.6807 - accuracy: 0.5906 - val_loss: 0.6606 - val_accuracy: 0.6643\n",
      "Epoch 2/10\n",
      "63/63 [==============================] - 1s 9ms/step - loss: 0.6298 - accuracy: 0.6977 - val_loss: 0.6203 - val_accuracy: 0.7157\n",
      "Epoch 3/10\n",
      "63/63 [==============================] - 1s 9ms/step - loss: 0.5621 - accuracy: 0.7725 - val_loss: 0.5742 - val_accuracy: 0.7572\n",
      "Epoch 4/10\n",
      "63/63 [==============================] - 1s 8ms/step - loss: 0.4909 - accuracy: 0.8191 - val_loss: 0.5379 - val_accuracy: 0.7723\n",
      "Epoch 5/10\n",
      "63/63 [==============================] - 1s 8ms/step - loss: 0.4288 - accuracy: 0.8481 - val_loss: 0.5127 - val_accuracy: 0.7840\n",
      "Epoch 6/10\n",
      "63/63 [==============================] - 0s 8ms/step - loss: 0.3758 - accuracy: 0.8766 - val_loss: 0.4954 - val_accuracy: 0.7922\n",
      "Epoch 7/10\n",
      "63/63 [==============================] - 0s 8ms/step - loss: 0.3366 - accuracy: 0.8949 - val_loss: 0.4861 - val_accuracy: 0.7928\n",
      "Epoch 8/10\n",
      "63/63 [==============================] - 1s 8ms/step - loss: 0.3032 - accuracy: 0.9047 - val_loss: 0.4804 - val_accuracy: 0.7945\n",
      "Epoch 9/10\n",
      "63/63 [==============================] - 0s 8ms/step - loss: 0.2724 - accuracy: 0.9172 - val_loss: 0.4794 - val_accuracy: 0.7852\n",
      "Epoch 10/10\n",
      "63/63 [==============================] - 0s 8ms/step - loss: 0.2487 - accuracy: 0.9242 - val_loss: 0.4804 - val_accuracy: 0.7887\n",
      "60/60 [==============================] - 0s 3ms/step - loss: 0.4740 - accuracy: 0.8030\n",
      "Test Accuracy: 0.8030462265014648\n"
     ]
    }
   ],
   "source": [
    "# Fit the model to the training data\n",
    "history = model.fit(X, y_train, epochs=10, batch_size=64, validation_split=0.3)\n",
    "\n",
    "# Evaluate the model on the test data\n",
    "loss, accuracy = model.evaluate(X2, y_test)\n",
    "print(f'Test Accuracy: {accuracy}')"
   ]
  },
  {
   "cell_type": "code",
   "execution_count": 340,
   "id": "f12070e4",
   "metadata": {},
   "outputs": [
    {
     "name": "stdout",
     "output_type": "stream",
     "text": [
      "60/60 [==============================] - 0s 3ms/step\n",
      "Predicted values: [[0.51684767]\n",
      " [0.32409495]\n",
      " [0.06326396]\n",
      " [0.02817363]\n",
      " [0.1759242 ]\n",
      " [0.12638249]\n",
      " [0.9734285 ]\n",
      " [0.20114607]\n",
      " [0.28026792]\n",
      " [0.04124923]]\n",
      "[1, 0, 0, 0, 0, 0, 1, 0, 0, 0, 0, 1, 0, 1, 0, 1, 0, 0, 0, 1, 0, 1, 1, 1, 1, 0, 1, 1, 0, 1, 1, 0, 1, 0, 1, 1, 1, 1, 1, 0, 0, 0, 0, 1, 0, 0, 1, 1, 0, 0, 0, 0, 1, 0, 0, 1, 0, 0, 0, 1, 0, 1, 0, 1, 0, 0, 1, 1, 1, 0, 0, 0, 0, 0, 1, 1, 0, 0, 1, 0, 1, 0, 1, 1, 0, 1, 0, 0, 0, 0, 0, 0, 0, 0, 1, 0, 0, 0, 1, 0, 0, 0, 0, 1, 0, 1, 1, 0, 0, 0, 0, 0, 0, 0, 0, 0, 0, 0, 0, 0, 1, 0, 0, 0, 1, 1, 1, 0, 1, 1, 1, 1, 0, 0, 0, 0, 0, 0, 0, 0, 0, 0, 0, 0, 0, 0, 1, 1, 1, 0, 0, 0, 0, 0, 0, 0, 0, 0, 0, 0, 0, 0, 1, 1, 0, 1, 1, 0, 1, 1, 1, 1, 1, 0, 1, 0, 0, 0, 0, 1, 0, 1, 1, 1, 0, 1, 0, 0, 1, 0, 1, 0, 1, 0, 1, 0, 0, 1, 1, 0, 0, 0, 0, 1, 0, 1, 0, 0, 0, 1, 0, 0, 0, 1, 0, 0, 0, 0, 0, 1, 1, 1, 1, 0, 0, 0, 1, 0, 0, 1, 0, 0, 0, 0, 1, 0, 1, 1, 0, 0, 0, 1, 0, 1, 1, 0, 1, 1, 0, 0, 1, 0, 1, 0, 1, 0, 0, 0, 0, 0, 0, 0, 0, 1, 0, 0, 0, 1, 0, 0, 1, 1, 0, 1, 0, 1, 0, 0, 1, 0, 0, 0, 1, 0, 1, 0, 1, 0, 0, 0, 1, 1, 1, 0, 1, 0, 0, 0, 0, 0, 0, 0, 0, 0, 0, 1, 0, 0, 1, 1, 0, 1, 1, 1, 0, 0, 0, 0, 0, 0, 0, 1, 0, 0, 0, 0, 0, 0, 1, 0, 1, 0, 0, 0, 0, 0, 0, 1, 1, 0, 0, 0, 0, 0, 1, 0, 0, 0, 1, 0, 0, 0, 0, 0, 0, 0, 0, 0, 0, 0, 0, 0, 0, 1, 0, 0, 0, 0, 0, 1, 1, 1, 1, 0, 0, 0, 0, 0, 1, 0, 1, 0, 1, 1, 0, 1, 0, 1, 0, 0, 0, 1, 1, 0, 0, 0, 0, 1, 1, 1, 0, 0, 0, 1, 1, 1, 0, 0, 0, 0, 0, 0, 1, 1, 1, 0, 0, 0, 0, 0, 0, 1, 0, 0, 1, 0, 0, 0, 0, 0, 0, 1, 0, 0, 1, 0, 0, 0, 0, 1, 0, 1, 0, 0, 0, 1, 1, 0, 0, 0, 0, 1, 0, 0, 1, 0, 0, 0, 1, 0, 1, 0, 0, 0, 0, 0, 0, 0, 1, 1, 0, 0, 0, 0, 0, 0, 1, 0, 0, 1, 1, 0, 0, 0, 0, 0, 0, 0, 0, 1, 1, 1, 0, 0, 1, 0, 0, 1, 0, 1, 0, 0, 0, 0, 0, 1, 1, 0, 0, 0, 0, 1, 0, 0, 1, 1, 0, 1, 0, 0, 0, 1, 0, 0, 0, 1, 1, 0, 0, 0, 0, 1, 0, 0, 0, 0, 0, 0, 0, 1, 0, 0, 1, 1, 1, 1, 1, 0, 1, 0, 0, 1, 0, 1, 0, 1, 0, 1, 1, 0, 0, 0, 0, 0, 0, 0, 0, 1, 1, 0, 1, 0, 1, 0, 0, 0, 0, 1, 1, 1, 0, 0, 0, 0, 0, 0, 0, 0, 0, 0, 0, 1, 1, 0, 1, 0, 1, 0, 0, 0, 0, 0, 1, 1, 1, 0, 0, 1, 1, 1, 0, 0, 0, 0, 0, 1, 0, 0, 0, 0, 1, 1, 1, 0, 0, 0, 0, 0, 0, 0, 0, 0, 1, 0, 1, 0, 0, 1, 0, 0, 0, 0, 0, 1, 1, 0, 1, 0, 1, 1, 0, 1, 0, 0, 0, 0, 0, 0, 0, 0, 0, 0, 0, 0, 0, 1, 0, 1, 0, 0, 1, 1, 0, 0, 0, 0, 0, 0, 0, 0, 0, 0, 0, 0, 0, 1, 0, 0, 0, 0, 0, 0, 1, 0, 0, 1, 1, 0, 1, 0, 0, 1, 0, 0, 0, 0, 1, 0, 0, 0, 0, 1, 0, 1, 0, 0, 0, 1, 0, 0, 1, 1, 0, 0, 0, 0, 0, 1, 0, 0, 0, 0, 0, 1, 0, 0, 1, 0, 0, 0, 1, 0, 0, 1, 1, 0, 0, 0, 1, 0, 0, 1, 1, 1, 1, 0, 1, 0, 1, 0, 0, 0, 0, 1, 1, 1, 0, 0, 1, 1, 0, 1, 1, 1, 0, 1, 0, 0, 0, 0, 0, 0, 0, 0, 0, 0, 1, 1, 0, 0, 0, 0, 0, 0, 0, 0, 1, 0, 0, 1, 1, 1, 1, 1, 1, 0, 0, 0, 0, 0, 0, 0, 1, 1, 0, 1, 0, 1, 1, 1, 0, 0, 0, 1, 1, 1, 0, 0, 1, 0, 0, 0, 1, 1, 1, 1, 0, 0, 1, 0, 0, 1, 0, 0, 1, 1, 0, 0, 0, 0, 1, 0, 1, 1, 0, 1, 0, 0, 1, 0, 0, 0, 0, 0, 0, 1, 0, 0, 0, 0, 0, 1, 0, 1, 0, 0, 0, 0, 0, 1, 0, 1, 0, 1, 0, 0, 1, 0, 0, 1, 0, 0, 0, 0, 1, 0, 0, 0, 0, 1, 0, 0, 0, 1, 0, 0, 0, 1, 1, 0, 0, 1, 0, 0, 1, 0, 1, 0, 0, 0, 1, 0, 0, 1, 0, 1, 0, 0, 0, 0, 1, 0, 1, 1, 0, 0, 0, 0, 1, 0, 0, 0, 0, 0, 1, 1, 0, 1, 1, 0, 0, 1, 0, 1, 1, 1, 0, 1, 0, 0, 0, 1, 0, 0, 0, 1, 0, 0, 0, 0, 0, 0, 0, 0, 0, 1, 0, 1, 0, 1, 0, 1, 1, 1, 0, 1, 0, 0, 1, 1, 0, 1, 0, 0, 1, 0, 1, 1, 0, 0, 0, 0, 0, 1, 0, 1, 1, 1, 0, 0, 1, 1, 0, 0, 0, 1, 0, 1, 0, 1, 1, 0, 0, 1, 1, 0, 0, 0, 1, 1, 1, 0, 1, 0, 1, 1, 0, 0, 1, 1, 1, 1, 0, 0, 1, 0, 0, 0, 1, 1, 1, 0, 1, 0, 0, 0, 1, 1, 1, 0, 0, 0, 1, 0, 1, 0, 0, 0, 0, 1, 0, 0, 0, 0, 1, 1, 0, 1, 0, 1, 0, 0, 1, 1, 0, 0, 0, 0, 1, 0, 1, 0, 0, 0, 0, 0, 0, 1, 0, 1, 0, 0, 0, 0, 0, 1, 1, 0, 0, 0, 1, 1, 0, 1, 1, 0, 1, 0, 1, 1, 0, 0, 1, 0, 0, 0, 0, 1, 1, 0, 0, 0, 0, 0, 1, 0, 0, 1, 1, 0, 0, 0, 1, 0, 1, 0, 0, 0, 0, 0, 0, 0, 0, 1, 1, 0, 1, 1, 1, 0, 0, 1, 0, 0, 0, 0, 0, 0, 1, 1, 0, 0, 0, 0, 0, 1, 0, 1, 1, 0, 1, 0, 0, 0, 1, 0, 1, 0, 0, 0, 1, 0, 0, 1, 0, 0, 1, 1, 1, 0, 1, 0, 0, 0, 0, 1, 0, 0, 0, 0, 0, 1, 1, 0, 1, 1, 1, 1, 0, 0, 1, 0, 0, 0, 1, 1, 0, 0, 0, 0, 0, 1, 0, 1, 1, 0, 0, 1, 0, 0, 1, 0, 0, 1, 0, 1, 1, 1, 0, 0, 0, 1, 0, 0, 0, 1, 0, 0, 0, 0, 0, 0, 1, 0, 1, 0, 0, 0, 0, 1, 1, 1, 1, 0, 1, 0, 0, 0, 1, 0, 1, 1, 0, 0, 0, 1, 1, 1, 0, 1, 0, 0, 0, 0, 0, 0, 1, 0, 0, 0, 0, 0, 0, 1, 1, 0, 1, 1, 1, 1, 0, 0, 0, 0, 1, 0, 1, 0, 0, 1, 0, 1, 0, 0, 0, 1, 0, 1, 1, 0, 0, 0, 1, 0, 0, 0, 1, 0, 0, 1, 0, 0, 0, 0, 0, 1, 1, 0, 0, 1, 1, 0, 0, 1, 0, 0, 1, 1, 0, 0, 1, 1, 0, 0, 1, 0, 0, 1, 1, 0, 0, 1, 0, 0, 0, 1, 0, 0, 1, 0, 0, 0, 1, 1, 0, 0, 1, 0, 0, 0, 0, 0, 1, 0, 0, 0, 0, 1, 0, 0, 0, 1, 1, 1, 0, 0, 0, 0, 1, 1, 1, 0, 0, 0, 0, 0, 1, 0, 0, 1, 1, 0, 0, 1, 1, 1, 0, 0, 0, 1, 0, 0, 0, 0, 0, 1, 0, 1, 0, 0, 1, 1, 0, 0, 1, 1, 0, 0, 1, 0, 0, 1, 0, 0, 0, 1, 0, 1, 0, 0, 1, 0, 0, 0, 1, 1, 1, 1, 0, 1, 1, 0, 1, 1, 0, 1, 0, 0, 0, 0, 0, 1, 0, 0, 0, 0, 0, 0, 1, 0, 0, 1, 1, 0, 1, 0, 0, 1, 1, 0, 0, 0, 1, 0, 0, 0, 0, 1, 1, 0, 0, 1, 0, 0, 0, 0, 1, 1, 1, 1, 1, 0, 0, 1, 1, 1, 1, 0, 0, 0, 1, 0, 1, 1, 1, 1, 0, 0, 0, 0, 0, 0, 0, 0, 0, 0, 0, 1, 0, 0, 0, 0, 1, 0, 0, 0, 0, 0, 1, 0, 0, 1, 1, 0, 0, 0, 1, 0, 0, 0, 0, 0, 0, 1, 1, 0, 0, 1, 0, 1, 1, 1, 0, 1, 0, 1, 1, 0, 0, 0, 0, 0, 1, 0, 0, 1, 0, 0, 0, 1, 0, 0, 0, 1, 0, 1, 0, 0, 0, 0, 0, 1, 0, 1, 1, 1, 0, 1, 0, 0, 0, 0, 1, 0, 1, 0, 1, 0, 1, 0, 0, 0, 1, 1, 0, 0, 1, 0, 1, 0, 0, 0, 0, 0, 1, 0, 0, 0, 0, 0, 1, 1, 1, 1, 0, 0, 0, 1, 0, 0, 1, 1, 0, 1, 0, 0, 1, 0, 1, 0, 0, 0, 0, 0, 0, 1, 0, 0, 0, 1, 0, 0, 0, 0, 0, 1, 1, 0, 0, 1, 1, 1, 0, 0, 1, 0, 1, 0, 0, 0, 1, 0, 0, 1, 0, 0, 0, 0, 0, 0, 0, 1, 0, 0, 1, 0, 0, 0, 0, 0, 0, 1, 0, 1, 0, 0, 0, 0, 1, 1, 0, 0, 0, 0, 0, 0, 0, 0, 0, 1, 0, 0, 1, 0, 0, 0, 1, 0, 0, 0, 1, 1, 1, 1, 1, 0, 1, 0, 0, 1, 1, 0, 0, 0, 0, 0, 0, 0, 1, 0, 0, 0, 0, 0, 0, 1, 1, 0, 0, 0, 0, 0, 1, 0, 1, 0, 0, 0, 1, 0, 0, 1, 1, 0, 0, 0, 1, 1, 1, 0, 0, 1, 0, 0, 0, 1, 0, 0, 0, 0, 1, 1, 1, 1, 0, 0, 1, 0, 1, 0, 0, 1, 0, 1, 0, 0, 1, 1, 0, 0, 1, 0, 0, 0, 0, 1, 1, 0, 0, 0, 0, 0, 0, 1, 1, 0, 0, 0, 0, 0, 0, 0, 0, 0, 1, 0, 0, 0, 1, 0, 0, 0, 0, 0, 0, 0, 0, 1, 0, 0, 1, 0, 1, 0, 0, 1, 0, 0, 0, 0, 1, 0, 1, 0, 1, 0, 0, 0, 1, 0, 0, 1, 0, 0, 0, 1, 1, 0, 0, 0, 0, 0, 0, 1]\n"
     ]
    }
   ],
   "source": [
    "# Make predictions\n",
    "yhat = model.predict(X2)\n",
    "yhat_class = [1 if x>=0.5 else 0 for x in yhat]\n",
    "print('Predicted values:', yhat[:10])\n",
    "print(yhat_class)"
   ]
  },
  {
   "cell_type": "code",
   "execution_count": 341,
   "id": "50ccf5f3",
   "metadata": {},
   "outputs": [
    {
     "data": {
      "text/plain": [
       "<tf.Tensor: shape=(2, 2), dtype=int32, numpy=\n",
       "array([[977, 109],\n",
       "       [266, 552]])>"
      ]
     },
     "execution_count": 341,
     "metadata": {},
     "output_type": "execute_result"
    }
   ],
   "source": [
    "tf.math.confusion_matrix(\n",
    "    labels=y_test,\n",
    "    predictions=yhat_class,\n",
    "    num_classes=2,)"
   ]
  },
  {
   "cell_type": "code",
   "execution_count": 342,
   "id": "9d504a9a",
   "metadata": {},
   "outputs": [
    {
     "name": "stdout",
     "output_type": "stream",
     "text": [
      "KNN's F1 Score:  0.746450304259635\n",
      "KNN's Specificity:  0.8996316758747698\n",
      "KNN's Sensitivity:  0.6748166259168704\n",
      "KNN's Precision:  0.8350983358547656\n",
      "KNN's Accuracy:  0.803046218487395\n",
      "KNN's Jaccard Score:  0.5954692556634305\n",
      "AUC: 0.78722415089582\n"
     ]
    }
   ],
   "source": [
    "Accuracy_dnn = metrics.accuracy_score(y_test, yhat_class)\n",
    "Precision_dnn = metrics.precision_score(y_test, yhat_class)\n",
    "Sensitivity_dnn = metrics.recall_score(y_test, yhat_class)\n",
    "Specificity_dnn = metrics.recall_score(y_test, yhat_class, pos_label=0)\n",
    "F1_score_dnn = metrics.f1_score(y_test, yhat_class)\n",
    "Jaccard_dnn = metrics.jaccard_score(y_test, yhat_class)\n",
    "roc_auc_dnn = metrics.roc_auc_score(y_test, yhat_class)\n",
    "print(\"KNN's F1 Score: \",F1_score_dnn)\n",
    "print(\"KNN's Specificity: \", Specificity_dnn)\n",
    "print(\"KNN's Sensitivity: \", Sensitivity_dnn)\n",
    "print(\"KNN's Precision: \", Precision_dnn)\n",
    "print(\"KNN's Accuracy: \", Accuracy_dnn)\n",
    "print(\"KNN's Jaccard Score: \", Jaccard_dnn)\n",
    "print('AUC:', roc_auc_dnn)"
   ]
  },
  {
   "cell_type": "code",
   "execution_count": 343,
   "id": "4ba63b16",
   "metadata": {},
   "outputs": [
    {
     "data": {
      "text/plain": [
       "numpy.ndarray"
      ]
     },
     "execution_count": 343,
     "metadata": {},
     "output_type": "execute_result"
    }
   ],
   "source": [
    "test_main = test3.toarray()\n",
    "type(test_main)"
   ]
  },
  {
   "cell_type": "code",
   "execution_count": 344,
   "id": "f316d540",
   "metadata": {},
   "outputs": [
    {
     "name": "stdout",
     "output_type": "stream",
     "text": [
      "102/102 [==============================] - 0s 3ms/step\n"
     ]
    },
    {
     "data": {
      "text/html": [
       "<div>\n",
       "<style scoped>\n",
       "    .dataframe tbody tr th:only-of-type {\n",
       "        vertical-align: middle;\n",
       "    }\n",
       "\n",
       "    .dataframe tbody tr th {\n",
       "        vertical-align: top;\n",
       "    }\n",
       "\n",
       "    .dataframe thead th {\n",
       "        text-align: right;\n",
       "    }\n",
       "</style>\n",
       "<table border=\"1\" class=\"dataframe\">\n",
       "  <thead>\n",
       "    <tr style=\"text-align: right;\">\n",
       "      <th></th>\n",
       "      <th>id</th>\n",
       "      <th>target</th>\n",
       "    </tr>\n",
       "  </thead>\n",
       "  <tbody>\n",
       "    <tr>\n",
       "      <th>0</th>\n",
       "      <td>0</td>\n",
       "      <td>1</td>\n",
       "    </tr>\n",
       "    <tr>\n",
       "      <th>1</th>\n",
       "      <td>2</td>\n",
       "      <td>1</td>\n",
       "    </tr>\n",
       "    <tr>\n",
       "      <th>2</th>\n",
       "      <td>3</td>\n",
       "      <td>1</td>\n",
       "    </tr>\n",
       "    <tr>\n",
       "      <th>3</th>\n",
       "      <td>9</td>\n",
       "      <td>1</td>\n",
       "    </tr>\n",
       "    <tr>\n",
       "      <th>4</th>\n",
       "      <td>11</td>\n",
       "      <td>1</td>\n",
       "    </tr>\n",
       "  </tbody>\n",
       "</table>\n",
       "</div>"
      ],
      "text/plain": [
       "   id  target\n",
       "0   0       1\n",
       "1   2       1\n",
       "2   3       1\n",
       "3   9       1\n",
       "4  11       1"
      ]
     },
     "execution_count": 344,
     "metadata": {},
     "output_type": "execute_result"
    }
   ],
   "source": [
    "preddp = model.predict(test_main)\n",
    "preddp = [1 if x>=0.5 else 0 for x in preddp]\n",
    "df_id = pd.DataFrame({'id':test['id']})\n",
    "df_tf = pd.DataFrame(preddp,columns=['target'])  \n",
    "df_tf = pd.concat([df_id, df_tf],axis=1)\n",
    "df_tf.head()"
   ]
  },
  {
   "cell_type": "code",
   "execution_count": 345,
   "id": "63b32576",
   "metadata": {},
   "outputs": [
    {
     "data": {
      "text/plain": [
       "target\n",
       "0    2112\n",
       "1    1151\n",
       "Name: count, dtype: int64"
      ]
     },
     "execution_count": 345,
     "metadata": {},
     "output_type": "execute_result"
    }
   ],
   "source": [
    "df_tf['target'].value_counts()"
   ]
  },
  {
   "cell_type": "code",
   "execution_count": 346,
   "id": "03c2a18b",
   "metadata": {},
   "outputs": [],
   "source": [
    "df_tf.to_csv('target_deep4.csv', index=False)"
   ]
  },
  {
   "cell_type": "code",
   "execution_count": null,
   "id": "fd1a064e",
   "metadata": {},
   "outputs": [],
   "source": []
  }
 ],
 "metadata": {
  "kernelspec": {
   "display_name": "Python 3 (ipykernel)",
   "language": "python",
   "name": "python3"
  },
  "language_info": {
   "codemirror_mode": {
    "name": "ipython",
    "version": 3
   },
   "file_extension": ".py",
   "mimetype": "text/x-python",
   "name": "python",
   "nbconvert_exporter": "python",
   "pygments_lexer": "ipython3",
   "version": "3.9.13"
  }
 },
 "nbformat": 4,
 "nbformat_minor": 5
}
